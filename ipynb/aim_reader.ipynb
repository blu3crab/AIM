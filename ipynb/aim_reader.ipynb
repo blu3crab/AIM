{
  "nbformat": 4,
  "nbformat_minor": 0,
  "metadata": {
    "colab": {
      "provenance": []
    },
    "kernelspec": {
      "name": "python3",
      "display_name": "Python 3"
    },
    "language_info": {
      "name": "python"
    }
  },
  "cells": [
    {
      "cell_type": "code",
      "execution_count": null,
      "metadata": {
        "colab": {
          "base_uri": "https://localhost:8080/"
        },
        "id": "Q56n6AxZO5yI",
        "outputId": "a5ceabe8-0c6e-42bc-f305-6df748630f3b"
      },
      "outputs": [
        {
          "output_type": "stream",
          "name": "stdout",
          "text": [
            "Mounted at /content/gdrive\n",
            "-rw------- 1 root root 18958 May 24 19:16 /content/gdrive/MyDrive/AIM/citizen_1864_xform0_carlv_bbox.pkl\n",
            "-rw------- 1 root root 19113 May 24 19:19 /content/gdrive/MyDrive/AIM/citizen_1864_xform1_carlv_bbox.pkl\n",
            "-rw------- 1 root root 15241 May 24 19:23 /content/gdrive/MyDrive/AIM/citizen_1864_xform2_carlv_bbox.pkl\n",
            "-rw------- 1 root root 19120 May 24 19:27 /content/gdrive/MyDrive/AIM/citizen_1864_xform3_carlv_bbox.pkl\n",
            "-rw------- 1 root root 12624 May 24 19:29 /content/gdrive/MyDrive/AIM/citizen_1864_xform4_carlv_bbox.pkl\n",
            "-rw------- 1 root root 19203 May 24 19:32 /content/gdrive/MyDrive/AIM/citizen_1864_xform5_carlv_bbox.pkl\n"
          ]
        }
      ],
      "source": [
        "# mount gdrive, add dir of interest to path, import gdrive python file(s)\n",
        "#\n",
        "from google.colab import drive\n",
        "import sys\n",
        "drive.mount('/content/gdrive')\n",
        "sys.path.append('/content/gdrive/MyDrive/AIM')\n",
        "!ls -l /content/gdrive/MyDrive/AIM/*.pkl\n",
        "import aim_util\n",
        "import aim_xformer"
      ]
    },
    {
      "cell_type": "code",
      "source": [
        "# define paths\n",
        "gdrive_path = '/content/gdrive/MyDrive/AIM/'\n",
        "base_name = 'citizen_1864_xform0_carlv'\n",
        "preds_path = gdrive_path + base_name + \"_bbox.pkl\"\n",
        "word_list_path = gdrive_path + base_name + \"_word_list.txt\"\n",
        "print(f\"preds_path->{preds_path}\\nword_list_path->{word_list_path}\")"
      ],
      "metadata": {
        "colab": {
          "base_uri": "https://localhost:8080/"
        },
        "id": "datf1mUtPgow",
        "outputId": "32cee45a-1a2b-462a-f1b5-a6ffd066ca09"
      },
      "execution_count": null,
      "outputs": [
        {
          "output_type": "stream",
          "name": "stdout",
          "text": [
            "preds_path->/content/gdrive/MyDrive/AIM/citizen_1864_xform0_carlv_bbox.pkl\n",
            "word_list_path->/content/gdrive/MyDrive/AIM/citizen_1864_xform0_carlv_word_list.txt\n"
          ]
        }
      ]
    },
    {
      "cell_type": "code",
      "source": [
        "# read preds\n",
        "\n",
        "preds_df = aim_util.read_from_pickle(preds_path)\n",
        "print(preds_df.head())\n"
      ],
      "metadata": {
        "colab": {
          "base_uri": "https://localhost:8080/"
        },
        "id": "iz12iFjvQnxg",
        "outputId": "467c901a-3d0d-45b9-dd39-dbbd6e939ac7"
      },
      "execution_count": null,
      "outputs": [
        {
          "output_type": "stream",
          "name": "stdout",
          "text": [
            "      word         UL_X        UL_Y         LL_X        LL_Y         LR_X  \\\n",
            "0        c    75.703125   39.843750   111.562500   39.843750   111.562500   \n",
            "1   united   628.225586  214.346313  1150.899780  204.390610  1152.918457   \n",
            "2   states  1207.265625  219.140625  1741.171875  219.140625  1741.171875   \n",
            "3  america  2018.740723  227.915924  2668.840332  216.306961  2670.604736   \n",
            "4       of  1785.000000  223.125000  1956.328125  223.125000  1956.328125   \n",
            "\n",
            "         LR_Y         UR_X        UR_Y  \n",
            "0   91.640625    75.703125   91.640625  \n",
            "1  310.374451   630.244263  320.330170  \n",
            "2  318.750000  1207.265625  318.750000  \n",
            "3  315.102203  2020.504883  326.711151  \n",
            "4  322.734375  1785.000000  322.734375  \n"
          ]
        }
      ]
    },
    {
      "cell_type": "code",
      "source": [
        "# read word list\n",
        "with open(word_list_path, 'r') as file:\n",
        "    word_list = file.read()\n",
        "print(word_list)"
      ],
      "metadata": {
        "colab": {
          "base_uri": "https://localhost:8080/"
        },
        "id": "AH3lb9XGRpN8",
        "outputId": "1e1278e2-7550-4c97-f611-7b0ac4550987"
      },
      "execution_count": null,
      "outputs": [
        {
          "output_type": "stream",
          "name": "stdout",
          "text": [
            "['united', 'states', 'of', 'america', 'luere', 'ralling', 'o', 'o', 'v', 'state', 'of', 'iowa', 'sss', 'co', 'scott', 'cunty', 'be', 'it', 'renteutbeted', 'that', 'at', 'e', 'term', 'or', 'the', 'district', 'court', 'holden', 'n', 'and', 'for', 'said', 'county', 'n', 'the', 'e', 'ovcm', 'elc', 'city', 'of', 'davenport', 'theein', 'on', 'the', 'day', 'of', 'in', 'the', 'year', 'of', 'our', 'lord', 'one', 'o', 'susty', 'thousand', 'eight', 'hundre', 'and', 'fuw', 'was', 'present', 'the', 'hororable', 'je', 'scott', 'richmany', 'sole', 'prsiding', 'judge', 'john', 'me', 'lyter', 'sheriff', 'of', 'said', 'county', 'and', 'ira', 't', 'gifford', 'clerk', 'of', 'said', 'court', 'whenthe', 'fol', 'v', 'anws', 'cans', 'olen', 'lowing', 'among', 'other', 'roceedings', 'were', 'had', 'towits', 's', 'a', 'native', 'of', 'a', 'loc', 'prcsens', 'resian', 'vltmm', 'said', 'stater', 'appeared', 'lile', 'open', 'cout', 'icctolente', 'be', 'aemitted', 'oeceme', 'v', 'a', 'citizen', 'of', 'thie', 'uited', 'states', 'oww', 'and', 'it', 'roadwo', 'appearing', 'to', 'cot', 'the', 'oo', 'satifaction', 'of', 'ssked', 'the', 'court', 'that', 'oouns', 'he', 'had', 'declaredn', 'oath', 'c', 'before', 'e', 'a', 'court', 'gf', 'record', 'heing', 'common', 'law', 'jurisdiction', 'and', 'using', 'cl', 'sal', 'two', 'years', 'at', 'least', 'before', 'his', 'admissions', 'that', 'it', 'e', 'was', 'bona', 'fide', 'his', 'inter', 'tion', 'to', 'become', 'a', 'citizen', 'of', 'the', 'united', 'states', 'and', 'to', 'renounce', 'forever', 'all', 'allegiance', 'to', 'cas', 'o', 'foreign', 'prince', 'potentater', 'state', 'or', 'sovereigntys', 'whatsoever', 'and', 'particularly', 'to', 'iw', 'wedens', 'o', 'subile', 'of', 'wh', 'he', 'was', 'heretofore', 'a', 'and', 'laid', 'applicant', 'having', 'declared', 'on', 'oath', 'before', 'this', 'co', 'court', 'that', 'he', 'will', 'support', 'the', 'constitution', 'of', 'the', 'united', 'statess', 'nd', 'that', 'he', 'doth', 'absolutely', 'and', 'entirely', 'renounce', 's', 'and', 'abjure', 'all', 'allegiance', 'and', 'fidelity', 'to', 'every', 'foreign', 'princer', 'poentater', 'state', 'or', 'sovereigntys', 'whatsoever', 'nd', 'pars', 'ticularly', 'to', 'the', 'power', 'above', 'named', 'the', 'court', 'being', 'satisfied', 'that', 'said', 'applicant', 'has', 'resided', 'within', 'the', 'united', 'o', 'states', 'for', 'the', 'term', 'offive', 'years', 'next', 'preceeding', 'his', 'admission', 'without', 'being', 'at', 'any', 'time', 'during', 'the', 'said', 'fre', 'years', 'out', 'of', 'the', 'territory', 'of', 'the', 'united', 'states', 'and', 'within', 'this', 'state', 'onc', 'year', 'at', 'leasty', 'and', 'it', 'further', 'appearing', 'to', 'the', 'n', 'n', 'satisfaction', 'of', 'this', 'court', 'that', 'during', 'that', 'time', 'he', 'has', 'behaved', 'as', 'a', 'man', 'of', 'good', 'moral', 'character', 'attached', 'to', 'the', 'n', 'constitution', 'of', 'the', 'united', 'states', 'and', 'well', 'disposed', 'to', 'the', 'good', 'order', 'and', 'happiness', 'of', 'the', 'same', 'thereuon', 'the', 'court', 'admitted', 'the', 'sald', 'applicant', 'to', 'become', 'a', 'citizen', 'of', 'tho', 'unitod', 'states', 'and', 'ordered', 'all', 'proceedings', 'aoresaid', 'eo', 'to', 'e', 'be', 'entere', 'dl', 'eeo', 'llic', 'cout', 's', 'y', 'testimotty', 'aleeon', 'l', 'ira', 'm', 'giffordy', 'olerk', 'of', 'the', 'court', 'aforesaul', 'have', 'si', 'hereto', 'set', 'my', 'hand', 'and', 'aflxed', 'the', 'seal', 'of', 'sauid', 'court', 'at', 'ofice', 'in', 'hes', 'city', 'e', 'of', 'dawenport', 'in', 'said', 'county', 'this', 'the', 'seen', 'day', 's', 'nnem', 'bes', 'in', 'the', 'year', 'of', 'ourlord', 'one', 'thousanl', 'eight', 'hundred', 'and', 'sixty', 'sangezc', 'clerk', 'f', 'district', 'court', 'n']\n"
          ]
        }
      ]
    },
    {
      "cell_type": "code",
      "source": [
        "word_list = aim_util.file_to_list(word_list_path)\n",
        "print(word_list)\n",
        "print(word_list[0])"
      ],
      "metadata": {
        "colab": {
          "base_uri": "https://localhost:8080/"
        },
        "id": "khgV2jGpVUT3",
        "outputId": "b96813ea-7feb-4c00-e51b-99d394fc84f7"
      },
      "execution_count": null,
      "outputs": [
        {
          "output_type": "stream",
          "name": "stdout",
          "text": [
            "['united', 'states', 'of', 'america', 'luere', 'ralling', 'o', 'o', 'v', 'state', 'of', 'iowa', 'sss', 'co', 'scott', 'cunty', 'be', 'it', 'renteutbeted', 'that', 'at', 'e', 'term', 'or', 'the', 'district', 'court', 'holden', 'n', 'and', 'for', 'said', 'county', 'n', 'the', 'e', 'ovcm', 'elc', 'city', 'of', 'davenport', 'theein', 'on', 'the', 'day', 'of', 'in', 'the', 'year', 'of', 'our', 'lord', 'one', 'o', 'susty', 'thousand', 'eight', 'hundre', 'and', 'fuw', 'was', 'present', 'the', 'hororable', 'je', 'scott', 'richmany', 'sole', 'prsiding', 'judge', 'john', 'me', 'lyter', 'sheriff', 'of', 'said', 'county', 'and', 'ira', 't', 'gifford', 'clerk', 'of', 'said', 'court', 'whenthe', 'fol', 'v', 'anws', 'cans', 'olen', 'lowing', 'among', 'other', 'roceedings', 'were', 'had', 'towits', 's', 'a', 'native', 'of', 'a', 'loc', 'prcsens', 'resian', 'vltmm', 'said', 'stater', 'appeared', 'lile', 'open', 'cout', 'icctolente', 'be', 'aemitted', 'oeceme', 'v', 'a', 'citizen', 'of', 'thie', 'uited', 'states', 'oww', 'and', 'it', 'roadwo', 'appearing', 'to', 'cot', 'the', 'oo', 'satifaction', 'of', 'ssked', 'the', 'court', 'that', 'oouns', 'he', 'had', 'declaredn', 'oath', 'c', 'before', 'e', 'a', 'court', 'gf', 'record', 'heing', 'common', 'law', 'jurisdiction', 'and', 'using', 'cl', 'sal', 'two', 'years', 'at', 'least', 'before', 'his', 'admissions', 'that', 'it', 'e', 'was', 'bona', 'fide', 'his', 'inter', 'tion', 'to', 'become', 'a', 'citizen', 'of', 'the', 'united', 'states', 'and', 'to', 'renounce', 'forever', 'all', 'allegiance', 'to', 'cas', 'o', 'foreign', 'prince', 'potentater', 'state', 'or', 'sovereigntys', 'whatsoever', 'and', 'particularly', 'to', 'iw', 'wedens', 'o', 'subile', 'of', 'wh', 'he', 'was', 'heretofore', 'a', 'and', 'laid', 'applicant', 'having', 'declared', 'on', 'oath', 'before', 'this', 'co', 'court', 'that', 'he', 'will', 'support', 'the', 'constitution', 'of', 'the', 'united', 'statess', 'nd', 'that', 'he', 'doth', 'absolutely', 'and', 'entirely', 'renounce', 's', 'and', 'abjure', 'all', 'allegiance', 'and', 'fidelity', 'to', 'every', 'foreign', 'princer', 'poentater', 'state', 'or', 'sovereigntys', 'whatsoever', 'nd', 'pars', 'ticularly', 'to', 'the', 'power', 'above', 'named', 'the', 'court', 'being', 'satisfied', 'that', 'said', 'applicant', 'has', 'resided', 'within', 'the', 'united', 'o', 'states', 'for', 'the', 'term', 'offive', 'years', 'next', 'preceeding', 'his', 'admission', 'without', 'being', 'at', 'any', 'time', 'during', 'the', 'said', 'fre', 'years', 'out', 'of', 'the', 'territory', 'of', 'the', 'united', 'states', 'and', 'within', 'this', 'state', 'onc', 'year', 'at', 'leasty', 'and', 'it', 'further', 'appearing', 'to', 'the', 'n', 'n', 'satisfaction', 'of', 'this', 'court', 'that', 'during', 'that', 'time', 'he', 'has', 'behaved', 'as', 'a', 'man', 'of', 'good', 'moral', 'character', 'attached', 'to', 'the', 'n', 'constitution', 'of', 'the', 'united', 'states', 'and', 'well', 'disposed', 'to', 'the', 'good', 'order', 'and', 'happiness', 'of', 'the', 'same', 'thereuon', 'the', 'court', 'admitted', 'the', 'sald', 'applicant', 'to', 'become', 'a', 'citizen', 'of', 'tho', 'unitod', 'states', 'and', 'ordered', 'all', 'proceedings', 'aoresaid', 'eo', 'to', 'e', 'be', 'entere', 'dl', 'eeo', 'llic', 'cout', 's', 'y', 'testimotty', 'aleeon', 'l', 'ira', 'm', 'giffordy', 'olerk', 'of', 'the', 'court', 'aforesaul', 'have', 'si', 'hereto', 'set', 'my', 'hand', 'and', 'aflxed', 'the', 'seal', 'of', 'sauid', 'court', 'at', 'ofice', 'in', 'hes', 'city', 'e', 'of', 'dawenport', 'in', 'said', 'county', 'this', 'the', 'seen', 'day', 's', 'nnem', 'bes', 'in', 'the', 'year', 'of', 'ourlord', 'one', 'thousanl', 'eight', 'hundred', 'and', 'sixty', 'sangezc', 'clerk', 'f', 'district', 'court', 'n']\n",
            "united\n"
          ]
        }
      ]
    },
    {
      "cell_type": "code",
      "source": [
        "# remove small word fragments from word list\n",
        "TRIM_LESS_THAN = 1\n",
        "trim_list = []\n",
        "remove_list = []\n",
        "# for word in word_list:\n",
        "for i in range(len(word_list)):\n",
        "  #print(f\"word->{word_list[i]}, len={len(word_list[i])}\")\n",
        "  if len(word_list[i]) > TRIM_LESS_THAN:\n",
        "    trim_list.append(word_list[i])\n",
        "  else:\n",
        "    remove_list.append(word_list[i])\n",
        "print(trim_list)\n",
        "print(remove_list)"
      ],
      "metadata": {
        "colab": {
          "base_uri": "https://localhost:8080/"
        },
        "id": "OIW9CgNaR5e1",
        "outputId": "1e879c60-25b7-4130-ec67-bf5b23cc8425"
      },
      "execution_count": null,
      "outputs": [
        {
          "output_type": "stream",
          "name": "stdout",
          "text": [
            "['united', 'states', 'of', 'america', 'luere', 'ralling', 'state', 'of', 'iowa', 'sss', 'co', 'scott', 'cunty', 'be', 'it', 'renteutbeted', 'that', 'at', 'term', 'or', 'the', 'district', 'court', 'holden', 'and', 'for', 'said', 'county', 'the', 'ovcm', 'elc', 'city', 'of', 'davenport', 'theein', 'on', 'the', 'day', 'of', 'in', 'the', 'year', 'of', 'our', 'lord', 'one', 'susty', 'thousand', 'eight', 'hundre', 'and', 'fuw', 'was', 'present', 'the', 'hororable', 'je', 'scott', 'richmany', 'sole', 'prsiding', 'judge', 'john', 'me', 'lyter', 'sheriff', 'of', 'said', 'county', 'and', 'ira', 'gifford', 'clerk', 'of', 'said', 'court', 'whenthe', 'fol', 'anws', 'cans', 'olen', 'lowing', 'among', 'other', 'roceedings', 'were', 'had', 'towits', 'native', 'of', 'loc', 'prcsens', 'resian', 'vltmm', 'said', 'stater', 'appeared', 'lile', 'open', 'cout', 'icctolente', 'be', 'aemitted', 'oeceme', 'citizen', 'of', 'thie', 'uited', 'states', 'oww', 'and', 'it', 'roadwo', 'appearing', 'to', 'cot', 'the', 'oo', 'satifaction', 'of', 'ssked', 'the', 'court', 'that', 'oouns', 'he', 'had', 'declaredn', 'oath', 'before', 'court', 'gf', 'record', 'heing', 'common', 'law', 'jurisdiction', 'and', 'using', 'cl', 'sal', 'two', 'years', 'at', 'least', 'before', 'his', 'admissions', 'that', 'it', 'was', 'bona', 'fide', 'his', 'inter', 'tion', 'to', 'become', 'citizen', 'of', 'the', 'united', 'states', 'and', 'to', 'renounce', 'forever', 'all', 'allegiance', 'to', 'cas', 'foreign', 'prince', 'potentater', 'state', 'or', 'sovereigntys', 'whatsoever', 'and', 'particularly', 'to', 'iw', 'wedens', 'subile', 'of', 'wh', 'he', 'was', 'heretofore', 'and', 'laid', 'applicant', 'having', 'declared', 'on', 'oath', 'before', 'this', 'co', 'court', 'that', 'he', 'will', 'support', 'the', 'constitution', 'of', 'the', 'united', 'statess', 'nd', 'that', 'he', 'doth', 'absolutely', 'and', 'entirely', 'renounce', 'and', 'abjure', 'all', 'allegiance', 'and', 'fidelity', 'to', 'every', 'foreign', 'princer', 'poentater', 'state', 'or', 'sovereigntys', 'whatsoever', 'nd', 'pars', 'ticularly', 'to', 'the', 'power', 'above', 'named', 'the', 'court', 'being', 'satisfied', 'that', 'said', 'applicant', 'has', 'resided', 'within', 'the', 'united', 'states', 'for', 'the', 'term', 'offive', 'years', 'next', 'preceeding', 'his', 'admission', 'without', 'being', 'at', 'any', 'time', 'during', 'the', 'said', 'fre', 'years', 'out', 'of', 'the', 'territory', 'of', 'the', 'united', 'states', 'and', 'within', 'this', 'state', 'onc', 'year', 'at', 'leasty', 'and', 'it', 'further', 'appearing', 'to', 'the', 'satisfaction', 'of', 'this', 'court', 'that', 'during', 'that', 'time', 'he', 'has', 'behaved', 'as', 'man', 'of', 'good', 'moral', 'character', 'attached', 'to', 'the', 'constitution', 'of', 'the', 'united', 'states', 'and', 'well', 'disposed', 'to', 'the', 'good', 'order', 'and', 'happiness', 'of', 'the', 'same', 'thereuon', 'the', 'court', 'admitted', 'the', 'sald', 'applicant', 'to', 'become', 'citizen', 'of', 'tho', 'unitod', 'states', 'and', 'ordered', 'all', 'proceedings', 'aoresaid', 'eo', 'to', 'be', 'entere', 'dl', 'eeo', 'llic', 'cout', 'testimotty', 'aleeon', 'ira', 'giffordy', 'olerk', 'of', 'the', 'court', 'aforesaul', 'have', 'si', 'hereto', 'set', 'my', 'hand', 'and', 'aflxed', 'the', 'seal', 'of', 'sauid', 'court', 'at', 'ofice', 'in', 'hes', 'city', 'of', 'dawenport', 'in', 'said', 'county', 'this', 'the', 'seen', 'day', 'nnem', 'bes', 'in', 'the', 'year', 'of', 'ourlord', 'one', 'thousanl', 'eight', 'hundred', 'and', 'sixty', 'sangezc', 'clerk', 'district', 'court']\n",
            "['o', 'o', 'v', 'e', 'n', 'n', 'e', 'o', 't', 'v', 's', 'a', 'a', 'v', 'a', 'c', 'e', 'a', 'e', 'a', 'o', 'o', 'a', 's', 'o', 'n', 'n', 'a', 'n', 'a', 'e', 's', 'y', 'l', 'm', 'e', 's', 'f', 'n']\n"
          ]
        }
      ]
    },
    {
      "cell_type": "code",
      "source": [
        "# iterate through word list finding associated bbox to test if new line should be inserted (bbox left of prev bbox)\n",
        "# for word in ordered list:\n",
        "for i in range(len(trim_list)):\n",
        "    # find associated bbox in unordered preds\n",
        "    print(preds_df.loc[preds_df['word'] == trim_list[i]])\n",
        "    if i == 2:\n",
        "        break"
      ],
      "metadata": {
        "colab": {
          "base_uri": "https://localhost:8080/"
        },
        "id": "BEXZL-uKb9_8",
        "outputId": "e2ff82c4-6690-4468-d0d3-703bf8e41889"
      },
      "execution_count": null,
      "outputs": [
        {
          "output_type": "stream",
          "name": "stdout",
          "text": [
            "       word         UL_X         UL_Y         LL_X         LL_Y         LR_X  \\\n",
            "1    united   628.225586   214.346313  1150.899780   204.390610  1152.918457   \n",
            "170  united  1557.890625  2239.218750  1685.390625  2239.218750  1685.390625   \n",
            "233  united  1490.156250  2573.906250  1621.640625  2573.906250  1621.640625   \n",
            "260  united  2585.859375  2697.421875  2725.312500  2697.421875  2725.312500   \n",
            "313  united  1000.078125  2868.750000  1143.515625  2868.750000  1143.515625   \n",
            "362  united   856.640625  3024.140625   996.093750  3024.140625   996.093750   \n",
            "\n",
            "            LR_Y         UR_X         UR_Y  \n",
            "1     310.374451   630.244263   320.330170  \n",
            "170  2283.046875  1557.890625  2283.046875  \n",
            "233  2617.734375  1490.156250  2617.734375  \n",
            "260  2737.265625  2585.859375  2737.265625  \n",
            "313  2920.546875  1000.078125  2920.546875  \n",
            "362  3075.937500   856.640625  3075.937500  \n",
            "       word         UL_X         UL_Y         LL_X         LL_Y         LR_X  \\\n",
            "2    states  1207.265625   219.140625  1741.171875   219.140625  1741.171875   \n",
            "125  states  1083.750000  2020.078125  1239.140625  2020.078125  1239.140625   \n",
            "174  states  1693.568726  2240.796143  1804.465942  2250.439453  1800.817871   \n",
            "284  states   542.245239  2779.524658   659.396423  2787.334961   656.381775   \n",
            "314  states  1151.736938  2867.434082  1288.792236  2873.960693  1286.655884   \n",
            "363  states  1004.256592  3022.498779  1141.211182  3027.221680  1139.512329   \n",
            "371  states  1832.812500  3083.906250  1964.296875  3083.906250  1964.296875   \n",
            "\n",
            "            LR_Y         UR_X         UR_Y  \n",
            "2     318.750000  1207.265625   318.750000  \n",
            "125  2063.906250  1083.750000  2063.906250  \n",
            "174  2292.391113  1689.920654  2282.747803  \n",
            "284  2832.555908   539.230591  2824.745850  \n",
            "314  2918.825439  1149.600586  2912.298584  \n",
            "363  3076.486816  1002.557678  3071.764160  \n",
            "371  3127.734375  1832.812500  3127.734375  \n",
            "    word         UL_X         UL_Y         LL_X         LL_Y         LR_X  \\\n",
            "4     of  1785.000000   223.125000  1956.328125   223.125000  1956.328125   \n",
            "12    of   884.531250  1326.796875   980.156250  1326.796875   980.156250   \n",
            "40    of  1573.828125  1581.796875  1625.625000  1581.796875  1625.625000   \n",
            "44    of  2398.593750  1585.781250  2446.406250  1585.781250  2446.406250   \n",
            "46    of   633.515625  1589.765625   677.343750  1589.765625   677.343750   \n",
            "73    of  1255.078125  1733.203125  1302.890625  1733.203125  1302.890625   \n",
            "80    of  2191.406250  1733.203125  2243.203125  1733.203125  2243.203125   \n",
            "101   of   709.218750  1888.593750   757.031250  1888.593750   757.031250   \n",
            "123   of  1900.546875  2016.093750  1948.359375  2016.093750  1948.359375   \n",
            "134   of   772.968750  2028.046875   832.734375  2028.046875   832.734375   \n",
            "172   of  1430.390625  2243.203125  1478.203125  2243.203125  1478.203125   \n",
            "217   of   545.859375  2498.203125   589.687500  2498.203125   589.687500   \n",
            "232   of  1354.687500  2573.906250  1402.500000  2573.906250  1402.500000   \n",
            "308   of   605.625000  2860.781250   649.453125  2860.781250   649.453125   \n",
            "319   of   872.578125  2872.734375   916.406250  2872.734375   916.406250   \n",
            "331   of  1924.453125  2932.500000  1972.265625  2932.500000  1972.265625   \n",
            "333   of   725.156250  2940.468750   772.968750  2940.468750   772.968750   \n",
            "347   of  2167.500000  2996.250000  2219.296875  2996.250000  2219.296875   \n",
            "354   of   737.109375  3016.171875   784.921875  3016.171875   784.921875   \n",
            "374   of  1557.890625  3091.875000  1605.703125  3091.875000  1605.703125   \n",
            "396   of  2211.328125  3223.359375  2259.140625  3223.359375  2259.140625   \n",
            "410   of  2123.671875  3299.062500  2171.484375  3299.062500  2171.484375   \n",
            "430   of  1330.781250  3398.671875  1382.578125  3398.671875  1382.578125   \n",
            "437   of  2155.546875  3470.390625  2203.359375  3470.390625  2203.359375   \n",
            "\n",
            "            LR_Y         UR_X         UR_Y  \n",
            "4     322.734375  1785.000000   322.734375  \n",
            "12   1398.515625   884.531250  1398.515625  \n",
            "40   1621.640625  1573.828125  1621.640625  \n",
            "44   1625.625000  2398.593750  1625.625000  \n",
            "46   1633.593750   633.515625  1633.593750  \n",
            "73   1777.031250  1255.078125  1777.031250  \n",
            "80   1773.046875  2191.406250  1773.046875  \n",
            "101  1932.421875   709.218750  1932.421875  \n",
            "123  2055.937500  1900.546875  2055.937500  \n",
            "134  2067.890625   772.968750  2067.890625  \n",
            "172  2283.046875  1430.390625  2283.046875  \n",
            "217  2538.046875   545.859375  2538.046875  \n",
            "232  2617.734375  1354.687500  2617.734375  \n",
            "308  2900.625000   605.625000  2900.625000  \n",
            "319  2916.562500   872.578125  2916.562500  \n",
            "331  2976.328125  1924.453125  2976.328125  \n",
            "333  2980.312500   725.156250  2980.312500  \n",
            "347  3036.093750  2167.500000  3036.093750  \n",
            "354  3060.000000   737.109375  3060.000000  \n",
            "374  3135.703125  1557.890625  3135.703125  \n",
            "396  3267.187500  2211.328125  3267.187500  \n",
            "410  3342.890625  2123.671875  3342.890625  \n",
            "430  3442.500000  1330.781250  3442.500000  \n",
            "437  3514.218750  2155.546875  3514.218750  \n"
          ]
        }
      ]
    }
  ]
}