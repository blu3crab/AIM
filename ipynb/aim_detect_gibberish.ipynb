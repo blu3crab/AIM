{
  "nbformat": 4,
  "nbformat_minor": 0,
  "metadata": {
    "colab": {
      "provenance": []
    },
    "kernelspec": {
      "name": "python3",
      "display_name": "Python 3"
    },
    "language_info": {
      "name": "python"
    }
  },
  "cells": [
    {
      "cell_type": "code",
      "source": [
        "!pip install gibberish_detector"
      ],
      "metadata": {
        "id": "QdW8U4Hw62Vs"
      },
      "execution_count": null,
      "outputs": []
    },
    {
      "cell_type": "code",
      "execution_count": null,
      "metadata": {
        "id": "gNQBp9lw6rov"
      },
      "outputs": [],
      "source": [
        "from gibberish_detector import detector\n",
        "Detector = detector.create_from_model('big.model')\n",
        "print(Detector.is_gibberish('ertrjiloifdfyyoiu'))"
      ]
    },
    {
      "cell_type": "code",
      "source": [
        "!pip install nostril"
      ],
      "metadata": {
        "colab": {
          "base_uri": "https://localhost:8080/"
        },
        "id": "lOa9IGeL8F4C",
        "outputId": "8a7037b2-4714-4d1b-cb5a-e67b8def85ad"
      },
      "execution_count": null,
      "outputs": [
        {
          "output_type": "stream",
          "name": "stdout",
          "text": [
            "Collecting nostril\n",
            "  Downloading nostril-0.1.1.tar.gz (1.6 kB)\n",
            "  Preparing metadata (setup.py) ... \u001b[?25l\u001b[?25hdone\n",
            "Collecting nose (from nostril)\n",
            "  Downloading nose-1.3.7-py3-none-any.whl (154 kB)\n",
            "\u001b[2K     \u001b[90m━━━━━━━━━━━━━━━━━━━━━━━━━━━━━━━━━━━━━━━━\u001b[0m \u001b[32m154.7/154.7 kB\u001b[0m \u001b[31m3.0 MB/s\u001b[0m eta \u001b[36m0:00:00\u001b[0m\n",
            "\u001b[?25hBuilding wheels for collected packages: nostril\n",
            "  Building wheel for nostril (setup.py) ... \u001b[?25l\u001b[?25hdone\n",
            "  Created wheel for nostril: filename=nostril-0.1.1-py3-none-any.whl size=2021 sha256=71f85e789fa1b34f9383b2853c7d8b64381cf86e426875c57289b529b2795b5e\n",
            "  Stored in directory: /root/.cache/pip/wheels/5b/a4/7a/2d2916dd910ee854e8b5fbcc5f1f03d84cabd9c476da35a798\n",
            "Successfully built nostril\n",
            "Installing collected packages: nose, nostril\n",
            "Successfully installed nose-1.3.7 nostril-0.1.1\n"
          ]
        }
      ]
    },
    {
      "cell_type": "code",
      "source": [
        "!pip3 install git+https://github.com/casics/nostril.git"
      ],
      "metadata": {
        "colab": {
          "base_uri": "https://localhost:8080/",
          "height": 596
        },
        "id": "YnHaPbt_8ilm",
        "outputId": "2a07a394-8e75-4dfe-dc5f-28d6ee979e79"
      },
      "execution_count": null,
      "outputs": [
        {
          "output_type": "stream",
          "name": "stdout",
          "text": [
            "Collecting git+https://github.com/casics/nostril.git\n",
            "  Cloning https://github.com/casics/nostril.git to /tmp/pip-req-build-gp4r94cu\n",
            "  Running command git clone --filter=blob:none --quiet https://github.com/casics/nostril.git /tmp/pip-req-build-gp4r94cu\n",
            "  Resolved https://github.com/casics/nostril.git to commit fbc0c91249283a9fbc9036206391ce1138826fd3\n",
            "  Preparing metadata (setup.py) ... \u001b[?25l\u001b[?25hdone\n",
            "Collecting plac>=0.9.1 (from nostril==1.2.0)\n",
            "  Downloading plac-1.4.3-py2.py3-none-any.whl (22 kB)\n",
            "Requirement already satisfied: tabulate>=0.7.7 in /usr/local/lib/python3.10/dist-packages (from nostril==1.2.0) (0.9.0)\n",
            "Requirement already satisfied: humanize>=0.5.1 in /usr/local/lib/python3.10/dist-packages (from nostril==1.2.0) (4.7.0)\n",
            "Requirement already satisfied: pytest>=3.0.5 in /usr/local/lib/python3.10/dist-packages (from nostril==1.2.0) (7.4.4)\n",
            "Requirement already satisfied: iniconfig in /usr/local/lib/python3.10/dist-packages (from pytest>=3.0.5->nostril==1.2.0) (2.0.0)\n",
            "Requirement already satisfied: packaging in /usr/local/lib/python3.10/dist-packages (from pytest>=3.0.5->nostril==1.2.0) (24.0)\n",
            "Requirement already satisfied: pluggy<2.0,>=0.12 in /usr/local/lib/python3.10/dist-packages (from pytest>=3.0.5->nostril==1.2.0) (1.5.0)\n",
            "Requirement already satisfied: exceptiongroup>=1.0.0rc8 in /usr/local/lib/python3.10/dist-packages (from pytest>=3.0.5->nostril==1.2.0) (1.2.1)\n",
            "Requirement already satisfied: tomli>=1.0.0 in /usr/local/lib/python3.10/dist-packages (from pytest>=3.0.5->nostril==1.2.0) (2.0.1)\n",
            "Building wheels for collected packages: nostril\n",
            "  Building wheel for nostril (setup.py) ... \u001b[?25l\u001b[?25hdone\n",
            "  Created wheel for nostril: filename=nostril-1.2.0-py3-none-any.whl size=5765786 sha256=b30f735aa6b7496cd44d8ff14f04506eb1c85057559643ea8b1a10c4ab2cefd5\n",
            "  Stored in directory: /tmp/pip-ephem-wheel-cache-ynn57x8a/wheels/de/3e/43/5b766704a7dbffce33fcbd15a63a9919cb9cc743e04780b9d6\n",
            "Successfully built nostril\n",
            "Installing collected packages: plac, nostril\n",
            "  Attempting uninstall: nostril\n",
            "    Found existing installation: nostril 0.1.1\n",
            "    Uninstalling nostril-0.1.1:\n",
            "      Successfully uninstalled nostril-0.1.1\n",
            "Successfully installed nostril-1.2.0 plac-1.4.3\n"
          ]
        },
        {
          "output_type": "display_data",
          "data": {
            "application/vnd.colab-display-data+json": {
              "pip_warning": {
                "packages": [
                  "nostril"
                ]
              },
              "id": "d6eef1386caf4e37aa1ca5eb5f4a1ce4"
            }
          },
          "metadata": {}
        }
      ]
    },
    {
      "cell_type": "code",
      "source": [
        "from nostril import nonsense\n",
        "real_test = ['bunchofwords', 'getint', 'xywinlist', 'ioFlXFndrInfo',\n",
        "             'DMEcalPreshowerDigis', 'httpredaksikatakamiwordpresscom']\n",
        "junk_test = ['faiwtlwexu', 'asfgtqwafazfyiur', 'zxcvbnmlkjhgfdsaqwerty']\n",
        "for s in real_test + junk_test:\n",
        "    print('{}: {}'.format(s, 'nonsense' if nonsense(s) else 'real'))"
      ],
      "metadata": {
        "colab": {
          "base_uri": "https://localhost:8080/"
        },
        "id": "tuMDUD1d77Ld",
        "outputId": "b691e114-643c-473a-d5f9-159836025b4d"
      },
      "execution_count": null,
      "outputs": [
        {
          "output_type": "stream",
          "name": "stdout",
          "text": [
            "bunchofwords: real\n",
            "getint: real\n",
            "xywinlist: real\n",
            "ioFlXFndrInfo: real\n",
            "DMEcalPreshowerDigis: real\n",
            "httpredaksikatakamiwordpresscom: real\n",
            "faiwtlwexu: nonsense\n",
            "asfgtqwafazfyiur: nonsense\n",
            "zxcvbnmlkjhgfdsaqwerty: nonsense\n"
          ]
        }
      ]
    },
    {
      "cell_type": "code",
      "source": [
        "pred_list = ['united', 'states', 'of', 'america', 'luere', 'ralling', 'o', 'o', 'v', 'state', 'of', 'iowa', 'sss', 'co', 'scott', 'cunty', 'be', 'it', 'renteutbeted', 'that', 'at', 'e', 'term', 'or', 'the', 'district', 'court', 'holden', 'n', 'and', 'for', 'said', 'county', 'n', 'the', 'e', 'ovcm', 'elc', 'city', 'of', 'davenport', 'theein', 'on', 'the', 'day', 'of', 'in', 'the', 'year', 'of', 'our', 'lord', 'one', 'o', 'susty', 'thousand', 'eight', 'hundre', 'and', 'fuw', 'was', 'present', 'the', 'hororable', 'je', 'scott', 'richmany', 'sole', 'prsiding', 'judge', 'john', 'me', 'lyter', 'sheriff', 'of', 'said', 'county', 'and', 'ira', 't', 'gifford', 'clerk', 'of', 'said', 'court', 'whenthe', 'fol', 'v', 'anws', 'cans', 'olen', 'lowing', 'among', 'other', 'roceedings', 'were', 'had', 'towits', 's', 'a', 'native', 'of', 'a', 'loc', 'prcsens', 'resian', 'vltmm', 'said', 'stater', 'appeared', 'lile', 'open', 'cout', 'icctolente', 'be', 'aemitted', 'oeceme', 'v', 'a', 'citizen', 'of', 'thie', 'uited', 'states', 'oww', 'and', 'it', 'roadwo', 'appearing', 'to', 'cot', 'the', 'oo', 'satifaction', 'of', 'ssked', 'the', 'court', 'that', 'oouns', 'he', 'had', 'declaredn', 'oath', 'c', 'before', 'e', 'a', 'court', 'gf', 'record', 'heing', 'common', 'law', 'jurisdiction', 'and', 'using', 'cl', 'sal', 'two', 'years', 'at', 'least', 'before', 'his', 'admissions', 'that', 'it', 'e', 'was', 'bona', 'fide', 'his', 'inter', 'tion', 'to', 'become', 'a', 'citizen', 'of', 'the', 'united', 'states', 'and', 'to', 'renounce', 'forever', 'all', 'allegiance', 'to', 'cas', 'o', 'foreign', 'prince', 'potentater', 'state', 'or', 'sovereigntys', 'whatsoever', 'and', 'particularly', 'to', 'iw', 'wedens', 'o', 'subile', 'of', 'wh', 'he', 'was', 'heretofore', 'a', 'and', 'laid', 'applicant', 'having', 'declared', 'on', 'oath', 'before', 'this', 'co', 'court', 'that', 'he', 'will', 'support', 'the', 'constitution', 'of', 'the', 'united', 'statess', 'nd', 'that', 'he', 'doth', 'absolutely', 'and', 'entirely', 'renounce', 's', 'and', 'abjure', 'all', 'allegiance', 'and', 'fidelity', 'to', 'every', 'foreign', 'princer', 'poentater', 'state', 'or', 'sovereigntys', 'whatsoever', 'nd', 'pars', 'ticularly', 'to', 'the', 'power', 'above', 'named', 'the', 'court', 'being', 'satisfied', 'that', 'said', 'applicant', 'has', 'resided', 'within', 'the', 'united', 'o', 'states', 'for', 'the', 'term', 'offive', 'years', 'next', 'preceeding', 'his', 'admission', 'without', 'being', 'at', 'any', 'time', 'during', 'the', 'said', 'fre', 'years', 'out', 'of', 'the', 'territory', 'of', 'the', 'united', 'states', 'and', 'within', 'this', 'state', 'onc', 'year', 'at', 'leasty', 'and', 'it', 'further', 'appearing', 'to', 'the', 'n', 'n', 'satisfaction', 'of', 'this', 'court', 'that', 'during', 'that', 'time', 'he', 'has', 'behaved', 'as', 'a', 'man', 'of', 'good', 'moral', 'character', 'attached', 'to', 'the', 'n', 'constitution', 'of', 'the', 'united', 'states', 'and', 'well', 'disposed', 'to', 'the', 'good', 'order', 'and', 'happiness', 'of', 'the', 'same', 'thereuon', 'the', 'court', 'admitted', 'the', 'sald', 'applicant', 'to', 'become', 'a', 'citizen', 'of', 'tho', 'unitod', 'states', 'and', 'ordered', 'all', 'proceedings', 'aoresaid', 'eo', 'to', 'e', 'be', 'entere', 'dl', 'eeo', 'llic', 'cout', 's', 'y', 'testimotty', 'aleeon', 'l', 'ira', 'm', 'giffordy', 'olerk', 'of', 'the', 'court', 'aforesaul', 'have', 'si', 'hereto', 'set', 'my', 'hand', 'and', 'aflxed', 'the', 'seal', 'of', 'sauid', 'court', 'at', 'ofice', 'in', 'hes', 'city', 'e', 'of', 'dawenport', 'in', 'said', 'county', 'this', 'the', 'seen', 'day', 's', 'nnem', 'bes', 'in', 'the', 'year', 'of', 'ourlord', 'one', 'thousanl', 'eight', 'hundred', 'and', 'sixty', 'sangezc', 'clerk', 'f', 'district', 'court', 'n']"
      ],
      "metadata": {
        "id": "4bcl_8i_XZQT"
      },
      "execution_count": null,
      "outputs": []
    },
    {
      "cell_type": "code",
      "source": [
        "from nostril import nonsense\n",
        "keyword_list = []\n",
        "gibberish_list = []\n",
        "\n",
        "for s in pred_list:\n",
        "    if nonsense(s):\n",
        "        gibberish_list.append(s)\n",
        "    else:\n",
        "        keyword_list.append(s)\n",
        "\n",
        "print(\"Keyword list:\", keyword_list)\n",
        "print(\"Gibberish list:\", gibberish_list)"
      ],
      "metadata": {
        "id": "oQjm4VG5XTeY"
      },
      "execution_count": null,
      "outputs": []
    },
    {
      "cell_type": "code",
      "source": [
        "!pip install random_string_detector"
      ],
      "metadata": {
        "colab": {
          "base_uri": "https://localhost:8080/"
        },
        "id": "VP_5znAFCEK6",
        "outputId": "90875359-1f37-4d19-988a-80a8b2ff1eae"
      },
      "execution_count": null,
      "outputs": [
        {
          "output_type": "stream",
          "name": "stdout",
          "text": [
            "Collecting random_string_detector\n",
            "  Downloading random_string_detector-1.0.2-py3-none-any.whl (24 kB)\n",
            "Installing collected packages: random_string_detector\n",
            "Successfully installed random_string_detector-1.0.2\n"
          ]
        }
      ]
    },
    {
      "cell_type": "code",
      "source": [
        "from random_string_detector import RandomStringDetector\n",
        "\n",
        "detector = RandomStringDetector()\n",
        "print(detector(\"Hello World\"))  # False\n",
        "print(detector(\"aowkaoskaos\"))  # True"
      ],
      "metadata": {
        "colab": {
          "base_uri": "https://localhost:8080/"
        },
        "id": "afp4IJJ8CChb",
        "outputId": "9a46c363-1504-406b-c46d-d9b6862a74be"
      },
      "execution_count": null,
      "outputs": [
        {
          "output_type": "stream",
          "name": "stdout",
          "text": [
            "False\n",
            "True\n"
          ]
        }
      ]
    }
  ]
}