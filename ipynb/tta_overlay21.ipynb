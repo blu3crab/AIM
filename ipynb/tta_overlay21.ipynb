{
  "nbformat": 4,
  "nbformat_minor": 0,
  "metadata": {
    "colab": {
      "provenance": []
    },
    "kernelspec": {
      "name": "python3",
      "display_name": "Python 3"
    },
    "language_info": {
      "name": "python"
    }
  },
  "cells": [
    {
      "cell_type": "code",
      "execution_count": null,
      "metadata": {
        "colab": {
          "base_uri": "https://localhost:8080/"
        },
        "id": "pqw3_srVGU1U",
        "outputId": "7d78a157-830e-4b14-f2bf-1a9567490baf"
      },
      "outputs": [
        {
          "output_type": "stream",
          "name": "stdout",
          "text": [
            "Mounted at /content/gdrive\n",
            "ls: cannot access '/content/gdrive/MyDrive/AIM/*.jpg': No such file or directory\n"
          ]
        }
      ],
      "source": [
        "from google.colab import drive\n",
        "import sys\n",
        "drive.mount('/content/gdrive')\n",
        "sys.path.append('/content/gdrive/MyDrive/AIM')\n",
        "!ls -l /content/gdrive/MyDrive/AIM/*.jpg\n",
        "import aim_util"
      ]
    },
    {
      "cell_type": "code",
      "source": [
        "!ls -l /content/gdrive/MyDrive/AIM/*.jpg"
      ],
      "metadata": {
        "colab": {
          "base_uri": "https://localhost:8080/"
        },
        "id": "gvVUAONkIQ1D",
        "outputId": "54a4f1eb-921c-48a8-91a2-9861916c638d"
      },
      "execution_count": null,
      "outputs": [
        {
          "output_type": "stream",
          "name": "stdout",
          "text": [
            "-rw------- 1 root root 3663644 Apr 14 21:34 /content/gdrive/MyDrive/AIM/citizen_1864_20240414_213308040.jpg\n",
            "-rw------- 1 root root 3663644 Apr 23 20:54 /content/gdrive/MyDrive/AIM/citizen_1864_rescan.jpg\n",
            "-rw------- 1 root root 3890679 May  3 18:33 /content/gdrive/MyDrive/AIM/citizen_xform1.jpg\n",
            "-rw------- 1 root root 4282849 May  3 18:33 /content/gdrive/MyDrive/AIM/citizen_xform2.jpg\n",
            "-rw------- 1 root root 2669393 May  3 18:33 /content/gdrive/MyDrive/AIM/citizen_xform3.jpg\n",
            "-rw------- 1 root root 6732009 May  3 18:33 /content/gdrive/MyDrive/AIM/citizen_xform4.jpg\n",
            "-rw------- 1 root root 4093224 May  3 18:33 /content/gdrive/MyDrive/AIM/citizen_xform5.jpg\n",
            "-rw------- 1 root root 2955757 May  6 20:57 /content/gdrive/MyDrive/AIM/deed_McGrew_to_HansOlson_1887_IMG_20191221_160034.jpg\n",
            "-rw------- 1 root root 9444802 Mar 10 21:08 /content/gdrive/MyDrive/AIM/hans-olson-citizen-full-PXL_20240225_171151947.MP.jpg\n",
            "-rw------- 1 root root 7437637 Mar 10 21:08 /content/gdrive/MyDrive/AIM/hans-olson-citizen-part1-PXL_20240225_171203756.MP.jpg\n",
            "-rw------- 1 root root 3328815 Mar 10 21:07 /content/gdrive/MyDrive/AIM/hans-olson-citizen-part2-PXL_20240225_171439879.jpg\n"
          ]
        }
      ]
    },
    {
      "cell_type": "code",
      "source": [],
      "metadata": {
        "id": "C5Q-WCNBIYlj"
      },
      "execution_count": null,
      "outputs": []
    },
    {
      "cell_type": "code",
      "source": [
        "# Model A\n",
        "import numpy as np\n",
        "import json\n",
        "from PIL import Image, ImageDraw, ImageFont\n",
        "\n",
        "# Set the file paths\n",
        "preds_path = '/content/gdrive/MyDrive/AIM/citizen_1864_xform0_carlv.json'\n",
        "image_path = '/content/gdrive/MyDrive/AIM/citizen_1864_rescan.jpg'\n",
        "save_path = '/content/gdrive/MyDrive/AIM/citizen_1864_overlay.jpg'\n",
        "\n",
        "# # Load JSON data from the file\n",
        "# with open(preds_path, 'r') as f:\n",
        "#   predictions = json.load(f)\n",
        "\n",
        "def json_to_preds(base_filename):\n",
        "    json_filename = base_filename + \".json\"\n",
        "    with open(json_filename, \"r\") as json_file:\n",
        "        json_data = json.load(json_file)\n",
        "        #print(json_data)\n",
        "\n",
        "    # Convert JSON lists back to numpy arrays with the original data type\n",
        "    converted_preds = []\n",
        "    for item in json_data:\n",
        "      #print(item)\n",
        "      converted_preds.append((\n",
        "          item['key'],\n",
        "          np.array(item['val'])\n",
        "      ))\n",
        "      #print(converted_preds)\n",
        "    return converted_preds\n",
        "\n",
        "# Test code\n",
        "base_filename = '/content/gdrive/MyDrive/AIM/citizen_1864_xform0_carlv'\n",
        "predictions = json_to_preds(base_filename)\n",
        "\n",
        "# Filter out words with less than 3 characters\n",
        "# filtered_predictions = [pred for pred in predictions if len(pred['word']) >= 3]\n",
        "# print(\"Remaining words:\")\n",
        "# print([pred['word'] for pred in filtered_predictions])\n",
        "\n",
        "# Load the image\n",
        "img = Image.open(image_path)\n",
        "\n",
        "# Draw the bounding boxes and words on the image\n",
        "draw = ImageDraw.Draw(img)\n",
        "font = ImageFont.truetype(\"/content/gdrive/MyDrive/AIM/OpenSans-Regular.ttf\", 24)  # Adjust the font size as needed\n",
        "\n",
        "for pred in predictions:\n",
        "    x, y, w, h = pred['val']\n",
        "    draw.rectangle([x, y, x+w, y+h], outline=(0, 255, 0))\n",
        "    word_width, word_height = draw.textsize(pred['key'], font=font)\n",
        "\n",
        "    # Adjust text position to ensure it fits within the bounding box\n",
        "    text_x = max(x, x + (w - word_width) // 2)\n",
        "    text_y = max(y, y + (h - word_height) // 2)\n",
        "    draw.text((text_x, text_y), pred['key'], fill=(0, 0, 0), font=font)\n",
        "\n",
        "# Save the modified image\n",
        "img.save(save_path)\n",
        "\n",
        "# Print the count of overlays\n",
        "print(f\"Count of bounding box/word overlays: {len(predictions)}\")"
      ],
      "metadata": {
        "colab": {
          "base_uri": "https://localhost:8080/",
          "height": 211
        },
        "id": "QMqR749QIVkX",
        "outputId": "138d19fa-d1ed-45ff-d34f-bf610e45e31e"
      },
      "execution_count": null,
      "outputs": [
        {
          "output_type": "error",
          "ename": "TypeError",
          "evalue": "tuple indices must be integers or slices, not str",
          "traceback": [
            "\u001b[0;31m---------------------------------------------------------------------------\u001b[0m",
            "\u001b[0;31mTypeError\u001b[0m                                 Traceback (most recent call last)",
            "\u001b[0;32m<ipython-input-11-c3de52b50603>\u001b[0m in \u001b[0;36m<cell line: 48>\u001b[0;34m()\u001b[0m\n\u001b[1;32m     47\u001b[0m \u001b[0;34m\u001b[0m\u001b[0m\n\u001b[1;32m     48\u001b[0m \u001b[0;32mfor\u001b[0m \u001b[0mpred\u001b[0m \u001b[0;32min\u001b[0m \u001b[0mpredictions\u001b[0m\u001b[0;34m:\u001b[0m\u001b[0;34m\u001b[0m\u001b[0;34m\u001b[0m\u001b[0m\n\u001b[0;32m---> 49\u001b[0;31m     \u001b[0mx\u001b[0m\u001b[0;34m,\u001b[0m \u001b[0my\u001b[0m\u001b[0;34m,\u001b[0m \u001b[0mw\u001b[0m\u001b[0;34m,\u001b[0m \u001b[0mh\u001b[0m \u001b[0;34m=\u001b[0m \u001b[0mpred\u001b[0m\u001b[0;34m[\u001b[0m\u001b[0;34m'val'\u001b[0m\u001b[0;34m]\u001b[0m\u001b[0;34m\u001b[0m\u001b[0;34m\u001b[0m\u001b[0m\n\u001b[0m\u001b[1;32m     50\u001b[0m     \u001b[0mdraw\u001b[0m\u001b[0;34m.\u001b[0m\u001b[0mrectangle\u001b[0m\u001b[0;34m(\u001b[0m\u001b[0;34m[\u001b[0m\u001b[0mx\u001b[0m\u001b[0;34m,\u001b[0m \u001b[0my\u001b[0m\u001b[0;34m,\u001b[0m \u001b[0mx\u001b[0m\u001b[0;34m+\u001b[0m\u001b[0mw\u001b[0m\u001b[0;34m,\u001b[0m \u001b[0my\u001b[0m\u001b[0;34m+\u001b[0m\u001b[0mh\u001b[0m\u001b[0;34m]\u001b[0m\u001b[0;34m,\u001b[0m \u001b[0moutline\u001b[0m\u001b[0;34m=\u001b[0m\u001b[0;34m(\u001b[0m\u001b[0;36m0\u001b[0m\u001b[0;34m,\u001b[0m \u001b[0;36m255\u001b[0m\u001b[0;34m,\u001b[0m \u001b[0;36m0\u001b[0m\u001b[0;34m)\u001b[0m\u001b[0;34m)\u001b[0m\u001b[0;34m\u001b[0m\u001b[0;34m\u001b[0m\u001b[0m\n\u001b[1;32m     51\u001b[0m     \u001b[0mword_width\u001b[0m\u001b[0;34m,\u001b[0m \u001b[0mword_height\u001b[0m \u001b[0;34m=\u001b[0m \u001b[0mdraw\u001b[0m\u001b[0;34m.\u001b[0m\u001b[0mtextsize\u001b[0m\u001b[0;34m(\u001b[0m\u001b[0mpred\u001b[0m\u001b[0;34m[\u001b[0m\u001b[0;34m'key'\u001b[0m\u001b[0;34m]\u001b[0m\u001b[0;34m,\u001b[0m \u001b[0mfont\u001b[0m\u001b[0;34m=\u001b[0m\u001b[0mfont\u001b[0m\u001b[0;34m)\u001b[0m\u001b[0;34m\u001b[0m\u001b[0;34m\u001b[0m\u001b[0m\n",
            "\u001b[0;31mTypeError\u001b[0m: tuple indices must be integers or slices, not str"
          ]
        }
      ]
    },
    {
      "cell_type": "code",
      "source": [
        "# Model B"
      ],
      "metadata": {
        "id": "nFBJr6uEIXO6"
      },
      "execution_count": null,
      "outputs": []
    }
  ]
}