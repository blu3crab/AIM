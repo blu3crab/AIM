{
  "nbformat": 4,
  "nbformat_minor": 0,
  "metadata": {
    "colab": {
      "provenance": []
    },
    "kernelspec": {
      "name": "python3",
      "display_name": "Python 3"
    },
    "language_info": {
      "name": "python"
    }
  },
  "cells": [
    {
      "cell_type": "code",
      "execution_count": null,
      "metadata": {
        "colab": {
          "base_uri": "https://localhost:8080/"
        },
        "id": "L23sAHfLA9-q",
        "outputId": "7dae0f57-9220-45ae-a685-82f405f596c8"
      },
      "outputs": [
        {
          "output_type": "stream",
          "name": "stdout",
          "text": [
            "Mounted at /content/gdrive\n",
            "total 48508\n",
            "-rw------- 1 root root    1108 May  2 18:51 aim_util.py\n",
            "-rw------- 1 root root    2696 Apr 15 14:07 citizen_1864_20240414_213308040_groundtruth.txt\n",
            "-rw------- 1 root root 3663644 Apr 14 21:34 citizen_1864_20240414_213308040.jpg\n",
            "-rw------- 1 root root    2696 May  2 20:40 citizen_1864_groundtruth_annotated.txt\n",
            "-rw------- 1 root root    3899 May  2 21:00 citizen_1864_groundtruth_word_list.txt\n",
            "-rw------- 1 root root    3899 May  2 21:00 citizen_1864_groundtruth_word_string.txt\n",
            "-rw------- 1 root root 3663644 Apr 23 20:54 citizen_1864_rescan.jpg\n",
            "-rw------- 1 root root   68979 May  3 15:23 citizen_1864_xform0_carlv_bbox.txt\n",
            "-rw------- 1 root root    3778 May  3 15:23 citizen_1864_xform0_carlv_word_list.txt\n",
            "-rw------- 1 root root    2425 May  3 15:23 citizen_1864_xform0_carlv_word_string.txt\n",
            "-rw------- 1 root root   64336 May  2 20:37 citizen_1864_xform1_carlv_bbox.txt\n",
            "-rw------- 1 root root    3598 May  2 20:37 citizen_1864_xform1_carlv_word_list.txt\n",
            "-rw------- 1 root root    2332 May  2 20:37 citizen_1864_xform1_carlv_word_string.txt\n",
            "-rw------- 1 root root   60048 May  2 20:40 citizen_1864_xform2_carlv_bbox.txt\n",
            "-rw------- 1 root root    3394 May  2 20:40 citizen_1864_xform2_carlv_word_list.txt\n",
            "-rw------- 1 root root    2212 May  2 20:40 citizen_1864_xform2_carlv_word_string.txt\n",
            "-rw------- 1 root root   63491 May  2 20:44 citizen_1864_xform3_carlv_bbox.txt\n",
            "-rw------- 1 root root    3532 May  2 20:44 citizen_1864_xform3_carlv_word_list.txt\n",
            "-rw------- 1 root root    2281 May  2 20:44 citizen_1864_xform3_carlv_word_string.txt\n",
            "-rw------- 1 root root   64494 May  2 20:47 citizen_1864_xform4_carlv_bbox.txt\n",
            "-rw------- 1 root root    3621 May  2 20:47 citizen_1864_xform4_carlv_word_list.txt\n",
            "-rw------- 1 root root    2352 May  2 20:47 citizen_1864_xform4_carlv_word_string.txt\n",
            "-rw------- 1 root root 4093224 Apr 23 21:53 citizen_xform_contrast1.jpg\n",
            "-rw------- 1 root root 3890679 Apr 23 21:53 citizen_xform_gray1.jpg\n",
            "-rw------- 1 root root 2669393 Apr 23 21:53 citizen_xform_noise1.jpg\n",
            "-rw------- 1 root root 6732009 Apr 23 21:53 citizen_xform_sharp1.jpg\n",
            "-rw------- 1 root root 4282849 Apr 23 21:53 citizen_xform_threshold1.jpg\n",
            "-rw------- 1 root root 9444802 Mar 10 21:08 hans-olson-citizen-full-PXL_20240225_171151947.MP.jpg\n",
            "-rw------- 1 root root 7437637 Mar 10 21:08 hans-olson-citizen-part1-PXL_20240225_171203756.MP.jpg\n",
            "-rw------- 1 root root 3328815 Mar 10 21:07 hans-olson-citizen-part2-PXL_20240225_171439879.jpg\n",
            "-rw------- 1 root root   13454 Apr 25 14:32 predictionsA.json\n",
            "-rw------- 1 root root    1297 Apr 25 14:33 predictionsA.txt\n",
            "-rw------- 1 root root     395 Apr 25 19:17 preds-clean.txt\n",
            "-rw------- 1 root root   30890 Apr 24 20:12 preds_pytesractB.json\n",
            "-rw------- 1 root root   26706 Apr 24 20:54 preds_pytesractB_modifiedB.json\n",
            "-rw------- 1 root root   13454 Apr 25 14:32 preds-raw.json\n",
            "-rw------- 1 root root     585 Apr 25 19:16 preds-raw.txt\n",
            "drwx------ 2 root root    4096 May  2 20:06 __pycache__\n"
          ]
        }
      ],
      "source": [
        "from google.colab import drive\n",
        "import sys\n",
        "drive.mount('/content/gdrive')\n",
        "sys.path.append('/content/gdrive/MyDrive/AIM')\n",
        "!ls -l '/content/gdrive/MyDrive/AIM'\n",
        "import aim_util"
      ]
    },
    {
      "cell_type": "code",
      "source": [
        "groundtruth_path = '/content/gdrive/MyDrive/AIM/citizen_1864_groundtruth_annotated.txt'"
      ],
      "metadata": {
        "id": "Q6BEFES1CFyk"
      },
      "execution_count": null,
      "outputs": []
    },
    {
      "cell_type": "code",
      "source": [
        "# read groundtruth file, strip & generate word list plus word string\n",
        "import re\n",
        "\n",
        "def read_and_process_file(filename):\n",
        "  \"\"\"Reads a text file, processes the words, and returns a list of words.\"\"\"\n",
        "\n",
        "  with open(filename, 'r') as file:\n",
        "    text = file.read()\n",
        "\n",
        "  # Check and remove BOM if present using slicing\n",
        "  if text.startswith('\\ufeff'):\n",
        "    text = text[1:]  # Remove the first character if it's \"\\ufeff\"\n",
        "\n",
        "  # Replace spaces, commas, newlines, and underscores with spaces\n",
        "  text = re.sub(r'[ ,_\\n]+', ' ', text)\n",
        "\n",
        "  # Create a list of words\n",
        "  word_list = text.split()\n",
        "\n",
        "  return word_list\n",
        "\n",
        "# Read and process the two files\n",
        "groundtruth_list = read_and_process_file(groundtruth_path)\n",
        "groundtruth_string = str(groundtruth_list)\n",
        "\n",
        "groundtruth_string_lower = groundtruth_string.lower()\n",
        "groundtruth_list_lower = [x.lower() for x in groundtruth_list]\n",
        "\n",
        "# Print the lists\n",
        "print(\"Ground Truth list:\", groundtruth_list)\n",
        "print(\"Ground Truth string:\", groundtruth_string)\n",
        "print(\"Ground Truth list (lower):\", groundtruth_list_lower)\n",
        "print(\"Ground Truth string (lower):\", groundtruth_string_lower)\n",
        "\n",
        "# write word list and word string\n",
        "base_name = 'citizen_1864_groundtruth'\n",
        "aim_util.write_text(str(groundtruth_list), \"/content/gdrive/MyDrive/AIM/\" + base_name + \"_word_list.txt\")\n",
        "aim_util.write_text(groundtruth_string, \"/content/gdrive/MyDrive/AIM/\" + base_name + \"_word_string.txt\")\n",
        "aim_util.write_text(str(groundtruth_list_lower), \"/content/gdrive/MyDrive/AIM/\" + base_name + \"_word_list_lower.txt\")\n",
        "aim_util.write_text(groundtruth_string_lower, \"/content/gdrive/MyDrive/AIM/\" + base_name + \"_word_string_lower.txt\")"
      ],
      "metadata": {
        "colab": {
          "base_uri": "https://localhost:8080/"
        },
        "id": "URXacpD4CyJl",
        "outputId": "1df95648-5742-43f9-f43c-e286d0b066f3"
      },
      "execution_count": null,
      "outputs": [
        {
          "output_type": "stream",
          "name": "stdout",
          "text": [
            "Ground Truth list: ['UNITED', 'STATES', 'OF', 'AMERICA', 'OUR', 'LIBERTY', 'WE', 'PRIZE', 'AND', 'OUT', 'RIGHTS', 'WE', 'WILL', 'MAINTAIN', 'STATE', 'OF', 'IOWA', 'SS:', 'SCOTT', 'COUNTY', 'Be', 'it', 'Remembered', 'That', 'at', 'a', 'Term', 'of', 'the', 'District', 'Court', 'holden', 'in', 'and', 'for', 'said', 'County', 'in', 'the', 'city', 'of', 'Davenport', 'therein', 'on', 'the', '7', 'day', 'of', 'November', 'in', 'the', 'year', 'of', 'our', 'Lord', 'one', 'thousand', 'eight', 'hundred', 'Sixtyfour', 'was', 'presentthe', 'Honorable', 'J.', 'SCOTT', 'RICHMAN', 'sole', 'presiding', 'Judge', 'JOHN', 'M.', 'LYTER', 'Sheriff', 'of', 'said', 'County', 'and', 'IRA', 'M.', 'GIFFORD', 'Clerk', 'of', 'said', 'Court', 'when', 'the', 'fol-', 'lowing', 'among', 'other', 'proceedings', 'were', 'had', 'to', 'wit:', 'Hans', 'Claus', 'Olson', 'a', 'native', 'of', 'Norway', 'and', 'at', 'present', 'residing', 'within', 'said', 'State', 'appeared', 'in', 'open', 'Court', 'and', 'made', 'application', 'to', 'be', 'admitted', 'to', 'become', 'a', 'CITIZEN', 'OF', 'THE', 'UNITED', 'STATES', 'and', 'it', 'appearing', 'to', 'the', 'satisfaction', 'of', 'the', 'Court', 'that', 'he', 'had', 'declared', 'an', 'oath', 'before', 'J', 'D', 'Paton', 'Clerk', 'of', 'the', 'Scott', 'Co', 'District', 'Court', 'a', 'Court', 'of', 'Record', 'having', 'common', 'law', 'jurisdiction', 'and', 'using', 'a', 'seal', 'two', 'years', 'before', 'his', 'admission', 'that', 'it', 'was', 'bona', 'fide', 'his', 'intention', 'to', 'become', 'a', 'citizen', 'of', 'the', 'United', 'States', 'and', 'to', 'renounce', 'forever', 'all', 'allegiance', 'to', 'any', 'foriegn', 'Prince', 'Potentiate', 'State', 'or', 'Sovereignty', 'whatsoever', 'an', 'particularly', 'to', 'The', 'King', 'of', 'Sweden', 'of', 'wh', 'om', 'he', 'was', 'heretofore', 'a', 'Subject', 'and', 'said', 'applicant', 'having', 'declared', 'an', 'oth', 'before', 'this', 'Court', 'that', 'he', 'will', 'support', 'the', 'Constitution', 'of', 'the', 'United', 'States', 'and', 'that', 'he', 'doth', 'absolutely', 'and', 'entirely', 'renounce', 'and', 'and', 'abjure', 'all', 'allegience', 'and', 'fidelity', 'to', 'every', 'foriegn', 'Prince', 'Potentiate', 'State', 'or', 'Sovereignty', 'whatsoever', 'and', 'par-', 'ticularly', 'to', 'the', 'power', 'above', 'named.', 'The', 'Court', 'being', 'satisfied', 'that', 'said', 'applicant', 'has', 'resided', 'within', 'the', 'United', 'States', 'for', 'the', 'term', 'of', 'five', 'years', 'next', 'preceeding', 'his', 'admission', 'without', 'being', 'at', 'any', 'time', 'during', 'said', 'five', 'years', 'out', 'of', 'the', 'territory', 'of', 'the', 'United', 'States', 'and', 'within', 'this', 'State', 'one', 'year', 'at', 'least;', 'and', 'it', 'further', 'appearing', 'to', 'the', 'satisfaction', 'of', 'this', 'Court', 'that', 'during', 'that', 'time', 'he', 'has', 'behaved', 'as', 'a', 'man', 'of', 'good', 'moral', 'character', 'attached', 'to', 'the', 'Constitution', 'of', 'the', 'United', 'States', 'and', 'well', 'disposed', 'to', 'the', 'good', 'order', 'and', 'happiness', 'of', 'the', 'same.', 'Thereupon', 'the', 'Court', 'admitted', 'the', 'said', 'applicant', 'to', 'become', 'a', 'citizen', 'of', 'the', 'United', 'States', 'and', 'ordered', 'all', 'proceedings', 'aforesaid', 'to', 'be', 'entered', 'of', 'record', 'which', 'was', 'accordingly', 'done', 'by', 'the', 'Clerk', 'of', 'this', 'Court.', 'In', 'Testimony', 'Whereof', 'I', 'IRA', 'M.', 'GIFFORD', 'Clerk', 'of', 'the', 'Court', 'aforesaid', 'have', 'hereto', 'set', 'my', 'hand', 'and', 'affixed', 'the', 'Seal', 'of', 'said', 'Court', 'at', 'office', 'in', 'the', 'city', 'of', 'Davenport', 'in', 'sadi', 'County', 'this', 'the', 'Seventh', 'day', 'of', 'November', 'in', 'the', 'year', 'of', 'our', 'Lord', 'one', 'thousand', 'eighthundred', 'and', 'Sixty', 'four', 'Ira', 'M', 'Gifford', 'Clerk', 'of', 'the', 'District', 'Court']\n",
            "Ground Truth string: ['UNITED', 'STATES', 'OF', 'AMERICA', 'OUR', 'LIBERTY', 'WE', 'PRIZE', 'AND', 'OUT', 'RIGHTS', 'WE', 'WILL', 'MAINTAIN', 'STATE', 'OF', 'IOWA', 'SS:', 'SCOTT', 'COUNTY', 'Be', 'it', 'Remembered', 'That', 'at', 'a', 'Term', 'of', 'the', 'District', 'Court', 'holden', 'in', 'and', 'for', 'said', 'County', 'in', 'the', 'city', 'of', 'Davenport', 'therein', 'on', 'the', '7', 'day', 'of', 'November', 'in', 'the', 'year', 'of', 'our', 'Lord', 'one', 'thousand', 'eight', 'hundred', 'Sixtyfour', 'was', 'presentthe', 'Honorable', 'J.', 'SCOTT', 'RICHMAN', 'sole', 'presiding', 'Judge', 'JOHN', 'M.', 'LYTER', 'Sheriff', 'of', 'said', 'County', 'and', 'IRA', 'M.', 'GIFFORD', 'Clerk', 'of', 'said', 'Court', 'when', 'the', 'fol-', 'lowing', 'among', 'other', 'proceedings', 'were', 'had', 'to', 'wit:', 'Hans', 'Claus', 'Olson', 'a', 'native', 'of', 'Norway', 'and', 'at', 'present', 'residing', 'within', 'said', 'State', 'appeared', 'in', 'open', 'Court', 'and', 'made', 'application', 'to', 'be', 'admitted', 'to', 'become', 'a', 'CITIZEN', 'OF', 'THE', 'UNITED', 'STATES', 'and', 'it', 'appearing', 'to', 'the', 'satisfaction', 'of', 'the', 'Court', 'that', 'he', 'had', 'declared', 'an', 'oath', 'before', 'J', 'D', 'Paton', 'Clerk', 'of', 'the', 'Scott', 'Co', 'District', 'Court', 'a', 'Court', 'of', 'Record', 'having', 'common', 'law', 'jurisdiction', 'and', 'using', 'a', 'seal', 'two', 'years', 'before', 'his', 'admission', 'that', 'it', 'was', 'bona', 'fide', 'his', 'intention', 'to', 'become', 'a', 'citizen', 'of', 'the', 'United', 'States', 'and', 'to', 'renounce', 'forever', 'all', 'allegiance', 'to', 'any', 'foriegn', 'Prince', 'Potentiate', 'State', 'or', 'Sovereignty', 'whatsoever', 'an', 'particularly', 'to', 'The', 'King', 'of', 'Sweden', 'of', 'wh', 'om', 'he', 'was', 'heretofore', 'a', 'Subject', 'and', 'said', 'applicant', 'having', 'declared', 'an', 'oth', 'before', 'this', 'Court', 'that', 'he', 'will', 'support', 'the', 'Constitution', 'of', 'the', 'United', 'States', 'and', 'that', 'he', 'doth', 'absolutely', 'and', 'entirely', 'renounce', 'and', 'and', 'abjure', 'all', 'allegience', 'and', 'fidelity', 'to', 'every', 'foriegn', 'Prince', 'Potentiate', 'State', 'or', 'Sovereignty', 'whatsoever', 'and', 'par-', 'ticularly', 'to', 'the', 'power', 'above', 'named.', 'The', 'Court', 'being', 'satisfied', 'that', 'said', 'applicant', 'has', 'resided', 'within', 'the', 'United', 'States', 'for', 'the', 'term', 'of', 'five', 'years', 'next', 'preceeding', 'his', 'admission', 'without', 'being', 'at', 'any', 'time', 'during', 'said', 'five', 'years', 'out', 'of', 'the', 'territory', 'of', 'the', 'United', 'States', 'and', 'within', 'this', 'State', 'one', 'year', 'at', 'least;', 'and', 'it', 'further', 'appearing', 'to', 'the', 'satisfaction', 'of', 'this', 'Court', 'that', 'during', 'that', 'time', 'he', 'has', 'behaved', 'as', 'a', 'man', 'of', 'good', 'moral', 'character', 'attached', 'to', 'the', 'Constitution', 'of', 'the', 'United', 'States', 'and', 'well', 'disposed', 'to', 'the', 'good', 'order', 'and', 'happiness', 'of', 'the', 'same.', 'Thereupon', 'the', 'Court', 'admitted', 'the', 'said', 'applicant', 'to', 'become', 'a', 'citizen', 'of', 'the', 'United', 'States', 'and', 'ordered', 'all', 'proceedings', 'aforesaid', 'to', 'be', 'entered', 'of', 'record', 'which', 'was', 'accordingly', 'done', 'by', 'the', 'Clerk', 'of', 'this', 'Court.', 'In', 'Testimony', 'Whereof', 'I', 'IRA', 'M.', 'GIFFORD', 'Clerk', 'of', 'the', 'Court', 'aforesaid', 'have', 'hereto', 'set', 'my', 'hand', 'and', 'affixed', 'the', 'Seal', 'of', 'said', 'Court', 'at', 'office', 'in', 'the', 'city', 'of', 'Davenport', 'in', 'sadi', 'County', 'this', 'the', 'Seventh', 'day', 'of', 'November', 'in', 'the', 'year', 'of', 'our', 'Lord', 'one', 'thousand', 'eighthundred', 'and', 'Sixty', 'four', 'Ira', 'M', 'Gifford', 'Clerk', 'of', 'the', 'District', 'Court']\n",
            "Ground Truth list (lower): ['united', 'states', 'of', 'america', 'our', 'liberty', 'we', 'prize', 'and', 'out', 'rights', 'we', 'will', 'maintain', 'state', 'of', 'iowa', 'ss:', 'scott', 'county', 'be', 'it', 'remembered', 'that', 'at', 'a', 'term', 'of', 'the', 'district', 'court', 'holden', 'in', 'and', 'for', 'said', 'county', 'in', 'the', 'city', 'of', 'davenport', 'therein', 'on', 'the', '7', 'day', 'of', 'november', 'in', 'the', 'year', 'of', 'our', 'lord', 'one', 'thousand', 'eight', 'hundred', 'sixtyfour', 'was', 'presentthe', 'honorable', 'j.', 'scott', 'richman', 'sole', 'presiding', 'judge', 'john', 'm.', 'lyter', 'sheriff', 'of', 'said', 'county', 'and', 'ira', 'm.', 'gifford', 'clerk', 'of', 'said', 'court', 'when', 'the', 'fol-', 'lowing', 'among', 'other', 'proceedings', 'were', 'had', 'to', 'wit:', 'hans', 'claus', 'olson', 'a', 'native', 'of', 'norway', 'and', 'at', 'present', 'residing', 'within', 'said', 'state', 'appeared', 'in', 'open', 'court', 'and', 'made', 'application', 'to', 'be', 'admitted', 'to', 'become', 'a', 'citizen', 'of', 'the', 'united', 'states', 'and', 'it', 'appearing', 'to', 'the', 'satisfaction', 'of', 'the', 'court', 'that', 'he', 'had', 'declared', 'an', 'oath', 'before', 'j', 'd', 'paton', 'clerk', 'of', 'the', 'scott', 'co', 'district', 'court', 'a', 'court', 'of', 'record', 'having', 'common', 'law', 'jurisdiction', 'and', 'using', 'a', 'seal', 'two', 'years', 'before', 'his', 'admission', 'that', 'it', 'was', 'bona', 'fide', 'his', 'intention', 'to', 'become', 'a', 'citizen', 'of', 'the', 'united', 'states', 'and', 'to', 'renounce', 'forever', 'all', 'allegiance', 'to', 'any', 'foriegn', 'prince', 'potentiate', 'state', 'or', 'sovereignty', 'whatsoever', 'an', 'particularly', 'to', 'the', 'king', 'of', 'sweden', 'of', 'wh', 'om', 'he', 'was', 'heretofore', 'a', 'subject', 'and', 'said', 'applicant', 'having', 'declared', 'an', 'oth', 'before', 'this', 'court', 'that', 'he', 'will', 'support', 'the', 'constitution', 'of', 'the', 'united', 'states', 'and', 'that', 'he', 'doth', 'absolutely', 'and', 'entirely', 'renounce', 'and', 'and', 'abjure', 'all', 'allegience', 'and', 'fidelity', 'to', 'every', 'foriegn', 'prince', 'potentiate', 'state', 'or', 'sovereignty', 'whatsoever', 'and', 'par-', 'ticularly', 'to', 'the', 'power', 'above', 'named.', 'the', 'court', 'being', 'satisfied', 'that', 'said', 'applicant', 'has', 'resided', 'within', 'the', 'united', 'states', 'for', 'the', 'term', 'of', 'five', 'years', 'next', 'preceeding', 'his', 'admission', 'without', 'being', 'at', 'any', 'time', 'during', 'said', 'five', 'years', 'out', 'of', 'the', 'territory', 'of', 'the', 'united', 'states', 'and', 'within', 'this', 'state', 'one', 'year', 'at', 'least;', 'and', 'it', 'further', 'appearing', 'to', 'the', 'satisfaction', 'of', 'this', 'court', 'that', 'during', 'that', 'time', 'he', 'has', 'behaved', 'as', 'a', 'man', 'of', 'good', 'moral', 'character', 'attached', 'to', 'the', 'constitution', 'of', 'the', 'united', 'states', 'and', 'well', 'disposed', 'to', 'the', 'good', 'order', 'and', 'happiness', 'of', 'the', 'same.', 'thereupon', 'the', 'court', 'admitted', 'the', 'said', 'applicant', 'to', 'become', 'a', 'citizen', 'of', 'the', 'united', 'states', 'and', 'ordered', 'all', 'proceedings', 'aforesaid', 'to', 'be', 'entered', 'of', 'record', 'which', 'was', 'accordingly', 'done', 'by', 'the', 'clerk', 'of', 'this', 'court.', 'in', 'testimony', 'whereof', 'i', 'ira', 'm.', 'gifford', 'clerk', 'of', 'the', 'court', 'aforesaid', 'have', 'hereto', 'set', 'my', 'hand', 'and', 'affixed', 'the', 'seal', 'of', 'said', 'court', 'at', 'office', 'in', 'the', 'city', 'of', 'davenport', 'in', 'sadi', 'county', 'this', 'the', 'seventh', 'day', 'of', 'november', 'in', 'the', 'year', 'of', 'our', 'lord', 'one', 'thousand', 'eighthundred', 'and', 'sixty', 'four', 'ira', 'm', 'gifford', 'clerk', 'of', 'the', 'district', 'court']\n",
            "Ground Truth string (lower): ['united', 'states', 'of', 'america', 'our', 'liberty', 'we', 'prize', 'and', 'out', 'rights', 'we', 'will', 'maintain', 'state', 'of', 'iowa', 'ss:', 'scott', 'county', 'be', 'it', 'remembered', 'that', 'at', 'a', 'term', 'of', 'the', 'district', 'court', 'holden', 'in', 'and', 'for', 'said', 'county', 'in', 'the', 'city', 'of', 'davenport', 'therein', 'on', 'the', '7', 'day', 'of', 'november', 'in', 'the', 'year', 'of', 'our', 'lord', 'one', 'thousand', 'eight', 'hundred', 'sixtyfour', 'was', 'presentthe', 'honorable', 'j.', 'scott', 'richman', 'sole', 'presiding', 'judge', 'john', 'm.', 'lyter', 'sheriff', 'of', 'said', 'county', 'and', 'ira', 'm.', 'gifford', 'clerk', 'of', 'said', 'court', 'when', 'the', 'fol-', 'lowing', 'among', 'other', 'proceedings', 'were', 'had', 'to', 'wit:', 'hans', 'claus', 'olson', 'a', 'native', 'of', 'norway', 'and', 'at', 'present', 'residing', 'within', 'said', 'state', 'appeared', 'in', 'open', 'court', 'and', 'made', 'application', 'to', 'be', 'admitted', 'to', 'become', 'a', 'citizen', 'of', 'the', 'united', 'states', 'and', 'it', 'appearing', 'to', 'the', 'satisfaction', 'of', 'the', 'court', 'that', 'he', 'had', 'declared', 'an', 'oath', 'before', 'j', 'd', 'paton', 'clerk', 'of', 'the', 'scott', 'co', 'district', 'court', 'a', 'court', 'of', 'record', 'having', 'common', 'law', 'jurisdiction', 'and', 'using', 'a', 'seal', 'two', 'years', 'before', 'his', 'admission', 'that', 'it', 'was', 'bona', 'fide', 'his', 'intention', 'to', 'become', 'a', 'citizen', 'of', 'the', 'united', 'states', 'and', 'to', 'renounce', 'forever', 'all', 'allegiance', 'to', 'any', 'foriegn', 'prince', 'potentiate', 'state', 'or', 'sovereignty', 'whatsoever', 'an', 'particularly', 'to', 'the', 'king', 'of', 'sweden', 'of', 'wh', 'om', 'he', 'was', 'heretofore', 'a', 'subject', 'and', 'said', 'applicant', 'having', 'declared', 'an', 'oth', 'before', 'this', 'court', 'that', 'he', 'will', 'support', 'the', 'constitution', 'of', 'the', 'united', 'states', 'and', 'that', 'he', 'doth', 'absolutely', 'and', 'entirely', 'renounce', 'and', 'and', 'abjure', 'all', 'allegience', 'and', 'fidelity', 'to', 'every', 'foriegn', 'prince', 'potentiate', 'state', 'or', 'sovereignty', 'whatsoever', 'and', 'par-', 'ticularly', 'to', 'the', 'power', 'above', 'named.', 'the', 'court', 'being', 'satisfied', 'that', 'said', 'applicant', 'has', 'resided', 'within', 'the', 'united', 'states', 'for', 'the', 'term', 'of', 'five', 'years', 'next', 'preceeding', 'his', 'admission', 'without', 'being', 'at', 'any', 'time', 'during', 'said', 'five', 'years', 'out', 'of', 'the', 'territory', 'of', 'the', 'united', 'states', 'and', 'within', 'this', 'state', 'one', 'year', 'at', 'least;', 'and', 'it', 'further', 'appearing', 'to', 'the', 'satisfaction', 'of', 'this', 'court', 'that', 'during', 'that', 'time', 'he', 'has', 'behaved', 'as', 'a', 'man', 'of', 'good', 'moral', 'character', 'attached', 'to', 'the', 'constitution', 'of', 'the', 'united', 'states', 'and', 'well', 'disposed', 'to', 'the', 'good', 'order', 'and', 'happiness', 'of', 'the', 'same.', 'thereupon', 'the', 'court', 'admitted', 'the', 'said', 'applicant', 'to', 'become', 'a', 'citizen', 'of', 'the', 'united', 'states', 'and', 'ordered', 'all', 'proceedings', 'aforesaid', 'to', 'be', 'entered', 'of', 'record', 'which', 'was', 'accordingly', 'done', 'by', 'the', 'clerk', 'of', 'this', 'court.', 'in', 'testimony', 'whereof', 'i', 'ira', 'm.', 'gifford', 'clerk', 'of', 'the', 'court', 'aforesaid', 'have', 'hereto', 'set', 'my', 'hand', 'and', 'affixed', 'the', 'seal', 'of', 'said', 'court', 'at', 'office', 'in', 'the', 'city', 'of', 'davenport', 'in', 'sadi', 'county', 'this', 'the', 'seventh', 'day', 'of', 'november', 'in', 'the', 'year', 'of', 'our', 'lord', 'one', 'thousand', 'eighthundred', 'and', 'sixty', 'four', 'ira', 'm', 'gifford', 'clerk', 'of', 'the', 'district', 'court']\n",
            "Text string of 3899 bytes successfully written to /content/gdrive/MyDrive/AIM/citizen_1864_groundtruth_word_list.txt.\n",
            "Text string of 3899 bytes successfully written to /content/gdrive/MyDrive/AIM/citizen_1864_groundtruth_word_string.txt.\n",
            "Text string of 3899 bytes successfully written to /content/gdrive/MyDrive/AIM/citizen_1864_groundtruth_word_list_lower.txt.\n",
            "Text string of 3899 bytes successfully written to /content/gdrive/MyDrive/AIM/citizen_1864_groundtruth_word_string_lower.txt.\n"
          ]
        }
      ]
    }
  ]
}