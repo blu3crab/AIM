{
  "nbformat": 4,
  "nbformat_minor": 0,
  "metadata": {
    "colab": {
      "provenance": []
    },
    "kernelspec": {
      "name": "python3",
      "display_name": "Python 3"
    },
    "language_info": {
      "name": "python"
    }
  },
  "cells": [
    {
      "cell_type": "code",
      "execution_count": null,
      "metadata": {
        "colab": {
          "base_uri": "https://localhost:8080/"
        },
        "id": "t1sjZaKhLnXE",
        "outputId": "70490167-a510-4ef4-b280-12f4b0cd1530"
      },
      "outputs": [
        {
          "output_type": "stream",
          "name": "stdout",
          "text": [
            "Mounted at /content/gdrive\n",
            "total 48574\n",
            "-rw------- 1 root root    1108 May  2 18:51 aim_util.py\n",
            "-rw------- 1 root root    2696 Apr 15 14:07 citizen_1864_20240414_213308040_groundtruth.txt\n",
            "-rw------- 1 root root 3663644 Apr 14 21:34 citizen_1864_20240414_213308040.jpg\n",
            "-rw------- 1 root root    2696 May  2 20:40 citizen_1864_groundtruth_annotated.txt\n",
            "-rw------- 1 root root    3899 May  3 15:25 citizen_1864_groundtruth_word_list_lower.txt\n",
            "-rw------- 1 root root    3899 May  3 15:25 citizen_1864_groundtruth_word_list.txt\n",
            "-rw------- 1 root root    3899 May  3 15:25 citizen_1864_groundtruth_word_string_lower.txt\n",
            "-rw------- 1 root root    3899 May  3 15:25 citizen_1864_groundtruth_word_string.txt\n",
            "-rw------- 1 root root 3663644 Apr 23 20:54 citizen_1864_rescan.jpg\n",
            "-rw------- 1 root root   68979 May  3 18:44 citizen_1864_xform0_carlv_bbox.txt\n",
            "-rw------- 1 root root    3778 May  3 18:44 citizen_1864_xform0_carlv_word_list.txt\n",
            "-rw------- 1 root root    2425 May  3 18:44 citizen_1864_xform0_carlv_word_string.txt\n",
            "-rw------- 1 root root   69545 May  3 18:48 citizen_1864_xform1_carlv_bbox.txt\n",
            "-rw------- 1 root root    3796 May  3 18:48 citizen_1864_xform1_carlv_word_list.txt\n",
            "-rw------- 1 root root    2431 May  3 18:48 citizen_1864_xform1_carlv_word_string.txt\n",
            "-rw------- 1 root root   54072 May  3 18:51 citizen_1864_xform2_carlv_bbox.txt\n",
            "-rw------- 1 root root    3044 May  3 18:51 citizen_1864_xform2_carlv_word_list.txt\n",
            "-rw------- 1 root root    1985 May  3 18:51 citizen_1864_xform2_carlv_word_string.txt\n",
            "-rw------- 1 root root   69864 May  3 18:54 citizen_1864_xform3_carlv_bbox.txt\n",
            "-rw------- 1 root root    3770 May  3 18:55 citizen_1864_xform3_carlv_word_list.txt\n",
            "-rw------- 1 root root    2396 May  3 18:54 citizen_1864_xform3_carlv_word_string.txt\n",
            "-rw------- 1 root root   44041 May  3 19:22 citizen_1864_xform4_carlv_bbox.txt\n",
            "-rw------- 1 root root    2450 May  3 19:22 citizen_1864_xform4_carlv_word_list.txt\n",
            "-rw------- 1 root root    1583 May  3 19:22 citizen_1864_xform4_carlv_word_string.txt\n",
            "-rw------- 1 root root   70086 May  3 19:25 citizen_1864_xform5_carlv_bbox.txt\n",
            "-rw------- 1 root root    3809 May  3 19:25 citizen_1864_xform5_carlv_word_list.txt\n",
            "-rw------- 1 root root    2432 May  3 19:25 citizen_1864_xform5_carlv_word_string.txt\n",
            "-rw------- 1 root root 3890679 May  3 18:33 citizen_xform1.jpg\n",
            "-rw------- 1 root root 4282849 May  3 18:33 citizen_xform2.jpg\n",
            "-rw------- 1 root root 2669393 May  3 18:33 citizen_xform3.jpg\n",
            "-rw------- 1 root root 6732009 May  3 18:33 citizen_xform4.jpg\n",
            "-rw------- 1 root root 4093224 May  3 18:33 citizen_xform5.jpg\n",
            "-rw------- 1 root root 9444802 Mar 10 21:08 hans-olson-citizen-full-PXL_20240225_171151947.MP.jpg\n",
            "-rw------- 1 root root 7437637 Mar 10 21:08 hans-olson-citizen-part1-PXL_20240225_171203756.MP.jpg\n",
            "-rw------- 1 root root 3328815 Mar 10 21:07 hans-olson-citizen-part2-PXL_20240225_171439879.jpg\n",
            "-rw------- 1 root root   13454 Apr 25 14:32 predictionsA.json\n",
            "-rw------- 1 root root    1297 Apr 25 14:33 predictionsA.txt\n",
            "-rw------- 1 root root     395 Apr 25 19:17 preds-clean.txt\n",
            "-rw------- 1 root root   30890 Apr 24 20:12 preds_pytesractB.json\n",
            "-rw------- 1 root root   26706 Apr 24 20:54 preds_pytesractB_modifiedB.json\n",
            "-rw------- 1 root root   13454 Apr 25 14:32 preds-raw.json\n",
            "-rw------- 1 root root     585 Apr 25 19:16 preds-raw.txt\n",
            "drwx------ 2 root root    4096 May  2 20:06 __pycache__\n"
          ]
        }
      ],
      "source": [
        "from google.colab import drive\n",
        "import sys\n",
        "drive.mount('/content/gdrive')\n",
        "sys.path.append('/content/gdrive/MyDrive/AIM')\n",
        "!ls -l '/content/gdrive/MyDrive/AIM'\n",
        "import aim_util"
      ]
    },
    {
      "cell_type": "code",
      "source": [
        "!ls -l /content/gdrive/MyDrive/AIM/*_word_list.txt"
      ],
      "metadata": {
        "colab": {
          "base_uri": "https://localhost:8080/"
        },
        "id": "r-3y7DI7R2fI",
        "outputId": "baa6a4dd-6aca-40e2-fb72-2d96de08ad11"
      },
      "execution_count": null,
      "outputs": [
        {
          "output_type": "stream",
          "name": "stdout",
          "text": [
            "-rw------- 1 root root 3899 May  3 15:25 /content/gdrive/MyDrive/AIM/citizen_1864_groundtruth_word_list.txt\n",
            "-rw------- 1 root root 3778 May  3 15:23 /content/gdrive/MyDrive/AIM/citizen_1864_xform0_carlv_word_list.txt\n",
            "-rw------- 1 root root 3598 May  2 20:37 /content/gdrive/MyDrive/AIM/citizen_1864_xform1_carlv_word_list.txt\n",
            "-rw------- 1 root root 3394 May  2 20:40 /content/gdrive/MyDrive/AIM/citizen_1864_xform2_carlv_word_list.txt\n",
            "-rw------- 1 root root 3532 May  2 20:44 /content/gdrive/MyDrive/AIM/citizen_1864_xform3_carlv_word_list.txt\n",
            "-rw------- 1 root root 3621 May  2 20:47 /content/gdrive/MyDrive/AIM/citizen_1864_xform4_carlv_word_list.txt\n"
          ]
        }
      ]
    },
    {
      "cell_type": "code",
      "source": [
        "import ast\n",
        "\n",
        "groundtruth_path = '/content/gdrive/MyDrive/AIM/citizen_1864_groundtruth_word_list_lower.txt'\n",
        "pred_xform0_path = '/content/gdrive/MyDrive/AIM/citizen_1864_xform0_carlv_word_list.txt'\n",
        "pred_xform1_path = '/content/gdrive/MyDrive/AIM/citizen_1864_xform1_carlv_word_list.txt'\n",
        "pred_xform2_path = '/content/gdrive/MyDrive/AIM/citizen_1864_xform2_carlv_word_list.txt'\n",
        "pred_xform3_path = '/content/gdrive/MyDrive/AIM/citizen_1864_xform3_carlv_word_list.txt'\n",
        "pred_xform4_path = '/content/gdrive/MyDrive/AIM/citizen_1864_xform4_carlv_word_list.txt'\n",
        "\n",
        "def file_to_list(path):\n",
        "    with open(path, 'r') as f:\n",
        "        target_list = ast.literal_eval(f.read())\n",
        "    return target_list\n",
        "\n",
        "groundtruth_list = file_to_list(groundtruth_path)\n",
        "pred_xform0_list = file_to_list(pred_xform0_path)\n",
        "pred_xform1_list = file_to_list(pred_xform1_path)\n",
        "pred_xform2_list = file_to_list(pred_xform2_path)\n",
        "pred_xform3_list = file_to_list(pred_xform3_path)\n",
        "pred_xform4_list = file_to_list(pred_xform4_path)"
      ],
      "metadata": {
        "id": "k_bf9qr7PSYr"
      },
      "execution_count": null,
      "outputs": []
    },
    {
      "cell_type": "code",
      "source": [
        "!pip install fuzzywuzzy"
      ],
      "metadata": {
        "colab": {
          "base_uri": "https://localhost:8080/"
        },
        "id": "DkPt3QvfScuI",
        "outputId": "0fbeb8a3-fda1-49e9-e91a-f174960c8e3a"
      },
      "execution_count": null,
      "outputs": [
        {
          "output_type": "stream",
          "name": "stdout",
          "text": [
            "Collecting fuzzywuzzy\n",
            "  Downloading fuzzywuzzy-0.18.0-py2.py3-none-any.whl (18 kB)\n",
            "Installing collected packages: fuzzywuzzy\n",
            "Successfully installed fuzzywuzzy-0.18.0\n"
          ]
        }
      ]
    },
    {
      "cell_type": "code",
      "source": [
        "# Model A\n",
        "import fuzzywuzzy.fuzz\n",
        "\n",
        "# groundtruth_list = ['sun', 'car', 'bed', 'fox', 'ate', 'drum', 'noon', 'city', 'said', 'said', 'said', 'said', 'gun', 'zoo', 'joy', 'prizes']\n",
        "# prediction_list = ['sun', 'car', 'bed', 'fox', 'ate', 'drum', 'noontime', 'city', 'prizes', 'said', 'said', 'said', 'said', 'hit', 'prize', 'princes']\n",
        "\n",
        "#prediction_list = pred_xform0_list\n",
        "\n",
        "def rate_match(groundtruth_list, prediction_list):\n",
        "  print(f\"groundtruth_list =>{groundtruth_list}\")\n",
        "  print(f\"prediction list=>{prediction_list}\")\n",
        "\n",
        "  # Partial match threshold (experiment with this value)\n",
        "  PARTIAL_MATCH_THRESHOLD = 80\n",
        "\n",
        "  # Calculate lengths\n",
        "  groundtruth_length = len(groundtruth_list)\n",
        "  prediction_length = len(prediction_list)\n",
        "\n",
        "  # Find matches, partial matches, and mismatches\n",
        "  matches = []\n",
        "  partial_matches = []\n",
        "  mismatches = []\n",
        "\n",
        "  used_groundtruth = set()  # Track which groundtruth words have been matched\n",
        "\n",
        "  for word in prediction_list:\n",
        "      best_match_found = False\n",
        "      ###################!!!!!!!!!!!##################\n",
        "      # TODO: multiple occurances of word are excluded!\n",
        "      for groundtruth_word in groundtruth_list:\n",
        "          if groundtruth_word in used_groundtruth:\n",
        "              continue  # Skip already matched groundtruth words\n",
        "\n",
        "          ratio = fuzzywuzzy.fuzz.ratio(word, groundtruth_word)\n",
        "          if ratio == 100:\n",
        "              matches.append(word)\n",
        "              used_groundtruth.add(groundtruth_word)  # Mark as matched\n",
        "              best_match_found = True\n",
        "              break  # Move on once an exact match is found\n",
        "\n",
        "      if not best_match_found:\n",
        "          # No exact match, now check for partial matches\n",
        "          for groundtruth_word in groundtruth_list:\n",
        "              if groundtruth_word in used_groundtruth:\n",
        "                  continue\n",
        "\n",
        "              ratio = fuzzywuzzy.fuzz.ratio(word, groundtruth_word)\n",
        "              if ratio >= PARTIAL_MATCH_THRESHOLD:\n",
        "                  partial_matches.append(word)\n",
        "                  break  # A partial match is enough\n",
        "\n",
        "      if not best_match_found and word not in partial_matches:\n",
        "          mismatches.append(word)\n",
        "\n",
        "  # Calculate percentages\n",
        "  num_matches = len(matches)\n",
        "  num_partial_matches = len(partial_matches)\n",
        "  accuracy_percentage = (num_matches / prediction_length) * 100\n",
        "  partial_match_percentage = (num_partial_matches / prediction_length) * 100\n",
        "\n",
        "  # Print the results\n",
        "  print(\"Groundtruth list length:\", groundtruth_length)\n",
        "  print(\"Prediction list length:\", prediction_length)\n",
        "  print(\"Overall accuracy:\", accuracy_percentage, \"%\")\n",
        "  print(\"Partial match percentage:\", partial_match_percentage, \"%\")\n",
        "  print(\"\\nMatching words:\")\n",
        "  print(matches)\n",
        "  print(\"\\nPartially Matching words:\")\n",
        "  print(partial_matches)\n",
        "  print(\"\\nMismatched words:\")\n",
        "  print(mismatches)\n",
        "\n",
        "  return num_matches, num_partial_matches, accuracy_percentage, partial_match_percentage"
      ],
      "metadata": {
        "colab": {
          "base_uri": "https://localhost:8080/"
        },
        "id": "wWOn0_M3Lnwn",
        "outputId": "accfd1e6-a2c7-4762-8aac-ae1ff5cfe868"
      },
      "execution_count": null,
      "outputs": [
        {
          "output_type": "stream",
          "name": "stderr",
          "text": [
            "/usr/local/lib/python3.10/dist-packages/fuzzywuzzy/fuzz.py:11: UserWarning: Using slow pure-python SequenceMatcher. Install python-Levenshtein to remove this warning\n",
            "  warnings.warn('Using slow pure-python SequenceMatcher. Install python-Levenshtein to remove this warning')\n"
          ]
        }
      ]
    },
    {
      "cell_type": "code",
      "source": [
        "print(f\"==========xform0===========\")\n",
        "rate_match(groundtruth_list, pred_xform0_list)\n",
        "print(f\"==========xform1===========\")\n",
        "rate_match(groundtruth_list, pred_xform1_list)\n",
        "print(f\"==========xform2===========\")\n",
        "rate_match(groundtruth_list, pred_xform2_list)\n",
        "print(f\"==========xform3===========\")\n",
        "rate_match(groundtruth_list, pred_xform3_list)\n",
        "print(f\"==========xform4===========\")\n",
        "rate_match(groundtruth_list, pred_xform4_list)"
      ],
      "metadata": {
        "colab": {
          "base_uri": "https://localhost:8080/"
        },
        "id": "mSY0L9w3Fyln",
        "outputId": "beee9bf0-5587-4b75-9baf-e88e4fbb90fb"
      },
      "execution_count": null,
      "outputs": [
        {
          "output_type": "stream",
          "name": "stdout",
          "text": [
            "==========xform0===========\n",
            "groundtruth_list =>['united', 'states', 'of', 'america', 'our', 'liberty', 'we', 'prize', 'and', 'out', 'rights', 'we', 'will', 'maintain', 'state', 'of', 'iowa', 'ss:', 'scott', 'county', 'be', 'it', 'remembered', 'that', 'at', 'a', 'term', 'of', 'the', 'district', 'court', 'holden', 'in', 'and', 'for', 'said', 'county', 'in', 'the', 'city', 'of', 'davenport', 'therein', 'on', 'the', '7', 'day', 'of', 'november', 'in', 'the', 'year', 'of', 'our', 'lord', 'one', 'thousand', 'eight', 'hundred', 'sixtyfour', 'was', 'presentthe', 'honorable', 'j.', 'scott', 'richman', 'sole', 'presiding', 'judge', 'john', 'm.', 'lyter', 'sheriff', 'of', 'said', 'county', 'and', 'ira', 'm.', 'gifford', 'clerk', 'of', 'said', 'court', 'when', 'the', 'fol-', 'lowing', 'among', 'other', 'proceedings', 'were', 'had', 'to', 'wit:', 'hans', 'claus', 'olson', 'a', 'native', 'of', 'norway', 'and', 'at', 'present', 'residing', 'within', 'said', 'state', 'appeared', 'in', 'open', 'court', 'and', 'made', 'application', 'to', 'be', 'admitted', 'to', 'become', 'a', 'citizen', 'of', 'the', 'united', 'states', 'and', 'it', 'appearing', 'to', 'the', 'satisfaction', 'of', 'the', 'court', 'that', 'he', 'had', 'declared', 'an', 'oath', 'before', 'j', 'd', 'paton', 'clerk', 'of', 'the', 'scott', 'co', 'district', 'court', 'a', 'court', 'of', 'record', 'having', 'common', 'law', 'jurisdiction', 'and', 'using', 'a', 'seal', 'two', 'years', 'before', 'his', 'admission', 'that', 'it', 'was', 'bona', 'fide', 'his', 'intention', 'to', 'become', 'a', 'citizen', 'of', 'the', 'united', 'states', 'and', 'to', 'renounce', 'forever', 'all', 'allegiance', 'to', 'any', 'foriegn', 'prince', 'potentiate', 'state', 'or', 'sovereignty', 'whatsoever', 'an', 'particularly', 'to', 'the', 'king', 'of', 'sweden', 'of', 'wh', 'om', 'he', 'was', 'heretofore', 'a', 'subject', 'and', 'said', 'applicant', 'having', 'declared', 'an', 'oth', 'before', 'this', 'court', 'that', 'he', 'will', 'support', 'the', 'constitution', 'of', 'the', 'united', 'states', 'and', 'that', 'he', 'doth', 'absolutely', 'and', 'entirely', 'renounce', 'and', 'and', 'abjure', 'all', 'allegience', 'and', 'fidelity', 'to', 'every', 'foriegn', 'prince', 'potentiate', 'state', 'or', 'sovereignty', 'whatsoever', 'and', 'par-', 'ticularly', 'to', 'the', 'power', 'above', 'named.', 'the', 'court', 'being', 'satisfied', 'that', 'said', 'applicant', 'has', 'resided', 'within', 'the', 'united', 'states', 'for', 'the', 'term', 'of', 'five', 'years', 'next', 'preceeding', 'his', 'admission', 'without', 'being', 'at', 'any', 'time', 'during', 'said', 'five', 'years', 'out', 'of', 'the', 'territory', 'of', 'the', 'united', 'states', 'and', 'within', 'this', 'state', 'one', 'year', 'at', 'least;', 'and', 'it', 'further', 'appearing', 'to', 'the', 'satisfaction', 'of', 'this', 'court', 'that', 'during', 'that', 'time', 'he', 'has', 'behaved', 'as', 'a', 'man', 'of', 'good', 'moral', 'character', 'attached', 'to', 'the', 'constitution', 'of', 'the', 'united', 'states', 'and', 'well', 'disposed', 'to', 'the', 'good', 'order', 'and', 'happiness', 'of', 'the', 'same.', 'thereupon', 'the', 'court', 'admitted', 'the', 'said', 'applicant', 'to', 'become', 'a', 'citizen', 'of', 'the', 'united', 'states', 'and', 'ordered', 'all', 'proceedings', 'aforesaid', 'to', 'be', 'entered', 'of', 'record', 'which', 'was', 'accordingly', 'done', 'by', 'the', 'clerk', 'of', 'this', 'court.', 'in', 'testimony', 'whereof', 'i', 'ira', 'm.', 'gifford', 'clerk', 'of', 'the', 'court', 'aforesaid', 'have', 'hereto', 'set', 'my', 'hand', 'and', 'affixed', 'the', 'seal', 'of', 'said', 'court', 'at', 'office', 'in', 'the', 'city', 'of', 'davenport', 'in', 'sadi', 'county', 'this', 'the', 'seventh', 'day', 'of', 'november', 'in', 'the', 'year', 'of', 'our', 'lord', 'one', 'thousand', 'eighthundred', 'and', 'sixty', 'four', 'ira', 'm', 'gifford', 'clerk', 'of', 'the', 'district', 'court']\n",
            "prediction list=>['united', 'states', 'of', 'america', 'luere', 'ralling', 'o', 'o', 'v', 'state', 'of', 'iowa', 'sss', 'co', 'scott', 'cunty', 'be', 'it', 'renteutbeted', 'that', 'at', 'e', 'term', 'or', 'the', 'district', 'court', 'holden', 'n', 'and', 'for', 'said', 'county', 'n', 'the', 'e', 'ovcm', 'elc', 'city', 'of', 'davenport', 'theein', 'on', 'the', 'day', 'of', 'in', 'the', 'year', 'of', 'our', 'lord', 'one', 'o', 'susty', 'thousand', 'eight', 'hundre', 'and', 'fuw', 'was', 'present', 'the', 'hororable', 'je', 'scott', 'richmany', 'sole', 'prsiding', 'judge', 'john', 'me', 'lyter', 'sheriff', 'of', 'said', 'county', 'and', 'ira', 't', 'gifford', 'clerk', 'of', 'said', 'court', 'whenthe', 'fol', 'v', 'anws', 'cans', 'olen', 'lowing', 'among', 'other', 'roceedings', 'were', 'had', 'towits', 's', 'a', 'native', 'of', 'a', 'loc', 'prcsens', 'resian', 'vltmm', 'said', 'stater', 'appeared', 'lile', 'open', 'cout', 'icctolente', 'be', 'aemitted', 'oeceme', 'v', 'a', 'citizen', 'of', 'thie', 'uited', 'states', 'oww', 'and', 'it', 'roadwo', 'appearing', 'to', 'cot', 'the', 'oo', 'satifaction', 'of', 'ssked', 'the', 'court', 'that', 'oouns', 'he', 'had', 'declaredn', 'oath', 'c', 'before', 'e', 'a', 'court', 'gf', 'record', 'heing', 'common', 'law', 'jurisdiction', 'and', 'using', 'cl', 'sal', 'two', 'years', 'at', 'least', 'before', 'his', 'admissions', 'that', 'it', 'e', 'was', 'bona', 'fide', 'his', 'inter', 'tion', 'to', 'become', 'a', 'citizen', 'of', 'the', 'united', 'states', 'and', 'to', 'renounce', 'forever', 'all', 'allegiance', 'to', 'cas', 'o', 'foreign', 'prince', 'potentater', 'state', 'or', 'sovereigntys', 'whatsoever', 'and', 'particularly', 'to', 'iw', 'wedens', 'o', 'subile', 'of', 'wh', 'he', 'was', 'heretofore', 'a', 'and', 'laid', 'applicant', 'having', 'declared', 'on', 'oath', 'before', 'this', 'co', 'court', 'that', 'he', 'will', 'support', 'the', 'constitution', 'of', 'the', 'united', 'statess', 'nd', 'that', 'he', 'doth', 'absolutely', 'and', 'entirely', 'renounce', 's', 'and', 'abjure', 'all', 'allegiance', 'and', 'fidelity', 'to', 'every', 'foreign', 'princer', 'poentater', 'state', 'or', 'sovereigntys', 'whatsoever', 'nd', 'pars', 'ticularly', 'to', 'the', 'power', 'above', 'named', 'the', 'court', 'being', 'satisfied', 'that', 'said', 'applicant', 'has', 'resided', 'within', 'the', 'united', 'o', 'states', 'for', 'the', 'term', 'offive', 'years', 'next', 'preceeding', 'his', 'admission', 'without', 'being', 'at', 'any', 'time', 'during', 'the', 'said', 'fre', 'years', 'out', 'of', 'the', 'territory', 'of', 'the', 'united', 'states', 'and', 'within', 'this', 'state', 'onc', 'year', 'at', 'leasty', 'and', 'it', 'further', 'appearing', 'to', 'the', 'n', 'n', 'satisfaction', 'of', 'this', 'court', 'that', 'during', 'that', 'time', 'he', 'has', 'behaved', 'as', 'a', 'man', 'of', 'good', 'moral', 'character', 'attached', 'to', 'the', 'n', 'constitution', 'of', 'the', 'united', 'states', 'and', 'well', 'disposed', 'to', 'the', 'good', 'order', 'and', 'happiness', 'of', 'the', 'same', 'thereuon', 'the', 'court', 'admitted', 'the', 'sald', 'applicant', 'to', 'become', 'a', 'citizen', 'of', 'tho', 'unitod', 'states', 'and', 'ordered', 'all', 'proceedings', 'aoresaid', 'eo', 'to', 'e', 'be', 'entere', 'dl', 'eeo', 'llic', 'cout', 's', 'y', 'testimotty', 'aleeon', 'l', 'ira', 'm', 'giffordy', 'olerk', 'of', 'the', 'court', 'aforesaul', 'have', 'si', 'hereto', 'set', 'my', 'hand', 'and', 'aflxed', 'the', 'seal', 'of', 'sauid', 'court', 'at', 'ofice', 'in', 'hes', 'city', 'e', 'of', 'dawenport', 'in', 'said', 'county', 'this', 'the', 'seen', 'day', 's', 'nnem', 'bes', 'in', 'the', 'year', 'of', 'ourlord', 'one', 'thousanl', 'eight', 'hundred', 'and', 'sixty', 'sangezc', 'clerk', 'f', 'district', 'court', 'n']\n",
            "Groundtruth list length: 454\n",
            "Prediction list length: 451\n",
            "Overall accuracy: 29.490022172949004 %\n",
            "Partial match percentage: 17.516629711751662 %\n",
            "\n",
            "Matching words:\n",
            "['united', 'states', 'of', 'america', 'state', 'iowa', 'co', 'scott', 'be', 'it', 'that', 'at', 'term', 'or', 'the', 'district', 'court', 'holden', 'and', 'for', 'said', 'county', 'city', 'davenport', 'on', 'day', 'in', 'year', 'our', 'lord', 'one', 'thousand', 'eight', 'was', 'present', 'sole', 'judge', 'john', 'lyter', 'sheriff', 'ira', 'gifford', 'clerk', 'lowing', 'among', 'other', 'were', 'had', 'a', 'native', 'appeared', 'open', 'citizen', 'appearing', 'to', 'he', 'oath', 'before', 'record', 'common', 'law', 'jurisdiction', 'using', 'two', 'years', 'his', 'bona', 'fide', 'become', 'renounce', 'forever', 'all', 'allegiance', 'prince', 'whatsoever', 'particularly', 'wh', 'heretofore', 'applicant', 'having', 'declared', 'this', 'will', 'support', 'constitution', 'doth', 'absolutely', 'entirely', 'abjure', 'fidelity', 'every', 'ticularly', 'power', 'above', 'being', 'satisfied', 'has', 'resided', 'within', 'next', 'preceeding', 'admission', 'without', 'any', 'time', 'during', 'out', 'territory', 'further', 'satisfaction', 'behaved', 'as', 'man', 'good', 'moral', 'character', 'attached', 'well', 'disposed', 'order', 'happiness', 'admitted', 'ordered', 'proceedings', 'm', 'have', 'hereto', 'set', 'my', 'hand', 'seal', 'hundred', 'sixty']\n",
            "\n",
            "Partially Matching words:\n",
            "['cunty', 'the', 'theein', 'the', 'the', 'hundre', 'and', 'the', 'hororable', 'richmany', 'prsiding', 'and', 'court', 'fol', 'roceedings', 'cout', 'aemitted', 'and', 'the', 'satifaction', 'the', 'court', 'had', 'declaredn', 'court', 'heing', 'and', 'sal', 'least', 'admissions', 'was', 'his', 'and', 'cas', 'foreign', 'potentater', 'sovereigntys', 'and', 'wedens', 'was', 'and', 'oath', 'court', 'and', 'and', 'allegiance', 'and', 'foreign', 'poentater', 'sovereigntys', 'named', 'court', 'applicant', 'for', 'offive', 'and', 'leasty', 'and', 'court', 'has', 'and', 'and', 'same', 'thereuon', 'court', 'applicant', 'and', 'aoresaid', 'entere', 'cout', 'testimotty', 'court', 'and', 'court', 'ofice', 'seen', 'one', 'and', 'court']\n",
            "\n",
            "Mismatched words:\n",
            "['luere', 'ralling', 'o', 'o', 'v', 'of', 'sss', 'renteutbeted', 'e', 'n', 'n', 'e', 'ovcm', 'elc', 'of', 'of', 'of', 'o', 'susty', 'fuw', 'je', 'scott', 'me', 'of', 'said', 'county', 't', 'of', 'said', 'whenthe', 'v', 'anws', 'cans', 'olen', 'towits', 's', 'of', 'a', 'loc', 'prcsens', 'resian', 'vltmm', 'said', 'stater', 'lile', 'icctolente', 'be', 'oeceme', 'v', 'a', 'of', 'thie', 'uited', 'states', 'oww', 'it', 'roadwo', 'cot', 'oo', 'of', 'ssked', 'that', 'oouns', 'c', 'e', 'a', 'gf', 'cl', 'at', 'before', 'that', 'it', 'e', 'inter', 'tion', 'to', 'a', 'citizen', 'of', 'united', 'states', 'to', 'to', 'o', 'state', 'or', 'to', 'iw', 'o', 'subile', 'of', 'he', 'a', 'laid', 'on', 'before', 'co', 'that', 'he', 'of', 'united', 'statess', 'nd', 'that', 'he', 'renounce', 's', 'all', 'to', 'princer', 'state', 'or', 'whatsoever', 'nd', 'pars', 'to', 'that', 'said', 'united', 'o', 'states', 'term', 'years', 'being', 'at', 'said', 'fre', 'years', 'of', 'of', 'united', 'states', 'within', 'this', 'state', 'onc', 'year', 'at', 'it', 'appearing', 'to', 'n', 'n', 'of', 'this', 'that', 'during', 'that', 'time', 'he', 'a', 'of', 'to', 'n', 'constitution', 'of', 'united', 'states', 'to', 'good', 'of', 'sald', 'to', 'become', 'a', 'citizen', 'of', 'tho', 'unitod', 'states', 'all', 'eo', 'to', 'e', 'be', 'dl', 'eeo', 'llic', 's', 'y', 'aleeon', 'l', 'ira', 'giffordy', 'olerk', 'of', 'aforesaul', 'si', 'aflxed', 'of', 'sauid', 'at', 'in', 'hes', 'city', 'e', 'of', 'dawenport', 'in', 'said', 'county', 'this', 'day', 's', 'nnem', 'bes', 'in', 'year', 'of', 'ourlord', 'thousanl', 'eight', 'sangezc', 'clerk', 'f', 'district', 'n']\n",
            "==========xform1===========\n",
            "groundtruth_list =>['united', 'states', 'of', 'america', 'our', 'liberty', 'we', 'prize', 'and', 'out', 'rights', 'we', 'will', 'maintain', 'state', 'of', 'iowa', 'ss:', 'scott', 'county', 'be', 'it', 'remembered', 'that', 'at', 'a', 'term', 'of', 'the', 'district', 'court', 'holden', 'in', 'and', 'for', 'said', 'county', 'in', 'the', 'city', 'of', 'davenport', 'therein', 'on', 'the', '7', 'day', 'of', 'november', 'in', 'the', 'year', 'of', 'our', 'lord', 'one', 'thousand', 'eight', 'hundred', 'sixtyfour', 'was', 'presentthe', 'honorable', 'j.', 'scott', 'richman', 'sole', 'presiding', 'judge', 'john', 'm.', 'lyter', 'sheriff', 'of', 'said', 'county', 'and', 'ira', 'm.', 'gifford', 'clerk', 'of', 'said', 'court', 'when', 'the', 'fol-', 'lowing', 'among', 'other', 'proceedings', 'were', 'had', 'to', 'wit:', 'hans', 'claus', 'olson', 'a', 'native', 'of', 'norway', 'and', 'at', 'present', 'residing', 'within', 'said', 'state', 'appeared', 'in', 'open', 'court', 'and', 'made', 'application', 'to', 'be', 'admitted', 'to', 'become', 'a', 'citizen', 'of', 'the', 'united', 'states', 'and', 'it', 'appearing', 'to', 'the', 'satisfaction', 'of', 'the', 'court', 'that', 'he', 'had', 'declared', 'an', 'oath', 'before', 'j', 'd', 'paton', 'clerk', 'of', 'the', 'scott', 'co', 'district', 'court', 'a', 'court', 'of', 'record', 'having', 'common', 'law', 'jurisdiction', 'and', 'using', 'a', 'seal', 'two', 'years', 'before', 'his', 'admission', 'that', 'it', 'was', 'bona', 'fide', 'his', 'intention', 'to', 'become', 'a', 'citizen', 'of', 'the', 'united', 'states', 'and', 'to', 'renounce', 'forever', 'all', 'allegiance', 'to', 'any', 'foriegn', 'prince', 'potentiate', 'state', 'or', 'sovereignty', 'whatsoever', 'an', 'particularly', 'to', 'the', 'king', 'of', 'sweden', 'of', 'wh', 'om', 'he', 'was', 'heretofore', 'a', 'subject', 'and', 'said', 'applicant', 'having', 'declared', 'an', 'oth', 'before', 'this', 'court', 'that', 'he', 'will', 'support', 'the', 'constitution', 'of', 'the', 'united', 'states', 'and', 'that', 'he', 'doth', 'absolutely', 'and', 'entirely', 'renounce', 'and', 'and', 'abjure', 'all', 'allegience', 'and', 'fidelity', 'to', 'every', 'foriegn', 'prince', 'potentiate', 'state', 'or', 'sovereignty', 'whatsoever', 'and', 'par-', 'ticularly', 'to', 'the', 'power', 'above', 'named.', 'the', 'court', 'being', 'satisfied', 'that', 'said', 'applicant', 'has', 'resided', 'within', 'the', 'united', 'states', 'for', 'the', 'term', 'of', 'five', 'years', 'next', 'preceeding', 'his', 'admission', 'without', 'being', 'at', 'any', 'time', 'during', 'said', 'five', 'years', 'out', 'of', 'the', 'territory', 'of', 'the', 'united', 'states', 'and', 'within', 'this', 'state', 'one', 'year', 'at', 'least;', 'and', 'it', 'further', 'appearing', 'to', 'the', 'satisfaction', 'of', 'this', 'court', 'that', 'during', 'that', 'time', 'he', 'has', 'behaved', 'as', 'a', 'man', 'of', 'good', 'moral', 'character', 'attached', 'to', 'the', 'constitution', 'of', 'the', 'united', 'states', 'and', 'well', 'disposed', 'to', 'the', 'good', 'order', 'and', 'happiness', 'of', 'the', 'same.', 'thereupon', 'the', 'court', 'admitted', 'the', 'said', 'applicant', 'to', 'become', 'a', 'citizen', 'of', 'the', 'united', 'states', 'and', 'ordered', 'all', 'proceedings', 'aforesaid', 'to', 'be', 'entered', 'of', 'record', 'which', 'was', 'accordingly', 'done', 'by', 'the', 'clerk', 'of', 'this', 'court.', 'in', 'testimony', 'whereof', 'i', 'ira', 'm.', 'gifford', 'clerk', 'of', 'the', 'court', 'aforesaid', 'have', 'hereto', 'set', 'my', 'hand', 'and', 'affixed', 'the', 'seal', 'of', 'said', 'court', 'at', 'office', 'in', 'the', 'city', 'of', 'davenport', 'in', 'sadi', 'county', 'this', 'the', 'seventh', 'day', 'of', 'november', 'in', 'the', 'year', 'of', 'our', 'lord', 'one', 'thousand', 'eighthundred', 'and', 'sixty', 'four', 'ira', 'm', 'gifford', 'clerk', 'of', 'the', 'district', 'court']\n",
            "prediction list=>['of', 'america', 'states', 'united', 'ea', 'iowa', 'state', 'of', 'ssi', 'scott', 'countys', 'se', 'it', 'tenteutbereds', 'that', 'at', 'a', 'term', 'of', 'the', 'district', 'court', 'holden', 'in', 'and', 'for', 'said', 'countyn', 'the', 'ovcm', 'ces', 'city', 'of', 'davenport', 'therein', 'on', 'the', 'day', 'of', 'in', 'the', 'year', 'of', 'our', 'la', 'one', 'thousand', 'eight', 'hundre', 'and', 'uslt', 'fow', 'was', 'present', 'the', 'hororable', 'jt', 'scott', 'richman', 'sole', 'piding', 'judge', 'john', 'm', 'lyter', 'sheriff', 'of', 'said', 'county', 'and', 'ira', 'm', 'gifford', 'clerk', 'of', 'said', 'court', 'whene', 'fol', 'aows', 'uaes', 'olew', 'lowing', 'among', 'other', 'oceedings', 'were', 'hads', 'towits', 'a', 'native', 'of', 'ctu', 'dltr', 'cel', 'presenit', 'residin', 'witmm', 'aid', 'stater', 'appeared', 'in', 'open', 'cour', 'aic', 'application', 'to', 'be', 'admitted', 'to', 'come', 'a', 'citizen', 'of', 'the', 'uited', 'dra', 'states', 'and', 'it', 'owrotns', 'appearing', 'to', 'cot', 'the', 'oo', 'satitaction', 'of', 'desned', 'the', 'court', 'that', 'nous', 'he', 'had', 'declaredn', 'oath', 'before', 'a', 'court', 'of', 'record', 'lying', 'common', 'law', 'jurisdiction', 'and', 'using', 'cl', 'sal', 'two', 'years', 'at', 'least', 'before', 'his', 'admission', 'that', 'it', 'was', 'bona', 'fide', 'his', 'intex', 'tion', 'to', 'become', 'a', 'citizen', 'of', 'the', 'united', 'stats', 'and', 'to', 'renounce', 'forever', 'all', 'allegiance', 'to', 'ay', 'foreign', 'prince', 'potentater', 'state', 'or', 'sovereignty', 'whatsoever', 'andparticularly', 'to', 'h', 'hm', 'wedens', 'baies', 'of', 'wh', 'tlmns', 'he', 'was', 'heretofore', 'a', 'and', 'laid', 'applicant', 'having', 'declared', 'on', 'oath', 'before', 'this', 'court', 'that', 'he', 'will', 'support', 'the', 'constitution', 'of', 'the', 'united', 'states', 'nd', 'that', 'he', 'doth', 'absolutely', 'and', 'entirely', 'renounce', 'and', 'abjure', 'all', 'allegiance', 'and', 'fidelity', 'to', 'every', 'foreign', 'prince', 'potentate', 'state', 'or', 'sovereignty', 'whatsoever', 'nd', 'par', 'ticularly', 'to', 'the', 'power', 'above', 'named', 'the', 'court', 'being', 'satisfied', 'that', 'said', 'applicant', 'has', 'resided', 'within', 'the', 'united', 'states', 'for', 'the', 'term', 'of', 'five', 'years', 'next', 'preceding', 'his', 'admission', 'without', 'being', 'at', 'any', 'time', 'during', 'the', 'said', 'fe', 'years', 'out', 'of', 'the', 'territory', 'of', 'the', 'united', 'states', 'and', 'within', 'this', 'state', 'one', 'year', 'at', 'leasts', 'and', 'it', 'further', 'appearing', 'to', 'the', 'satisfaction', 'of', 'this', 'court', 'that', 'during', 'that', 'time', 'he', 'has', 'behaved', 'as', 'a', 'man', 'of', 'good', 'moral', 'character', 'attachedto', 'the', 'constitution', 'of', 'the', 'united', 'states', 'and', 'well', 'disposed', 'to', 'the', 'good', 'order', 'and', 'happiness', 'of', 'the', 'same', 'thereupn', 'the', 'presaid', 'court', 'admitted', 'the', 'salid', 'applicant', 'to', 'become', 'a', 'citizen', 'of', 'the', 'united', 'states', 'and', 'ordered', 'all', 'proceedings', 'yw', 'testimoty', 'lerof', 'l', 'ira', 'mo', 'giffods', 'olerk', 'of', 'the', 'court', 'aforesal', 'have', 'hereto', 'set', 'my', 'hand', 'and', 'aflxed', 'the', 'seal', 'of', 'sauid', 'court', 'at', 'office', 'in', 'le', 'city', 'of', 'dawenport', 'in', 'said', 'county', 'this', 'the', 'seom', 'nncm', 'bes', 'day', 'hundred', 'and', 'sixty', 'in', 'ore', 'the', 'y', 'ear', 'of', 'ourlord', 'one', 'thousant', 'eight', 'ntao', 'clerk', 'f', 'district', 'court']\n",
            "Groundtruth list length: 454\n",
            "Prediction list length: 422\n",
            "Overall accuracy: 31.753554502369667 %\n",
            "Partial match percentage: 18.72037914691943 %\n",
            "\n",
            "Matching words:\n",
            "['of', 'america', 'states', 'united', 'iowa', 'state', 'scott', 'it', 'that', 'at', 'a', 'term', 'the', 'district', 'court', 'holden', 'in', 'and', 'for', 'said', 'city', 'davenport', 'therein', 'on', 'day', 'year', 'our', 'one', 'thousand', 'eight', 'was', 'present', 'richman', 'sole', 'judge', 'john', 'm', 'lyter', 'sheriff', 'county', 'ira', 'gifford', 'clerk', 'lowing', 'among', 'other', 'were', 'native', 'appeared', 'open', 'application', 'to', 'be', 'admitted', 'citizen', 'appearing', 'he', 'had', 'oath', 'before', 'record', 'common', 'law', 'jurisdiction', 'using', 'two', 'years', 'his', 'admission', 'bona', 'fide', 'become', 'renounce', 'forever', 'all', 'allegiance', 'prince', 'or', 'sovereignty', 'whatsoever', 'wh', 'heretofore', 'applicant', 'having', 'declared', 'this', 'will', 'support', 'constitution', 'doth', 'absolutely', 'entirely', 'abjure', 'fidelity', 'every', 'ticularly', 'power', 'above', 'being', 'satisfied', 'has', 'resided', 'within', 'five', 'next', 'without', 'any', 'time', 'during', 'out', 'territory', 'further', 'satisfaction', 'behaved', 'as', 'man', 'good', 'moral', 'character', 'well', 'disposed', 'order', 'happiness', 'ordered', 'proceedings', 'have', 'hereto', 'set', 'my', 'hand', 'seal', 'office', 'hundred', 'sixty']\n",
            "\n",
            "Partially Matching words:\n",
            "['countys', 'se', 'countyn', 'the', 'the', 'the', 'la', 'hundre', 'and', 'the', 'hororable', 'piding', 'and', 'court', 'whene', 'fol', 'oceedings', 'hads', 'residin', 'cour', 'to', 'come', 'the', 'and', 'to', 'cot', 'the', 'satitaction', 'the', 'court', 'declaredn', 'court', 'and', 'sal', 'least', 'was', 'his', 'and', 'ay', 'foreign', 'potentater', 'andparticularly', 'wedens', 'was', 'and', 'oath', 'court', 'and', 'and', 'allegiance', 'and', 'foreign', 'potentate', 'par', 'named', 'court', 'for', 'preceding', 'and', 'one', 'leasts', 'and', 'court', 'has', 'attachedto', 'and', 'and', 'same', 'thereupn', 'court', 'and', 'testimoty', 'court', 'aforesal', 'and', 'court', 'and', 'one', 'court']\n",
            "\n",
            "Mismatched words:\n",
            "['ea', 'of', 'ssi', 'tenteutbereds', 'of', 'ovcm', 'ces', 'of', 'of', 'in', 'of', 'uslt', 'fow', 'jt', 'scott', 'of', 'said', 'm', 'of', 'said', 'aows', 'uaes', 'olew', 'towits', 'a', 'of', 'ctu', 'dltr', 'cel', 'presenit', 'witmm', 'aid', 'stater', 'in', 'aic', 'a', 'of', 'uited', 'dra', 'states', 'it', 'owrotns', 'oo', 'of', 'desned', 'that', 'nous', 'a', 'of', 'lying', 'cl', 'at', 'before', 'that', 'it', 'intex', 'tion', 'a', 'citizen', 'of', 'united', 'stats', 'state', 'h', 'hm', 'baies', 'of', 'tlmns', 'he', 'a', 'laid', 'on', 'before', 'that', 'he', 'of', 'united', 'states', 'nd', 'that', 'he', 'renounce', 'all', 'prince', 'state', 'or', 'sovereignty', 'whatsoever', 'nd', 'that', 'said', 'applicant', 'united', 'states', 'term', 'of', 'years', 'admission', 'being', 'at', 'said', 'fe', 'years', 'of', 'of', 'united', 'states', 'within', 'this', 'state', 'year', 'at', 'it', 'appearing', 'of', 'this', 'that', 'during', 'that', 'time', 'he', 'a', 'of', 'constitution', 'of', 'united', 'states', 'good', 'of', 'presaid', 'admitted', 'salid', 'applicant', 'become', 'a', 'citizen', 'of', 'united', 'states', 'all', 'yw', 'lerof', 'l', 'ira', 'mo', 'giffods', 'olerk', 'of', 'aflxed', 'of', 'sauid', 'at', 'in', 'le', 'city', 'of', 'dawenport', 'in', 'said', 'county', 'this', 'seom', 'nncm', 'bes', 'day', 'in', 'ore', 'y', 'ear', 'of', 'ourlord', 'thousant', 'eight', 'ntao', 'clerk', 'f', 'district']\n",
            "==========xform2===========\n",
            "groundtruth_list =>['united', 'states', 'of', 'america', 'our', 'liberty', 'we', 'prize', 'and', 'out', 'rights', 'we', 'will', 'maintain', 'state', 'of', 'iowa', 'ss:', 'scott', 'county', 'be', 'it', 'remembered', 'that', 'at', 'a', 'term', 'of', 'the', 'district', 'court', 'holden', 'in', 'and', 'for', 'said', 'county', 'in', 'the', 'city', 'of', 'davenport', 'therein', 'on', 'the', '7', 'day', 'of', 'november', 'in', 'the', 'year', 'of', 'our', 'lord', 'one', 'thousand', 'eight', 'hundred', 'sixtyfour', 'was', 'presentthe', 'honorable', 'j.', 'scott', 'richman', 'sole', 'presiding', 'judge', 'john', 'm.', 'lyter', 'sheriff', 'of', 'said', 'county', 'and', 'ira', 'm.', 'gifford', 'clerk', 'of', 'said', 'court', 'when', 'the', 'fol-', 'lowing', 'among', 'other', 'proceedings', 'were', 'had', 'to', 'wit:', 'hans', 'claus', 'olson', 'a', 'native', 'of', 'norway', 'and', 'at', 'present', 'residing', 'within', 'said', 'state', 'appeared', 'in', 'open', 'court', 'and', 'made', 'application', 'to', 'be', 'admitted', 'to', 'become', 'a', 'citizen', 'of', 'the', 'united', 'states', 'and', 'it', 'appearing', 'to', 'the', 'satisfaction', 'of', 'the', 'court', 'that', 'he', 'had', 'declared', 'an', 'oath', 'before', 'j', 'd', 'paton', 'clerk', 'of', 'the', 'scott', 'co', 'district', 'court', 'a', 'court', 'of', 'record', 'having', 'common', 'law', 'jurisdiction', 'and', 'using', 'a', 'seal', 'two', 'years', 'before', 'his', 'admission', 'that', 'it', 'was', 'bona', 'fide', 'his', 'intention', 'to', 'become', 'a', 'citizen', 'of', 'the', 'united', 'states', 'and', 'to', 'renounce', 'forever', 'all', 'allegiance', 'to', 'any', 'foriegn', 'prince', 'potentiate', 'state', 'or', 'sovereignty', 'whatsoever', 'an', 'particularly', 'to', 'the', 'king', 'of', 'sweden', 'of', 'wh', 'om', 'he', 'was', 'heretofore', 'a', 'subject', 'and', 'said', 'applicant', 'having', 'declared', 'an', 'oth', 'before', 'this', 'court', 'that', 'he', 'will', 'support', 'the', 'constitution', 'of', 'the', 'united', 'states', 'and', 'that', 'he', 'doth', 'absolutely', 'and', 'entirely', 'renounce', 'and', 'and', 'abjure', 'all', 'allegience', 'and', 'fidelity', 'to', 'every', 'foriegn', 'prince', 'potentiate', 'state', 'or', 'sovereignty', 'whatsoever', 'and', 'par-', 'ticularly', 'to', 'the', 'power', 'above', 'named.', 'the', 'court', 'being', 'satisfied', 'that', 'said', 'applicant', 'has', 'resided', 'within', 'the', 'united', 'states', 'for', 'the', 'term', 'of', 'five', 'years', 'next', 'preceeding', 'his', 'admission', 'without', 'being', 'at', 'any', 'time', 'during', 'said', 'five', 'years', 'out', 'of', 'the', 'territory', 'of', 'the', 'united', 'states', 'and', 'within', 'this', 'state', 'one', 'year', 'at', 'least;', 'and', 'it', 'further', 'appearing', 'to', 'the', 'satisfaction', 'of', 'this', 'court', 'that', 'during', 'that', 'time', 'he', 'has', 'behaved', 'as', 'a', 'man', 'of', 'good', 'moral', 'character', 'attached', 'to', 'the', 'constitution', 'of', 'the', 'united', 'states', 'and', 'well', 'disposed', 'to', 'the', 'good', 'order', 'and', 'happiness', 'of', 'the', 'same.', 'thereupon', 'the', 'court', 'admitted', 'the', 'said', 'applicant', 'to', 'become', 'a', 'citizen', 'of', 'the', 'united', 'states', 'and', 'ordered', 'all', 'proceedings', 'aforesaid', 'to', 'be', 'entered', 'of', 'record', 'which', 'was', 'accordingly', 'done', 'by', 'the', 'clerk', 'of', 'this', 'court.', 'in', 'testimony', 'whereof', 'i', 'ira', 'm.', 'gifford', 'clerk', 'of', 'the', 'court', 'aforesaid', 'have', 'hereto', 'set', 'my', 'hand', 'and', 'affixed', 'the', 'seal', 'of', 'said', 'court', 'at', 'office', 'in', 'the', 'city', 'of', 'davenport', 'in', 'sadi', 'county', 'this', 'the', 'seventh', 'day', 'of', 'november', 'in', 'the', 'year', 'of', 'our', 'lord', 'one', 'thousand', 'eighthundred', 'and', 'sixty', 'four', 'ira', 'm', 'gifford', 'clerk', 'of', 'the', 'district', 'court']\n",
            "prediction list=>['ddia', 'mericas', 'saatiae', 'a', 'united', 'ea', 'state', 'of', 'ioway', 'ssa', 'scott', 'cquntyt', 'se', 'it', 'reuewtbereds', 'that', 'at', '2', 'term', 'ol', 'the', 'district', 'court', 'holden', 'in', 'and', 'for', 'said', 'counta', 'the', 'hucm', 'zen', 'city', 'of', 'datenport', 'thereil', 'on', 'the', 'ustire', 'day', 'of', 'in', 'the', 'year', 'ofoufl', 'dne', 'thousand', 'eiglht', 'hundre', 'anda', 'was', 'present', 'the', 'hororable', 'ta', 'scott', 'richmant', 'sole', 'diding', 'judge', 'john', 'me', 'lyter', 'sheriff', 'of', 'said', 'county', 'and', 'ira', 'n', 'gifford', 'clerk', 'of', 'said', 'cuilrt', 'thenie', 'tol', 'sowa', 'laus', 'olew', 'ltr', 'among', 'ctherp', 'eedings', 'were', 'had', 'towits', 'it', 'application', 'lo', 'be', 'admitted', 'to', 'acome', 'mited', 'states', 'and', 'it', 'appearing', 'to', 'f', 'the', 'court', 'that', 'he', 'had', 'declaredu', 'oath', 'oureeds', 'colt', 'oo', 'cored', 'oiud', 'soutt', 'oe', 'record', 'injing', 'lommon', 'law', 'jurisdiction', 'and', 'using', 'd', 'sal', 'two', 'years', 'lt', 'least', 'betore', 'lis', 'lumission', 'thae', 'it', 'was', 'bona', 'fide', 'his', 'intextion', 'to', 'buconng', 'l', 'citizen', 'of', 'the', 'united', 'stats', 'and', 'to', 'renuuwe', 'aleter', 'all', 'allegian', 'foreign', 'prince', 'potentater', 'state', 'or', 'sovereignty', 'whatsoever', 'and', 'particularly', 'to', 'ho', 'rmj', 'weden', 'snbies', 'of', 'wh', 'ormne', 'he', 'was', 'herctofore', '', 'es', 'and', 'laid', 'applicant', 'having', 'lecared', 'oil', 'oath', 'sfore', 'this', 'ort', 'that', 'he', 'will', 'support', 'the', 'conistitution', 'of', 'the', 'united', 'stateny', 'lnud', 'that', 'he', 'doth', 'absolutely', 'entirely', 'cnounce', 'sslabjure', 'all', 'allegiane', 'ce', 'and', 'fidelily', 'to', 'every', 'foreign', 'prince', 'potuntate', 'state', 'dr', 'sovereigntys', 'atsolver', 'ud', 'pir', 'ticularly', 'to', 'the', 'powcr', 'above', 'naned', 'the', 'court', 'being', 'sa', 'tislfied', 'tutt', 'said', 'applicant', 'has', 'resided', 'within', 'thc', 'united', 'states', 'for', 'the', 'terin', 'of', 'five', 'ycars', 'next', 'preceding', 'his', 'admissioly', 'witlhout', 'being', 'at', 'any', 'time', 'during', 'the', 'saill', 'lie', 'years', 'out', 'of', 'the', 'territory', 'of', 'the', 'united', 'states', 'and', 'within', 'this', 'stilo', 'ont', 'yer', 'at', 'leasts', 'ald', 'lt', 'further', 'appearing', 'to', 'the', 'satisfaction', 'of', 'this', 'court', 'that', 'during', 'that', 'timer', 'ho', 'lhas', 'behaved', 'as', 'tl', 'llliln', 'of', 'goud', 'moral', 'character', 'attachedto', 'the', 'constitution', 'of', 'the', 'united', 'statcs', 'and', 'well', 'disposed', 'to', 'tle', 'good', 'ordler', 'and', 'happiness', 'of', 'the', 'sanie', 'thereupn', 'the', 'presaid', 'court', 'admitted', 'tlle', 'salid', 'applicant', 'to', 'becone', 'e', 'citizen', 'of', 'the', 'united', 'states', 'atndl', 'ordered', 'all', 'proceedings', 'yu', 'uestinou', 'wleceoy', 'l', 'ira', 'ms', 'gifford', 'tf', 'clerk', 'of', 'the', 'court', 'aloresal', 'bave', 'hereto', 'set', 'my', 'hand', 'and', 'alixed', 'the', 'seal', 'ul', 'sail', 'court', 'at', 'oflico', 'im', '1e', 'city', 'of', 'dwreumi', 'ln', 'sail', 'county', 'tlis', 'chec', 'jecn', 'ia', 'bed', 'day', 'in', 'thepear', 'of', 'ourtord', 'hundred', 'and', 'sixty', 'fou', 'one', 'thousall', 'eight', 'rntazo', 'clerk', 'f', 'district', 'coupt']\n",
            "Groundtruth list length: 454\n",
            "Prediction list length: 394\n",
            "Overall accuracy: 26.903553299492383 %\n",
            "Partial match percentage: 18.781725888324875 %\n",
            "\n",
            "Matching words:\n",
            "['a', 'united', 'state', 'of', 'scott', 'it', 'that', 'at', 'term', 'the', 'district', 'court', 'holden', 'in', 'and', 'for', 'said', 'city', 'on', 'day', 'year', 'thousand', 'was', 'present', 'sole', 'judge', 'john', 'lyter', 'sheriff', 'county', 'ira', 'gifford', 'clerk', 'among', 'were', 'had', 'application', 'be', 'admitted', 'to', 'states', 'appearing', 'he', 'oath', 'record', 'law', 'jurisdiction', 'using', 'd', 'two', 'years', 'bona', 'fide', 'his', 'citizen', 'all', 'prince', 'or', 'sovereignty', 'whatsoever', 'particularly', 'wh', 'applicant', 'having', 'this', 'will', 'support', 'doth', 'absolutely', 'entirely', 'every', 'ticularly', 'above', 'being', 'has', 'resided', 'within', 'five', 'next', 'any', 'time', 'during', 'out', 'territory', 'further', 'satisfaction', 'behaved', 'as', 'moral', 'character', 'constitution', 'well', 'disposed', 'good', 'happiness', 'ordered', 'proceedings', 'hereto', 'set', 'my', 'hand', 'seal', 'hundred', 'sixty', 'one', 'eight']\n",
            "\n",
            "Partially Matching words:\n",
            "['mericas', 'ioway', 'se', 'counta', 'the', 'datenport', 'thereil', 'the', 'the', 'dne', 'eiglht', 'hundre', 'the', 'hororable', 'richmant', 'and', 'tol', 'laus', 'and', 'to', 'the', 'court', 'had', 'declaredu', 'oe', 'lommon', 'and', 'sal', 'least', 'betore', 'was', 'intextion', 'and', 'allegian', 'foreign', 'potentater', 'and', 'weden', 'was', 'herctofore', 'and', 'lecared', 'oath', 'conistitution', 'cnounce', 'sslabjure', 'allegiane', 'and', 'fidelily', 'foreign', 'potuntate', 'powcr', 'court', 'tislfied', 'for', 'terin', 'preceding', 'admissioly', 'witlhout', 'and', 'leasts', 'court', 'attachedto', 'and', 'ordler', 'and', 'thereupn', 'court', 'becone', 'court', 'and', 'court', 'and', 'fou']\n",
            "\n",
            "Mismatched words:\n",
            "['ddia', 'saatiae', 'ea', 'ssa', 'cquntyt', 'reuewtbereds', '2', 'ol', 'hucm', 'zen', 'of', 'ustire', 'of', 'in', 'ofoufl', 'anda', 'ta', 'scott', 'diding', 'me', 'of', 'said', 'n', 'of', 'said', 'cuilrt', 'thenie', 'sowa', 'olew', 'ltr', 'ctherp', 'eedings', 'towits', 'it', 'lo', 'acome', 'mited', 'it', 'f', 'that', 'oureeds', 'colt', 'oo', 'cored', 'oiud', 'soutt', 'injing', 'lt', 'lis', 'lumission', 'thae', 'it', 'buconng', 'l', 'of', 'united', 'stats', 'renuuwe', 'aleter', 'state', 'ho', 'rmj', 'snbies', 'of', 'ormne', 'he', '', 'es', 'laid', 'oil', 'sfore', 'ort', 'that', 'he', 'of', 'united', 'stateny', 'lnud', 'that', 'he', 'all', 'ce', 'prince', 'state', 'dr', 'sovereigntys', 'atsolver', 'ud', 'pir', 'naned', 'sa', 'tutt', 'said', 'applicant', 'thc', 'united', 'states', 'of', 'ycars', 'his', 'being', 'at', 'saill', 'lie', 'years', 'of', 'of', 'united', 'states', 'within', 'this', 'stilo', 'ont', 'yer', 'at', 'ald', 'lt', 'appearing', 'of', 'this', 'that', 'during', 'that', 'timer', 'ho', 'lhas', 'tl', 'llliln', 'of', 'goud', 'of', 'united', 'statcs', 'tle', 'of', 'sanie', 'presaid', 'admitted', 'tlle', 'salid', 'applicant', 'e', 'citizen', 'of', 'united', 'states', 'atndl', 'all', 'yu', 'uestinou', 'wleceoy', 'l', 'ira', 'ms', 'gifford', 'tf', 'clerk', 'of', 'aloresal', 'bave', 'alixed', 'ul', 'sail', 'at', 'oflico', 'im', '1e', 'city', 'of', 'dwreumi', 'ln', 'sail', 'county', 'tlis', 'chec', 'jecn', 'ia', 'bed', 'day', 'in', 'thepear', 'of', 'ourtord', 'thousall', 'rntazo', 'clerk', 'f', 'district', 'coupt']\n",
            "==========xform3===========\n",
            "groundtruth_list =>['united', 'states', 'of', 'america', 'our', 'liberty', 'we', 'prize', 'and', 'out', 'rights', 'we', 'will', 'maintain', 'state', 'of', 'iowa', 'ss:', 'scott', 'county', 'be', 'it', 'remembered', 'that', 'at', 'a', 'term', 'of', 'the', 'district', 'court', 'holden', 'in', 'and', 'for', 'said', 'county', 'in', 'the', 'city', 'of', 'davenport', 'therein', 'on', 'the', '7', 'day', 'of', 'november', 'in', 'the', 'year', 'of', 'our', 'lord', 'one', 'thousand', 'eight', 'hundred', 'sixtyfour', 'was', 'presentthe', 'honorable', 'j.', 'scott', 'richman', 'sole', 'presiding', 'judge', 'john', 'm.', 'lyter', 'sheriff', 'of', 'said', 'county', 'and', 'ira', 'm.', 'gifford', 'clerk', 'of', 'said', 'court', 'when', 'the', 'fol-', 'lowing', 'among', 'other', 'proceedings', 'were', 'had', 'to', 'wit:', 'hans', 'claus', 'olson', 'a', 'native', 'of', 'norway', 'and', 'at', 'present', 'residing', 'within', 'said', 'state', 'appeared', 'in', 'open', 'court', 'and', 'made', 'application', 'to', 'be', 'admitted', 'to', 'become', 'a', 'citizen', 'of', 'the', 'united', 'states', 'and', 'it', 'appearing', 'to', 'the', 'satisfaction', 'of', 'the', 'court', 'that', 'he', 'had', 'declared', 'an', 'oath', 'before', 'j', 'd', 'paton', 'clerk', 'of', 'the', 'scott', 'co', 'district', 'court', 'a', 'court', 'of', 'record', 'having', 'common', 'law', 'jurisdiction', 'and', 'using', 'a', 'seal', 'two', 'years', 'before', 'his', 'admission', 'that', 'it', 'was', 'bona', 'fide', 'his', 'intention', 'to', 'become', 'a', 'citizen', 'of', 'the', 'united', 'states', 'and', 'to', 'renounce', 'forever', 'all', 'allegiance', 'to', 'any', 'foriegn', 'prince', 'potentiate', 'state', 'or', 'sovereignty', 'whatsoever', 'an', 'particularly', 'to', 'the', 'king', 'of', 'sweden', 'of', 'wh', 'om', 'he', 'was', 'heretofore', 'a', 'subject', 'and', 'said', 'applicant', 'having', 'declared', 'an', 'oth', 'before', 'this', 'court', 'that', 'he', 'will', 'support', 'the', 'constitution', 'of', 'the', 'united', 'states', 'and', 'that', 'he', 'doth', 'absolutely', 'and', 'entirely', 'renounce', 'and', 'and', 'abjure', 'all', 'allegience', 'and', 'fidelity', 'to', 'every', 'foriegn', 'prince', 'potentiate', 'state', 'or', 'sovereignty', 'whatsoever', 'and', 'par-', 'ticularly', 'to', 'the', 'power', 'above', 'named.', 'the', 'court', 'being', 'satisfied', 'that', 'said', 'applicant', 'has', 'resided', 'within', 'the', 'united', 'states', 'for', 'the', 'term', 'of', 'five', 'years', 'next', 'preceeding', 'his', 'admission', 'without', 'being', 'at', 'any', 'time', 'during', 'said', 'five', 'years', 'out', 'of', 'the', 'territory', 'of', 'the', 'united', 'states', 'and', 'within', 'this', 'state', 'one', 'year', 'at', 'least;', 'and', 'it', 'further', 'appearing', 'to', 'the', 'satisfaction', 'of', 'this', 'court', 'that', 'during', 'that', 'time', 'he', 'has', 'behaved', 'as', 'a', 'man', 'of', 'good', 'moral', 'character', 'attached', 'to', 'the', 'constitution', 'of', 'the', 'united', 'states', 'and', 'well', 'disposed', 'to', 'the', 'good', 'order', 'and', 'happiness', 'of', 'the', 'same.', 'thereupon', 'the', 'court', 'admitted', 'the', 'said', 'applicant', 'to', 'become', 'a', 'citizen', 'of', 'the', 'united', 'states', 'and', 'ordered', 'all', 'proceedings', 'aforesaid', 'to', 'be', 'entered', 'of', 'record', 'which', 'was', 'accordingly', 'done', 'by', 'the', 'clerk', 'of', 'this', 'court.', 'in', 'testimony', 'whereof', 'i', 'ira', 'm.', 'gifford', 'clerk', 'of', 'the', 'court', 'aforesaid', 'have', 'hereto', 'set', 'my', 'hand', 'and', 'affixed', 'the', 'seal', 'of', 'said', 'court', 'at', 'office', 'in', 'the', 'city', 'of', 'davenport', 'in', 'sadi', 'county', 'this', 'the', 'seventh', 'day', 'of', 'november', 'in', 'the', 'year', 'of', 'our', 'lord', 'one', 'thousand', 'eighthundred', 'and', 'sixty', 'four', 'ira', 'm', 'gifford', 'clerk', 'of', 'the', 'district', 'court']\n",
            "prediction list=>['of', 'america', 'states', 'united', 'h', 'ea', 'state', 'of', 'iowa', 'ss', 'scott', 'countys', 'se', 'it', 'renenbered', 'that', 'at', 'a', 'term', 'of', 'the', 'district', 'court', 'holden', 'in', 'and', 'for', 'said', 'countyn', 'the', 'dvcm', 'lec', 'city', 'of', 'davenport', 'therein', 'on', 'the', 'day', 'of', 'im', 'the', 'tear', 'of', 'our', 'la', 'one', 'sale', 'thousand', 'eight', 'hundre', 'and', 'fuw', 'vas', 'present', 'the', 'hororable', 'jo', 'scott', 'richmang', 'sole', 'piding', 'judge', 'john', 'm', 'lyter', 'sheriff', 'of', 'said', 'county', 'and', 'ira', 'l', 'gifford', 'clerk', 'of', 'said', 'court', 'whene', 'fol', 'towritaans', 'muans', 'olew', 'lowing', 'among', 'other', 'oceedings', 'wcre', 'had', 'l', 'native', 'of', 'or', 'aia', 'presens', 'residin', 'talnm', 'aid', 'stalter', 'appeared', 'in', 'open', 'cour', 'cad', 'dc', 'admitled', 'co', 'come', 'a', 'citizen', 'of', 'the', 'uited', 'dam', 'states', 'caklurases', 'it', 'to', 'the', 'cohoo', 'satitaction', 'of', 'dosked', 'the', 'court', 'that', 'oua', 'he', 'had', 'declaredn', 'oath', 'before', 'l', 'court', 'of', 'record', 'lming', 'common', 'law', 'jurisdiction', 'and', 'using', 'a', 'sal', 'two', 'years', 'at', 'least', 'before', 'nis', 'admisslons', 'that', 'it', 'was', 'bona', 'fide', 'his', 'inter', 'tion', 'to', 'become', 'd', 'citizen', 'of', 'the', 'united', 'stats', 'and', 'to', 'renounce', 'forever', 'all', 'allegiance', 'o', 'sos', 'foreign', 'princes', 'potentates', 'state', 'or', 'sovereignty', 'whatsoever', 'and', 'particularly', 'to', 'h', 'hm', 'weden', 'sied', 'of', 'wh', 'he', 'was', 'heretoforc', 'a', 'and', 'aid', 'applicant', 'hav', 'ing', 'declared', 'on', 'oath', 'before', 'this', 'court', 'that', 'he', 'will', 'support', 'the', 'constitution', 'of', 'the', 'united', 'states', 'and', 'that', 'he', 'doth', 'absolutely', 'and', 'entirely', 'enounce', 'and', 'abjure', 'all', 'allegiance', 'and', 'fdelity', 'to', 'every', 'foreign', 'prince', 'poentate', 'state', 'or', 'sovereignty', 'whatsoever', 'nd', 'par', 'ticularly', 'to', 'the', 'power', 'above', 'named', 'the', 'court', 'being', 'satisfied', 'that', 'said', 'applicant', 'has', 'resided', 'within', 'the', 'united', 'states', 'for', 'the', 'term', 'of', 'five', 'years', 'next', 'preceeding', 'his', 'admission', 'without', 'being', 'at', 'any', 'time', 'during', 'the', 'said', 'fe', 'years', 'out', 'of', 'the', 'territory', 'of', 'the', 'united', 'sta', 'tes', 'and', 'within', 'this', 'state', 'one', 'year', 'at', 'least', 'and', 'it', 'further', 'appearing', 'to', 'the', 'satisfaction', 'of', 'this', 'court', 'that', 'during', 'that', 'time', 'he', 'has', 'behaved', 'as', 's', 'man', 'of', 'good', 'moral', 'character', 'attached', 'to', 'the', 'the', 'constitution', 'of', 'the', 'united', 'states', 'and', 'well', 'disposed', 'to', 'the', 'good', 'order', 'and', 'happiness', 'of', 'the', 'ame', 'thereupn', 'courtadmitted', 'the', 'salid', 'applicant', 'to', 'become', 'a', 'cltizen', 'of', 'tho', 'unitod', 'states', 'and', 'ordered', 'all', 'proceedings', 'presaid', 'un', 'testimtony', 'shereof', 'l', 'ira', 'm', 'gifford', 'olerk', 'of', 'the', 'court', 'aforesat', 'have', 'hereto', 'set', 'of', 'my', 'hand', 'nnem', 'enport', 'and', 'in', 'said', 'aflixed', 'the', 'county', 'seal', 'this', 'of', 'the', 'sud', 'eem', 'court', 'al', 'ofice', 'in', 'c', 'city', 'bes', 'day', 'hundred', 'and', 'sixty', 'in', 'ir', 'the', 'ear', 'of', 'ourlord', 'one', 'thousanl', 'eight', 'sets', 'clerk', 'of', 'district', 'couat']\n",
            "Groundtruth list length: 454\n",
            "Prediction list length: 417\n",
            "Overall accuracy: 31.17505995203837 %\n",
            "Partial match percentage: 20.863309352517987 %\n",
            "\n",
            "Matching words:\n",
            "['of', 'america', 'states', 'united', 'state', 'iowa', 'scott', 'it', 'that', 'at', 'a', 'term', 'the', 'district', 'court', 'holden', 'in', 'and', 'for', 'said', 'city', 'davenport', 'therein', 'on', 'day', 'our', 'one', 'thousand', 'eight', 'present', 'sole', 'judge', 'john', 'm', 'lyter', 'sheriff', 'county', 'ira', 'gifford', 'clerk', 'lowing', 'among', 'other', 'had', 'native', 'or', 'appeared', 'open', 'co', 'citizen', 'to', 'he', 'oath', 'before', 'record', 'common', 'law', 'jurisdiction', 'using', 'two', 'years', 'was', 'bona', 'fide', 'his', 'become', 'd', 'renounce', 'forever', 'all', 'allegiance', 'sovereignty', 'whatsoever', 'particularly', 'wh', 'applicant', 'declared', 'this', 'will', 'support', 'constitution', 'doth', 'absolutely', 'entirely', 'abjure', 'every', 'prince', 'ticularly', 'power', 'above', 'being', 'satisfied', 'has', 'resided', 'within', 'five', 'next', 'preceeding', 'admission', 'without', 'any', 'time', 'during', 'out', 'territory', 'year', 'further', 'appearing', 'satisfaction', 'behaved', 'as', 'man', 'good', 'moral', 'character', 'attached', 'well', 'disposed', 'order', 'happiness', 'ordered', 'proceedings', 'have', 'hereto', 'set', 'my', 'hand', 'seal', 'hundred', 'sixty']\n",
            "\n",
            "Partially Matching words:\n",
            "['ss', 'countys', 'se', 'renenbered', 'countyn', 'the', 'the', 'the', 'la', 'hundre', 'and', 'vas', 'the', 'hororable', 'richmang', 'piding', 'and', 'court', 'whene', 'fol', 'oceedings', 'residin', 'cour', 'admitled', 'come', 'the', 'the', 'satitaction', 'the', 'court', 'had', 'declaredn', 'court', 'and', 'sal', 'least', 'admisslons', 'and', 'foreign', 'princes', 'potentates', 'and', 'weden', 'was', 'heretoforc', 'and', 'hav', 'ing', 'oath', 'court', 'and', 'and', 'and', 'allegiance', 'and', 'fdelity', 'foreign', 'poentate', 'par', 'named', 'court', 'applicant', 'for', 'years', 'years', 'and', 'one', 'least', 'and', 'court', 'has', 'and', 'and', 'thereupn', 'applicant', 'and', 'testimtony', 'shereof', 'court', 'aforesat', 'and', 'aflixed', 'court', 'ofice', 'bes', 'and', 'one']\n",
            "\n",
            "Mismatched words:\n",
            "['h', 'ea', 'of', 'of', 'dvcm', 'lec', 'of', 'of', 'im', 'tear', 'of', 'sale', 'fuw', 'jo', 'scott', 'of', 'said', 'l', 'of', 'said', 'towritaans', 'muans', 'olew', 'wcre', 'l', 'of', 'aia', 'presens', 'talnm', 'aid', 'stalter', 'in', 'cad', 'dc', 'a', 'of', 'uited', 'dam', 'states', 'caklurases', 'it', 'cohoo', 'of', 'dosked', 'that', 'oua', 'l', 'of', 'lming', 'a', 'at', 'before', 'nis', 'that', 'it', 'inter', 'tion', 'to', 'citizen', 'of', 'united', 'stats', 'to', 'o', 'sos', 'state', 'or', 'to', 'h', 'hm', 'sied', 'of', 'he', 'a', 'aid', 'on', 'before', 'that', 'he', 'of', 'united', 'states', 'that', 'he', 'enounce', 'all', 'to', 'state', 'or', 'sovereignty', 'whatsoever', 'nd', 'to', 'that', 'said', 'united', 'states', 'term', 'of', 'his', 'being', 'at', 'said', 'fe', 'of', 'of', 'united', 'sta', 'tes', 'within', 'this', 'state', 'at', 'it', 'to', 'of', 'this', 'that', 'during', 'that', 'time', 'he', 's', 'of', 'to', 'constitution', 'of', 'united', 'states', 'to', 'good', 'of', 'ame', 'courtadmitted', 'salid', 'to', 'become', 'a', 'cltizen', 'of', 'tho', 'unitod', 'states', 'all', 'presaid', 'un', 'l', 'ira', 'm', 'gifford', 'olerk', 'of', 'of', 'nnem', 'enport', 'in', 'said', 'county', 'this', 'of', 'sud', 'eem', 'al', 'in', 'c', 'city', 'day', 'in', 'ir', 'ear', 'of', 'ourlord', 'thousanl', 'eight', 'sets', 'clerk', 'of', 'district', 'couat']\n",
            "==========xform4===========\n",
            "groundtruth_list =>['united', 'states', 'of', 'america', 'our', 'liberty', 'we', 'prize', 'and', 'out', 'rights', 'we', 'will', 'maintain', 'state', 'of', 'iowa', 'ss:', 'scott', 'county', 'be', 'it', 'remembered', 'that', 'at', 'a', 'term', 'of', 'the', 'district', 'court', 'holden', 'in', 'and', 'for', 'said', 'county', 'in', 'the', 'city', 'of', 'davenport', 'therein', 'on', 'the', '7', 'day', 'of', 'november', 'in', 'the', 'year', 'of', 'our', 'lord', 'one', 'thousand', 'eight', 'hundred', 'sixtyfour', 'was', 'presentthe', 'honorable', 'j.', 'scott', 'richman', 'sole', 'presiding', 'judge', 'john', 'm.', 'lyter', 'sheriff', 'of', 'said', 'county', 'and', 'ira', 'm.', 'gifford', 'clerk', 'of', 'said', 'court', 'when', 'the', 'fol-', 'lowing', 'among', 'other', 'proceedings', 'were', 'had', 'to', 'wit:', 'hans', 'claus', 'olson', 'a', 'native', 'of', 'norway', 'and', 'at', 'present', 'residing', 'within', 'said', 'state', 'appeared', 'in', 'open', 'court', 'and', 'made', 'application', 'to', 'be', 'admitted', 'to', 'become', 'a', 'citizen', 'of', 'the', 'united', 'states', 'and', 'it', 'appearing', 'to', 'the', 'satisfaction', 'of', 'the', 'court', 'that', 'he', 'had', 'declared', 'an', 'oath', 'before', 'j', 'd', 'paton', 'clerk', 'of', 'the', 'scott', 'co', 'district', 'court', 'a', 'court', 'of', 'record', 'having', 'common', 'law', 'jurisdiction', 'and', 'using', 'a', 'seal', 'two', 'years', 'before', 'his', 'admission', 'that', 'it', 'was', 'bona', 'fide', 'his', 'intention', 'to', 'become', 'a', 'citizen', 'of', 'the', 'united', 'states', 'and', 'to', 'renounce', 'forever', 'all', 'allegiance', 'to', 'any', 'foriegn', 'prince', 'potentiate', 'state', 'or', 'sovereignty', 'whatsoever', 'an', 'particularly', 'to', 'the', 'king', 'of', 'sweden', 'of', 'wh', 'om', 'he', 'was', 'heretofore', 'a', 'subject', 'and', 'said', 'applicant', 'having', 'declared', 'an', 'oth', 'before', 'this', 'court', 'that', 'he', 'will', 'support', 'the', 'constitution', 'of', 'the', 'united', 'states', 'and', 'that', 'he', 'doth', 'absolutely', 'and', 'entirely', 'renounce', 'and', 'and', 'abjure', 'all', 'allegience', 'and', 'fidelity', 'to', 'every', 'foriegn', 'prince', 'potentiate', 'state', 'or', 'sovereignty', 'whatsoever', 'and', 'par-', 'ticularly', 'to', 'the', 'power', 'above', 'named.', 'the', 'court', 'being', 'satisfied', 'that', 'said', 'applicant', 'has', 'resided', 'within', 'the', 'united', 'states', 'for', 'the', 'term', 'of', 'five', 'years', 'next', 'preceeding', 'his', 'admission', 'without', 'being', 'at', 'any', 'time', 'during', 'said', 'five', 'years', 'out', 'of', 'the', 'territory', 'of', 'the', 'united', 'states', 'and', 'within', 'this', 'state', 'one', 'year', 'at', 'least;', 'and', 'it', 'further', 'appearing', 'to', 'the', 'satisfaction', 'of', 'this', 'court', 'that', 'during', 'that', 'time', 'he', 'has', 'behaved', 'as', 'a', 'man', 'of', 'good', 'moral', 'character', 'attached', 'to', 'the', 'constitution', 'of', 'the', 'united', 'states', 'and', 'well', 'disposed', 'to', 'the', 'good', 'order', 'and', 'happiness', 'of', 'the', 'same.', 'thereupon', 'the', 'court', 'admitted', 'the', 'said', 'applicant', 'to', 'become', 'a', 'citizen', 'of', 'the', 'united', 'states', 'and', 'ordered', 'all', 'proceedings', 'aforesaid', 'to', 'be', 'entered', 'of', 'record', 'which', 'was', 'accordingly', 'done', 'by', 'the', 'clerk', 'of', 'this', 'court.', 'in', 'testimony', 'whereof', 'i', 'ira', 'm.', 'gifford', 'clerk', 'of', 'the', 'court', 'aforesaid', 'have', 'hereto', 'set', 'my', 'hand', 'and', 'affixed', 'the', 'seal', 'of', 'said', 'court', 'at', 'office', 'in', 'the', 'city', 'of', 'davenport', 'in', 'sadi', 'county', 'this', 'the', 'seventh', 'day', 'of', 'november', 'in', 'the', 'year', 'of', 'our', 'lord', 'one', 'thousand', 'eighthundred', 'and', 'sixty', 'four', 'ira', 'm', 'gifford', 'clerk', 'of', 'the', 'district', 'court']\n",
            "prediction list=>['of', 'americas', 'states', 'united', 'e', 'mtil', 'ea', 'iowag', 'state', 'of', 'ssi', 'scott', 'countys', 'se', 'it', 'tentertbereds', 'that', 'at', 'a', 'term', 'of', 'the', 'district', 'court', 'holden', 'in', 'and', 'for', 'said', 'countyn', 'the', 'ovcms', 'ce', 'city', 'of', 'davenport', 'theren', 'on', 'the', 'arisiton', 'day', 'of', 'in', 'the', 'year', 'of', 'our', 'ld', 'one', 'thousand', 'eight', 'hundred', 'and', 'was', 'present', 'the', 'hororable', 'it', 'scott', 'richman', 'sole', 'piding', 'judge', 'john', 'me', 'lyter', 'sheriff', 'of', 'said', 'county', 'and', 'ira', 'mo', 'gifford', 'clerk', 'of', 'said', 'court', 'whene', 'fol', 'aams', 'uans', 'olew', 'lowing', 'anong', 'other', 'poceedings', 'were', 'hads', 'towits', 'a', 'native', 'of', 'otw', 'cltt', 'cen', 'preseit', 'resicing', 'witmim', 'aid', 'stater', 'appeared', 'im', 'open', 'cour', 'cicl', 'crplication', 'to', 'be', 'admitted', 'to', 'scome', 'c', 'citizen', 'of', 'the', 'uited', 'states', 'and', '1t', 'appearing', 'to', 'the', 'satifaction', 'of', 'the', 'court', 'that', 'he', 'had', 'declaredn', 'oath', 'salns', 'obredns', 'cot', 'oo', 'sshed', 'nous', 'before', 'a', 'court', 'of', 'record', 'lling', 'common', 'law', 'jurisdiction', 'and', 'using', 'cl', 'sal', 'two', 'years', 'at', 'least', 'before', 'his', 'admissiong', 'that', 'it', 'was', 'bona', 'fide', 'his', 'intex', 'tion', 'to', 'become', 'a', 'citizen', 'of', 'the', 'united', 'stats', 'and', 'to', 'renounce', 'forever', 'all', 'allegiance', 'to', 'ay', 'foreign', 'princer', 'potentater', 'state', 'or', 'sovereignty', 'whatsoever', 'and', 'particularly', 'to', 'ih', 'rm', 'medes', 'eigse', 'of', 'wh', 'oms', 'he', 'was', 'heretoforc', 'a', 'and', 'laid', 'applicant', 'having', 'declared', 'on', 'oath', 'before', 'this', 'court', 'that', 'he', 'will', 'support', 'the', 'constitution', 'of', 'the', 'united', 'states', 'end', 'that', 'he', 'doth', 'absolutely', 'and', 'entirely', 'renounce', 'and', 'abjure', 'all', 'allegiance', 'and', 'fidelity', 'to', 'every', 'foreign', 'prince', 'potentater', 'state', 'or', 'sovereignty', 'whatsoever', 'nd', 'par', 'ticularly', 'to', 'the', 'power', 'above', 'named', 'the', 'court', 'being', 'satisfied', 'that', 'said', 'applicant', 'has', 'resided', 'within', 'the', 'united', 'states', 'for', 'the', 'term', 'of', 'five', 'ycars', 'next', 'preceeding', 'his', 'admission', 'without', 'being', 'at', 'any', 'time', 'during', 'the', 'said', 'fe', 'years', 'out', 'of', 'the', 'territory', 'of', 'the', 'united', 'states', 'and', 'within', 'this', 'state', 'one', 'year', 'at', 'leasts', 'and', 'it', 'further', 'appearing', 'to', 'the', 'satisfaction', 'of', 'this', 'court', 'that', 'during', 'that', 'time', 'he', 'has', 'behaved', 'as', 'a', 'man', 'of', 'good', 'moral', 'charactery', 'attachedto', 'the', 'constitution', 'of', 'the', 'united', 'states', 'and', 'well', 'disposed', 'to', 'the', 'good', 'order', 'and', 'happiness', 'of', 'the', 'same', 'thereupn', 'the', 'presaid', 'ordered', 'all', 'proceedings', 'courtadmitted', 'the', 'salid', 'applicant', 'to', 'become', 'o', 'citizen', 'of', 'the', 'united', 'states', 'and', 'yw', 'testimony', 'neteons', 'i', 'ra', 'mo', 'giffords', 'olerk', 'of', 'the', 'court', 'aforesal', 'have', 'hereto', 'set', 'my', 'hand', 'and', 'allxed', 'the', 'seal', 'of', 'said', 'court', 'at', 'office', 'in', 'le', 'city', 'of', 'dawenport', 'in', 'said', 'county', 'this', 'the', 'seom', 'nncm', 'bes', 'day', 'hundred', 'and', 'sixty', 'in', 'ole', 'the', 'y', 'ear', 'of', 'ourlord', 'one', 'thousanl', 'eight', 'ntzo', 'clerh', 'f', 'district', 'cout']\n",
            "Groundtruth list length: 454\n",
            "Prediction list length: 423\n",
            "Overall accuracy: 30.73286052009456 %\n",
            "Partial match percentage: 19.858156028368796 %\n",
            "\n",
            "Matching words:\n",
            "['of', 'states', 'united', 'state', 'scott', 'it', 'that', 'at', 'a', 'term', 'the', 'district', 'court', 'holden', 'in', 'and', 'for', 'said', 'city', 'davenport', 'on', 'day', 'year', 'our', 'one', 'thousand', 'eight', 'hundred', 'was', 'present', 'richman', 'sole', 'judge', 'john', 'lyter', 'sheriff', 'county', 'ira', 'gifford', 'clerk', 'lowing', 'other', 'were', 'native', 'appeared', 'open', 'to', 'be', 'admitted', 'citizen', 'appearing', 'he', 'had', 'oath', 'before', 'record', 'common', 'law', 'jurisdiction', 'using', 'two', 'years', 'his', 'bona', 'fide', 'become', 'renounce', 'forever', 'all', 'allegiance', 'or', 'sovereignty', 'whatsoever', 'particularly', 'wh', 'applicant', 'having', 'declared', 'this', 'will', 'support', 'constitution', 'doth', 'absolutely', 'entirely', 'abjure', 'fidelity', 'every', 'prince', 'ticularly', 'power', 'above', 'being', 'satisfied', 'has', 'resided', 'within', 'five', 'next', 'preceeding', 'admission', 'without', 'any', 'time', 'during', 'out', 'territory', 'further', 'satisfaction', 'behaved', 'as', 'man', 'good', 'moral', 'well', 'disposed', 'order', 'happiness', 'ordered', 'proceedings', 'testimony', 'i', 'have', 'hereto', 'set', 'my', 'hand', 'seal', 'office', 'sixty']\n",
            "\n",
            "Partially Matching words:\n",
            "['americas', 'iowag', 'countys', 'se', 'countyn', 'the', 'theren', 'the', 'the', 'and', 'the', 'hororable', 'piding', 'and', 'court', 'whene', 'fol', 'anong', 'poceedings', 'hads', 'resicing', 'cour', 'crplication', 'to', 'the', 'and', 'to', 'the', 'satifaction', 'the', 'court', 'declaredn', 'cot', 'court', 'and', 'sal', 'least', 'admissiong', 'was', 'his', 'and', 'ay', 'foreign', 'princer', 'potentater', 'and', 'oms', 'was', 'heretoforc', 'and', 'oath', 'court', 'and', 'and', 'allegiance', 'and', 'foreign', 'potentater', 'par', 'named', 'court', 'applicant', 'for', 'and', 'one', 'leasts', 'and', 'court', 'has', 'charactery', 'attachedto', 'and', 'and', 'same', 'thereupn', 'applicant', 'and', 'court', 'aforesal', 'and', 'court', 'and', 'one', 'cout']\n",
            "\n",
            "Mismatched words:\n",
            "['e', 'mtil', 'ea', 'of', 'ssi', 'tentertbereds', 'of', 'ovcms', 'ce', 'of', 'arisiton', 'of', 'in', 'of', 'ld', 'it', 'scott', 'me', 'of', 'said', 'mo', 'of', 'said', 'aams', 'uans', 'olew', 'towits', 'a', 'of', 'otw', 'cltt', 'cen', 'preseit', 'witmim', 'aid', 'stater', 'im', 'cicl', 'scome', 'c', 'of', 'uited', 'states', '1t', 'of', 'that', 'salns', 'obredns', 'oo', 'sshed', 'nous', 'a', 'of', 'lling', 'cl', 'at', 'before', 'that', 'it', 'intex', 'tion', 'a', 'citizen', 'of', 'united', 'stats', 'state', 'ih', 'rm', 'medes', 'eigse', 'of', 'he', 'a', 'laid', 'on', 'before', 'that', 'he', 'of', 'united', 'states', 'end', 'that', 'he', 'renounce', 'all', 'state', 'or', 'sovereignty', 'whatsoever', 'nd', 'that', 'said', 'united', 'states', 'term', 'of', 'ycars', 'being', 'at', 'said', 'fe', 'years', 'of', 'of', 'united', 'states', 'within', 'this', 'state', 'year', 'at', 'it', 'appearing', 'of', 'this', 'that', 'during', 'that', 'time', 'he', 'a', 'of', 'constitution', 'of', 'united', 'states', 'good', 'of', 'presaid', 'all', 'courtadmitted', 'salid', 'become', 'o', 'citizen', 'of', 'united', 'states', 'yw', 'neteons', 'ra', 'mo', 'giffords', 'olerk', 'of', 'allxed', 'of', 'said', 'at', 'in', 'le', 'city', 'of', 'dawenport', 'in', 'said', 'county', 'this', 'seom', 'nncm', 'bes', 'day', 'hundred', 'in', 'ole', 'y', 'ear', 'of', 'ourlord', 'thousanl', 'eight', 'ntzo', 'clerh', 'f', 'district']\n"
          ]
        },
        {
          "output_type": "execute_result",
          "data": {
            "text/plain": [
              "(130, 84, 30.73286052009456, 19.858156028368796)"
            ]
          },
          "metadata": {},
          "execution_count": 15
        }
      ]
    },
    {
      "cell_type": "code",
      "source": [
        "!pip3 install git+https://github.com/casics/nostril.git"
      ],
      "metadata": {
        "colab": {
          "base_uri": "https://localhost:8080/"
        },
        "id": "tAkktSfs-AtU",
        "outputId": "a28aee6e-d661-45fd-cec0-5b5ba9e908b9"
      },
      "execution_count": null,
      "outputs": [
        {
          "output_type": "stream",
          "name": "stdout",
          "text": [
            "Collecting git+https://github.com/casics/nostril.git\n",
            "  Cloning https://github.com/casics/nostril.git to /tmp/pip-req-build-vbsac6p5\n",
            "  Running command git clone --filter=blob:none --quiet https://github.com/casics/nostril.git /tmp/pip-req-build-vbsac6p5\n",
            "  Resolved https://github.com/casics/nostril.git to commit fbc0c91249283a9fbc9036206391ce1138826fd3\n",
            "  Preparing metadata (setup.py) ... \u001b[?25l\u001b[?25hdone\n",
            "Collecting plac>=0.9.1 (from nostril==1.2.0)\n",
            "  Downloading plac-1.4.3-py2.py3-none-any.whl (22 kB)\n",
            "Requirement already satisfied: tabulate>=0.7.7 in /usr/local/lib/python3.10/dist-packages (from nostril==1.2.0) (0.9.0)\n",
            "Requirement already satisfied: humanize>=0.5.1 in /usr/local/lib/python3.10/dist-packages (from nostril==1.2.0) (4.7.0)\n",
            "Requirement already satisfied: pytest>=3.0.5 in /usr/local/lib/python3.10/dist-packages (from nostril==1.2.0) (7.4.4)\n",
            "Requirement already satisfied: iniconfig in /usr/local/lib/python3.10/dist-packages (from pytest>=3.0.5->nostril==1.2.0) (2.0.0)\n",
            "Requirement already satisfied: packaging in /usr/local/lib/python3.10/dist-packages (from pytest>=3.0.5->nostril==1.2.0) (24.0)\n",
            "Requirement already satisfied: pluggy<2.0,>=0.12 in /usr/local/lib/python3.10/dist-packages (from pytest>=3.0.5->nostril==1.2.0) (1.5.0)\n",
            "Requirement already satisfied: exceptiongroup>=1.0.0rc8 in /usr/local/lib/python3.10/dist-packages (from pytest>=3.0.5->nostril==1.2.0) (1.2.1)\n",
            "Requirement already satisfied: tomli>=1.0.0 in /usr/local/lib/python3.10/dist-packages (from pytest>=3.0.5->nostril==1.2.0) (2.0.1)\n",
            "Building wheels for collected packages: nostril\n",
            "  Building wheel for nostril (setup.py) ... \u001b[?25l\u001b[?25hdone\n",
            "  Created wheel for nostril: filename=nostril-1.2.0-py3-none-any.whl size=5765786 sha256=00320cee9430b3b1ebe9cea3ba78b7cfb654a1f8301e307fbe10862afe9a0487\n",
            "  Stored in directory: /tmp/pip-ephem-wheel-cache-8g0kl5fv/wheels/de/3e/43/5b766704a7dbffce33fcbd15a63a9919cb9cc743e04780b9d6\n",
            "Successfully built nostril\n",
            "Installing collected packages: plac, nostril\n",
            "Successfully installed nostril-1.2.0 plac-1.4.3\n"
          ]
        }
      ]
    },
    {
      "cell_type": "code",
      "source": [
        "pred_list = ['united', 'states', 'of', 'america', 'luere', 'ralling', 'o', 'o', 'v', 'state', 'of', 'iowa', 'sss', 'co', 'scott', 'cunty', 'be', 'it', 'renteutbeted', 'that', 'at', 'e', 'term', 'or', 'the', 'district', 'court', 'holden', 'n', 'and', 'for', 'said', 'county', 'n', 'the', 'e', 'ovcm', 'elc', 'city', 'of', 'davenport', 'theein', 'on', 'the', 'day', 'of', 'in', 'the', 'year', 'of', 'our', 'lord', 'one', 'o', 'susty', 'thousand', 'eight', 'hundre', 'and', 'fuw', 'was', 'present', 'the', 'hororable', 'je', 'scott', 'richmany', 'sole', 'prsiding', 'judge', 'john', 'me', 'lyter', 'sheriff', 'of', 'said', 'county', 'and', 'ira', 't', 'gifford', 'clerk', 'of', 'said', 'court', 'whenthe', 'fol', 'v', 'anws', 'cans', 'olen', 'lowing', 'among', 'other', 'roceedings', 'were', 'had', 'towits', 's', 'a', 'native', 'of', 'a', 'loc', 'prcsens', 'resian', 'vltmm', 'said', 'stater', 'appeared', 'lile', 'open', 'cout', 'icctolente', 'be', 'aemitted', 'oeceme', 'v', 'a', 'citizen', 'of', 'thie', 'uited', 'states', 'oww', 'and', 'it', 'roadwo', 'appearing', 'to', 'cot', 'the', 'oo', 'satifaction', 'of', 'ssked', 'the', 'court', 'that', 'oouns', 'he', 'had', 'declaredn', 'oath', 'c', 'before', 'e', 'a', 'court', 'gf', 'record', 'heing', 'common', 'law', 'jurisdiction', 'and', 'using', 'cl', 'sal', 'two', 'years', 'at', 'least', 'before', 'his', 'admissions', 'that', 'it', 'e', 'was', 'bona', 'fide', 'his', 'inter', 'tion', 'to', 'become', 'a', 'citizen', 'of', 'the', 'united', 'states', 'and', 'to', 'renounce', 'forever', 'all', 'allegiance', 'to', 'cas', 'o', 'foreign', 'prince', 'potentater', 'state', 'or', 'sovereigntys', 'whatsoever', 'and', 'particularly', 'to', 'iw', 'wedens', 'o', 'subile', 'of', 'wh', 'he', 'was', 'heretofore', 'a', 'and', 'laid', 'applicant', 'having', 'declared', 'on', 'oath', 'before', 'this', 'co', 'court', 'that', 'he', 'will', 'support', 'the', 'constitution', 'of', 'the', 'united', 'statess', 'nd', 'that', 'he', 'doth', 'absolutely', 'and', 'entirely', 'renounce', 's', 'and', 'abjure', 'all', 'allegiance', 'and', 'fidelity', 'to', 'every', 'foreign', 'princer', 'poentater', 'state', 'or', 'sovereigntys', 'whatsoever', 'nd', 'pars', 'ticularly', 'to', 'the', 'power', 'above', 'named', 'the', 'court', 'being', 'satisfied', 'that', 'said', 'applicant', 'has', 'resided', 'within', 'the', 'united', 'o', 'states', 'for', 'the', 'term', 'offive', 'years', 'next', 'preceeding', 'his', 'admission', 'without', 'being', 'at', 'any', 'time', 'during', 'the', 'said', 'fre', 'years', 'out', 'of', 'the', 'territory', 'of', 'the', 'united', 'states', 'and', 'within', 'this', 'state', 'onc', 'year', 'at', 'leasty', 'and', 'it', 'further', 'appearing', 'to', 'the', 'n', 'n', 'satisfaction', 'of', 'this', 'court', 'that', 'during', 'that', 'time', 'he', 'has', 'behaved', 'as', 'a', 'man', 'of', 'good', 'moral', 'character', 'attached', 'to', 'the', 'n', 'constitution', 'of', 'the', 'united', 'states', 'and', 'well', 'disposed', 'to', 'the', 'good', 'order', 'and', 'happiness', 'of', 'the', 'same', 'thereuon', 'the', 'court', 'admitted', 'the', 'sald', 'applicant', 'to', 'become', 'a', 'citizen', 'of', 'tho', 'unitod', 'states', 'and', 'ordered', 'all', 'proceedings', 'aoresaid', 'eo', 'to', 'e', 'be', 'entere', 'dl', 'eeo', 'llic', 'cout', 's', 'y', 'testimotty', 'aleeon', 'l', 'ira', 'm', 'giffordy', 'olerk', 'of', 'the', 'court', 'aforesaul', 'have', 'si', 'hereto', 'set', 'my', 'hand', 'and', 'aflxed', 'the', 'seal', 'of', 'sauid', 'court', 'at', 'ofice', 'in', 'hes', 'city', 'e', 'of', 'dawenport', 'in', 'said', 'county', 'this', 'the', 'seen', 'day', 's', 'nnem', 'bes', 'in', 'the', 'year', 'of', 'ourlord', 'one', 'thousanl', 'eight', 'hundred', 'and', 'sixty', 'sangezc', 'clerk', 'f', 'district', 'court', 'n']\n"
      ],
      "metadata": {
        "id": "0iOChY9e9jQz"
      },
      "execution_count": null,
      "outputs": []
    },
    {
      "cell_type": "code",
      "source": [
        "from nostril import nonsense\n",
        "keyword_list = []\n",
        "gibberish_list = []\n",
        "\n",
        "for s in pred_list:\n",
        "    if nonsense(s):\n",
        "        gibberish_list.append(s)\n",
        "    else:\n",
        "        keyword_list.append(s)\n",
        "\n",
        "print(\"Keyword list:\", keyword_list)\n",
        "print(\"Gibberish list:\", gibberish_list)"
      ],
      "metadata": {
        "colab": {
          "base_uri": "https://localhost:8080/",
          "height": 351
        },
        "id": "79DaCv7o-ClC",
        "outputId": "74a66e76-ecca-4589-92c2-9d61d58a2a04"
      },
      "execution_count": null,
      "outputs": [
        {
          "output_type": "error",
          "ename": "ValueError",
          "evalue": "Text is too short to test",
          "traceback": [
            "\u001b[0;31m---------------------------------------------------------------------------\u001b[0m",
            "\u001b[0;31mValueError\u001b[0m                                Traceback (most recent call last)",
            "\u001b[0;32m<ipython-input-4-38b363933bef>\u001b[0m in \u001b[0;36m<cell line: 5>\u001b[0;34m()\u001b[0m\n\u001b[1;32m      4\u001b[0m \u001b[0;34m\u001b[0m\u001b[0m\n\u001b[1;32m      5\u001b[0m \u001b[0;32mfor\u001b[0m \u001b[0ms\u001b[0m \u001b[0;32min\u001b[0m \u001b[0mpred_list\u001b[0m\u001b[0;34m:\u001b[0m\u001b[0;34m\u001b[0m\u001b[0;34m\u001b[0m\u001b[0m\n\u001b[0;32m----> 6\u001b[0;31m     \u001b[0;32mif\u001b[0m \u001b[0mnonsense\u001b[0m\u001b[0;34m(\u001b[0m\u001b[0ms\u001b[0m\u001b[0;34m)\u001b[0m\u001b[0;34m:\u001b[0m\u001b[0;34m\u001b[0m\u001b[0;34m\u001b[0m\u001b[0m\n\u001b[0m\u001b[1;32m      7\u001b[0m         \u001b[0mgibberish_list\u001b[0m\u001b[0;34m.\u001b[0m\u001b[0mappend\u001b[0m\u001b[0;34m(\u001b[0m\u001b[0ms\u001b[0m\u001b[0;34m)\u001b[0m\u001b[0;34m\u001b[0m\u001b[0;34m\u001b[0m\u001b[0m\n\u001b[1;32m      8\u001b[0m     \u001b[0;32melse\u001b[0m\u001b[0;34m:\u001b[0m\u001b[0;34m\u001b[0m\u001b[0;34m\u001b[0m\u001b[0m\n",
            "\u001b[0;32m/usr/local/lib/python3.10/dist-packages/nostril/nonsense_detector.py\u001b[0m in \u001b[0;36mnonsense_detector\u001b[0;34m(s, show)\u001b[0m\n\u001b[1;32m    646\u001b[0m             \u001b[0ms\u001b[0m \u001b[0;34m=\u001b[0m \u001b[0msanitize_string\u001b[0m\u001b[0;34m(\u001b[0m\u001b[0ms\u001b[0m\u001b[0;34m)\u001b[0m\u001b[0;34m\u001b[0m\u001b[0;34m\u001b[0m\u001b[0m\n\u001b[1;32m    647\u001b[0m             \u001b[0;32mif\u001b[0m \u001b[0mlen\u001b[0m\u001b[0;34m(\u001b[0m\u001b[0ms\u001b[0m\u001b[0;34m)\u001b[0m \u001b[0;34m<\u001b[0m \u001b[0mmin_length\u001b[0m\u001b[0;34m:\u001b[0m\u001b[0;34m\u001b[0m\u001b[0;34m\u001b[0m\u001b[0m\n\u001b[0;32m--> 648\u001b[0;31m                 \u001b[0;32mraise\u001b[0m \u001b[0mValueError\u001b[0m\u001b[0;34m(\u001b[0m\u001b[0;34m'Text is too short to test'\u001b[0m\u001b[0;34m)\u001b[0m\u001b[0;34m\u001b[0m\u001b[0;34m\u001b[0m\u001b[0m\n\u001b[0m\u001b[1;32m    649\u001b[0m             return False if _simple_real(s) else (\n\u001b[1;32m    650\u001b[0m                 _simple_nonsense(s) or string_score(s) > min_score)\n",
            "\u001b[0;31mValueError\u001b[0m: Text is too short to test"
          ]
        }
      ]
    },
    {
      "cell_type": "code",
      "source": [
        "!pip install random_string_detector"
      ],
      "metadata": {
        "colab": {
          "base_uri": "https://localhost:8080/"
        },
        "id": "LJ8rI2iDCOsL",
        "outputId": "adba020a-f3c7-457a-8dac-fd1216ccfe20"
      },
      "execution_count": null,
      "outputs": [
        {
          "output_type": "stream",
          "name": "stdout",
          "text": [
            "Collecting random_string_detector\n",
            "  Downloading random_string_detector-1.0.2-py3-none-any.whl (24 kB)\n",
            "Installing collected packages: random_string_detector\n",
            "Successfully installed random_string_detector-1.0.2\n"
          ]
        }
      ]
    },
    {
      "cell_type": "code",
      "source": [
        "from random_string_detector import RandomStringDetector\n",
        "\n",
        "detector = RandomStringDetector()\n",
        "\n",
        "keyword_list = []\n",
        "gibberish_list = []\n",
        "\n",
        "for s in pred_list:\n",
        "    if detector(s) or len(s)<2:\n",
        "        gibberish_list.append(s)\n",
        "    else:\n",
        "        keyword_list.append(s)\n",
        "\n",
        "print(\"Keyword list:\", keyword_list)\n",
        "print(\"Gibberish list:\", gibberish_list)"
      ],
      "metadata": {
        "colab": {
          "base_uri": "https://localhost:8080/"
        },
        "id": "Wn71_JyfCUJy",
        "outputId": "3c656e1d-c97b-4b36-87ef-69866fd5ec96"
      },
      "execution_count": null,
      "outputs": [
        {
          "output_type": "stream",
          "name": "stdout",
          "text": [
            "Keyword list: ['united', 'states', 'of', 'america', 'luere', 'ralling', 'state', 'of', 'iowa', 'sss', 'co', 'scott', 'cunty', 'be', 'it', 'renteutbeted', 'that', 'at', 'term', 'or', 'the', 'district', 'court', 'holden', 'and', 'for', 'said', 'county', 'the', 'elc', 'city', 'of', 'davenport', 'theein', 'on', 'the', 'day', 'of', 'in', 'the', 'year', 'of', 'our', 'lord', 'one', 'susty', 'thousand', 'eight', 'hundre', 'and', 'fuw', 'was', 'present', 'the', 'hororable', 'je', 'scott', 'richmany', 'sole', 'prsiding', 'judge', 'john', 'me', 'lyter', 'sheriff', 'of', 'said', 'county', 'and', 'ira', 'gifford', 'clerk', 'of', 'said', 'court', 'whenthe', 'fol', 'anws', 'cans', 'olen', 'lowing', 'among', 'other', 'roceedings', 'were', 'had', 'towits', 'native', 'of', 'loc', 'prcsens', 'resian', 'vltmm', 'said', 'stater', 'appeared', 'lile', 'open', 'cout', 'icctolente', 'be', 'aemitted', 'oeceme', 'citizen', 'of', 'thie', 'uited', 'states', 'oww', 'and', 'it', 'roadwo', 'appearing', 'to', 'cot', 'the', 'oo', 'satifaction', 'of', 'ssked', 'the', 'court', 'that', 'oouns', 'he', 'had', 'declaredn', 'oath', 'before', 'court', 'gf', 'record', 'heing', 'common', 'law', 'jurisdiction', 'and', 'using', 'cl', 'sal', 'two', 'years', 'at', 'least', 'before', 'his', 'admissions', 'that', 'it', 'was', 'bona', 'fide', 'his', 'inter', 'tion', 'to', 'become', 'citizen', 'of', 'the', 'united', 'states', 'and', 'to', 'renounce', 'forever', 'all', 'allegiance', 'to', 'cas', 'foreign', 'prince', 'potentater', 'state', 'or', 'sovereigntys', 'whatsoever', 'and', 'particularly', 'to', 'iw', 'wedens', 'subile', 'of', 'wh', 'he', 'was', 'heretofore', 'and', 'laid', 'applicant', 'having', 'declared', 'on', 'oath', 'before', 'this', 'co', 'court', 'that', 'he', 'will', 'support', 'the', 'constitution', 'of', 'the', 'united', 'statess', 'nd', 'that', 'he', 'doth', 'absolutely', 'and', 'entirely', 'renounce', 'and', 'abjure', 'all', 'allegiance', 'and', 'fidelity', 'to', 'every', 'foreign', 'princer', 'poentater', 'state', 'or', 'sovereigntys', 'whatsoever', 'nd', 'pars', 'ticularly', 'to', 'the', 'power', 'above', 'named', 'the', 'court', 'being', 'satisfied', 'that', 'said', 'applicant', 'has', 'resided', 'within', 'the', 'united', 'states', 'for', 'the', 'term', 'offive', 'years', 'next', 'preceeding', 'his', 'admission', 'without', 'being', 'at', 'any', 'time', 'during', 'the', 'said', 'fre', 'years', 'out', 'of', 'the', 'territory', 'of', 'the', 'united', 'states', 'and', 'within', 'this', 'state', 'onc', 'year', 'at', 'leasty', 'and', 'it', 'further', 'appearing', 'to', 'the', 'satisfaction', 'of', 'this', 'court', 'that', 'during', 'that', 'time', 'he', 'has', 'behaved', 'as', 'man', 'of', 'good', 'moral', 'character', 'attached', 'to', 'the', 'constitution', 'of', 'the', 'united', 'states', 'and', 'well', 'disposed', 'to', 'the', 'good', 'order', 'and', 'happiness', 'of', 'the', 'same', 'thereuon', 'the', 'court', 'admitted', 'the', 'sald', 'applicant', 'to', 'become', 'citizen', 'of', 'tho', 'unitod', 'states', 'and', 'ordered', 'all', 'proceedings', 'aoresaid', 'eo', 'to', 'be', 'entere', 'dl', 'eeo', 'llic', 'cout', 'testimotty', 'aleeon', 'ira', 'giffordy', 'olerk', 'of', 'the', 'court', 'aforesaul', 'have', 'si', 'hereto', 'set', 'my', 'hand', 'and', 'aflxed', 'the', 'seal', 'of', 'sauid', 'court', 'at', 'ofice', 'in', 'hes', 'city', 'of', 'dawenport', 'in', 'said', 'county', 'this', 'the', 'seen', 'day', 'nnem', 'bes', 'in', 'the', 'year', 'of', 'ourlord', 'one', 'thousanl', 'eight', 'hundred', 'and', 'sixty', 'sangezc', 'clerk', 'district', 'court']\n",
            "Gibberish list: ['o', 'o', 'v', 'e', 'n', 'n', 'e', 'ovcm', 'o', 't', 'v', 's', 'a', 'a', 'v', 'a', 'c', 'e', 'a', 'e', 'a', 'o', 'o', 'a', 's', 'o', 'n', 'n', 'a', 'n', 'a', 'e', 's', 'y', 'l', 'm', 'e', 's', 'f', 'n']\n"
          ]
        }
      ]
    },
    {
      "cell_type": "code",
      "source": [
        "print(f\"==========unfiltered===========\")\n",
        "rate_match(groundtruth_list, pred_list)\n",
        "\n",
        "print(f\"==========no nonsense===========\")\n",
        "rate_match(groundtruth_list, keyword_list)"
      ],
      "metadata": {
        "colab": {
          "base_uri": "https://localhost:8080/"
        },
        "id": "ASSc_bzqDDCx",
        "outputId": "91dd247c-c268-4802-83ba-cf2a17beeeff"
      },
      "execution_count": null,
      "outputs": [
        {
          "output_type": "stream",
          "name": "stdout",
          "text": [
            "==========unfiltered===========\n",
            "groundtruth_list =>['united', 'states', 'of', 'america', 'our', 'liberty', 'we', 'prize', 'and', 'out', 'rights', 'we', 'will', 'maintain', 'state', 'of', 'iowa', 'ss:', 'scott', 'county', 'be', 'it', 'remembered', 'that', 'at', 'a', 'term', 'of', 'the', 'district', 'court', 'holden', 'in', 'and', 'for', 'said', 'county', 'in', 'the', 'city', 'of', 'davenport', 'therein', 'on', 'the', '7', 'day', 'of', 'november', 'in', 'the', 'year', 'of', 'our', 'lord', 'one', 'thousand', 'eight', 'hundred', 'sixtyfour', 'was', 'presentthe', 'honorable', 'j.', 'scott', 'richman', 'sole', 'presiding', 'judge', 'john', 'm.', 'lyter', 'sheriff', 'of', 'said', 'county', 'and', 'ira', 'm.', 'gifford', 'clerk', 'of', 'said', 'court', 'when', 'the', 'fol-', 'lowing', 'among', 'other', 'proceedings', 'were', 'had', 'to', 'wit:', 'hans', 'claus', 'olson', 'a', 'native', 'of', 'norway', 'and', 'at', 'present', 'residing', 'within', 'said', 'state', 'appeared', 'in', 'open', 'court', 'and', 'made', 'application', 'to', 'be', 'admitted', 'to', 'become', 'a', 'citizen', 'of', 'the', 'united', 'states', 'and', 'it', 'appearing', 'to', 'the', 'satisfaction', 'of', 'the', 'court', 'that', 'he', 'had', 'declared', 'an', 'oath', 'before', 'j', 'd', 'paton', 'clerk', 'of', 'the', 'scott', 'co', 'district', 'court', 'a', 'court', 'of', 'record', 'having', 'common', 'law', 'jurisdiction', 'and', 'using', 'a', 'seal', 'two', 'years', 'before', 'his', 'admission', 'that', 'it', 'was', 'bona', 'fide', 'his', 'intention', 'to', 'become', 'a', 'citizen', 'of', 'the', 'united', 'states', 'and', 'to', 'renounce', 'forever', 'all', 'allegiance', 'to', 'any', 'foriegn', 'prince', 'potentiate', 'state', 'or', 'sovereignty', 'whatsoever', 'an', 'particularly', 'to', 'the', 'king', 'of', 'sweden', 'of', 'wh', 'om', 'he', 'was', 'heretofore', 'a', 'subject', 'and', 'said', 'applicant', 'having', 'declared', 'an', 'oth', 'before', 'this', 'court', 'that', 'he', 'will', 'support', 'the', 'constitution', 'of', 'the', 'united', 'states', 'and', 'that', 'he', 'doth', 'absolutely', 'and', 'entirely', 'renounce', 'and', 'and', 'abjure', 'all', 'allegience', 'and', 'fidelity', 'to', 'every', 'foriegn', 'prince', 'potentiate', 'state', 'or', 'sovereignty', 'whatsoever', 'and', 'par-', 'ticularly', 'to', 'the', 'power', 'above', 'named.', 'the', 'court', 'being', 'satisfied', 'that', 'said', 'applicant', 'has', 'resided', 'within', 'the', 'united', 'states', 'for', 'the', 'term', 'of', 'five', 'years', 'next', 'preceeding', 'his', 'admission', 'without', 'being', 'at', 'any', 'time', 'during', 'said', 'five', 'years', 'out', 'of', 'the', 'territory', 'of', 'the', 'united', 'states', 'and', 'within', 'this', 'state', 'one', 'year', 'at', 'least;', 'and', 'it', 'further', 'appearing', 'to', 'the', 'satisfaction', 'of', 'this', 'court', 'that', 'during', 'that', 'time', 'he', 'has', 'behaved', 'as', 'a', 'man', 'of', 'good', 'moral', 'character', 'attached', 'to', 'the', 'constitution', 'of', 'the', 'united', 'states', 'and', 'well', 'disposed', 'to', 'the', 'good', 'order', 'and', 'happiness', 'of', 'the', 'same.', 'thereupon', 'the', 'court', 'admitted', 'the', 'said', 'applicant', 'to', 'become', 'a', 'citizen', 'of', 'the', 'united', 'states', 'and', 'ordered', 'all', 'proceedings', 'aforesaid', 'to', 'be', 'entered', 'of', 'record', 'which', 'was', 'accordingly', 'done', 'by', 'the', 'clerk', 'of', 'this', 'court.', 'in', 'testimony', 'whereof', 'i', 'ira', 'm.', 'gifford', 'clerk', 'of', 'the', 'court', 'aforesaid', 'have', 'hereto', 'set', 'my', 'hand', 'and', 'affixed', 'the', 'seal', 'of', 'said', 'court', 'at', 'office', 'in', 'the', 'city', 'of', 'davenport', 'in', 'sadi', 'county', 'this', 'the', 'seventh', 'day', 'of', 'november', 'in', 'the', 'year', 'of', 'our', 'lord', 'one', 'thousand', 'eighthundred', 'and', 'sixty', 'four', 'ira', 'm', 'gifford', 'clerk', 'of', 'the', 'district', 'court']\n",
            "prediction list=>['united', 'states', 'of', 'america', 'luere', 'ralling', 'o', 'o', 'v', 'state', 'of', 'iowa', 'sss', 'co', 'scott', 'cunty', 'be', 'it', 'renteutbeted', 'that', 'at', 'e', 'term', 'or', 'the', 'district', 'court', 'holden', 'n', 'and', 'for', 'said', 'county', 'n', 'the', 'e', 'ovcm', 'elc', 'city', 'of', 'davenport', 'theein', 'on', 'the', 'day', 'of', 'in', 'the', 'year', 'of', 'our', 'lord', 'one', 'o', 'susty', 'thousand', 'eight', 'hundre', 'and', 'fuw', 'was', 'present', 'the', 'hororable', 'je', 'scott', 'richmany', 'sole', 'prsiding', 'judge', 'john', 'me', 'lyter', 'sheriff', 'of', 'said', 'county', 'and', 'ira', 't', 'gifford', 'clerk', 'of', 'said', 'court', 'whenthe', 'fol', 'v', 'anws', 'cans', 'olen', 'lowing', 'among', 'other', 'roceedings', 'were', 'had', 'towits', 's', 'a', 'native', 'of', 'a', 'loc', 'prcsens', 'resian', 'vltmm', 'said', 'stater', 'appeared', 'lile', 'open', 'cout', 'icctolente', 'be', 'aemitted', 'oeceme', 'v', 'a', 'citizen', 'of', 'thie', 'uited', 'states', 'oww', 'and', 'it', 'roadwo', 'appearing', 'to', 'cot', 'the', 'oo', 'satifaction', 'of', 'ssked', 'the', 'court', 'that', 'oouns', 'he', 'had', 'declaredn', 'oath', 'c', 'before', 'e', 'a', 'court', 'gf', 'record', 'heing', 'common', 'law', 'jurisdiction', 'and', 'using', 'cl', 'sal', 'two', 'years', 'at', 'least', 'before', 'his', 'admissions', 'that', 'it', 'e', 'was', 'bona', 'fide', 'his', 'inter', 'tion', 'to', 'become', 'a', 'citizen', 'of', 'the', 'united', 'states', 'and', 'to', 'renounce', 'forever', 'all', 'allegiance', 'to', 'cas', 'o', 'foreign', 'prince', 'potentater', 'state', 'or', 'sovereigntys', 'whatsoever', 'and', 'particularly', 'to', 'iw', 'wedens', 'o', 'subile', 'of', 'wh', 'he', 'was', 'heretofore', 'a', 'and', 'laid', 'applicant', 'having', 'declared', 'on', 'oath', 'before', 'this', 'co', 'court', 'that', 'he', 'will', 'support', 'the', 'constitution', 'of', 'the', 'united', 'statess', 'nd', 'that', 'he', 'doth', 'absolutely', 'and', 'entirely', 'renounce', 's', 'and', 'abjure', 'all', 'allegiance', 'and', 'fidelity', 'to', 'every', 'foreign', 'princer', 'poentater', 'state', 'or', 'sovereigntys', 'whatsoever', 'nd', 'pars', 'ticularly', 'to', 'the', 'power', 'above', 'named', 'the', 'court', 'being', 'satisfied', 'that', 'said', 'applicant', 'has', 'resided', 'within', 'the', 'united', 'o', 'states', 'for', 'the', 'term', 'offive', 'years', 'next', 'preceeding', 'his', 'admission', 'without', 'being', 'at', 'any', 'time', 'during', 'the', 'said', 'fre', 'years', 'out', 'of', 'the', 'territory', 'of', 'the', 'united', 'states', 'and', 'within', 'this', 'state', 'onc', 'year', 'at', 'leasty', 'and', 'it', 'further', 'appearing', 'to', 'the', 'n', 'n', 'satisfaction', 'of', 'this', 'court', 'that', 'during', 'that', 'time', 'he', 'has', 'behaved', 'as', 'a', 'man', 'of', 'good', 'moral', 'character', 'attached', 'to', 'the', 'n', 'constitution', 'of', 'the', 'united', 'states', 'and', 'well', 'disposed', 'to', 'the', 'good', 'order', 'and', 'happiness', 'of', 'the', 'same', 'thereuon', 'the', 'court', 'admitted', 'the', 'sald', 'applicant', 'to', 'become', 'a', 'citizen', 'of', 'tho', 'unitod', 'states', 'and', 'ordered', 'all', 'proceedings', 'aoresaid', 'eo', 'to', 'e', 'be', 'entere', 'dl', 'eeo', 'llic', 'cout', 's', 'y', 'testimotty', 'aleeon', 'l', 'ira', 'm', 'giffordy', 'olerk', 'of', 'the', 'court', 'aforesaul', 'have', 'si', 'hereto', 'set', 'my', 'hand', 'and', 'aflxed', 'the', 'seal', 'of', 'sauid', 'court', 'at', 'ofice', 'in', 'hes', 'city', 'e', 'of', 'dawenport', 'in', 'said', 'county', 'this', 'the', 'seen', 'day', 's', 'nnem', 'bes', 'in', 'the', 'year', 'of', 'ourlord', 'one', 'thousanl', 'eight', 'hundred', 'and', 'sixty', 'sangezc', 'clerk', 'f', 'district', 'court', 'n']\n",
            "Groundtruth list length: 454\n",
            "Prediction list length: 451\n",
            "Overall accuracy: 29.490022172949004 %\n",
            "Partial match percentage: 17.516629711751662 %\n",
            "\n",
            "Matching words:\n",
            "['united', 'states', 'of', 'america', 'state', 'iowa', 'co', 'scott', 'be', 'it', 'that', 'at', 'term', 'or', 'the', 'district', 'court', 'holden', 'and', 'for', 'said', 'county', 'city', 'davenport', 'on', 'day', 'in', 'year', 'our', 'lord', 'one', 'thousand', 'eight', 'was', 'present', 'sole', 'judge', 'john', 'lyter', 'sheriff', 'ira', 'gifford', 'clerk', 'lowing', 'among', 'other', 'were', 'had', 'a', 'native', 'appeared', 'open', 'citizen', 'appearing', 'to', 'he', 'oath', 'before', 'record', 'common', 'law', 'jurisdiction', 'using', 'two', 'years', 'his', 'bona', 'fide', 'become', 'renounce', 'forever', 'all', 'allegiance', 'prince', 'whatsoever', 'particularly', 'wh', 'heretofore', 'applicant', 'having', 'declared', 'this', 'will', 'support', 'constitution', 'doth', 'absolutely', 'entirely', 'abjure', 'fidelity', 'every', 'ticularly', 'power', 'above', 'being', 'satisfied', 'has', 'resided', 'within', 'next', 'preceeding', 'admission', 'without', 'any', 'time', 'during', 'out', 'territory', 'further', 'satisfaction', 'behaved', 'as', 'man', 'good', 'moral', 'character', 'attached', 'well', 'disposed', 'order', 'happiness', 'admitted', 'ordered', 'proceedings', 'm', 'have', 'hereto', 'set', 'my', 'hand', 'seal', 'hundred', 'sixty']\n",
            "\n",
            "Partially Matching words:\n",
            "['cunty', 'the', 'theein', 'the', 'the', 'hundre', 'and', 'the', 'hororable', 'richmany', 'prsiding', 'and', 'court', 'fol', 'roceedings', 'cout', 'aemitted', 'and', 'the', 'satifaction', 'the', 'court', 'had', 'declaredn', 'court', 'heing', 'and', 'sal', 'least', 'admissions', 'was', 'his', 'and', 'cas', 'foreign', 'potentater', 'sovereigntys', 'and', 'wedens', 'was', 'and', 'oath', 'court', 'and', 'and', 'allegiance', 'and', 'foreign', 'poentater', 'sovereigntys', 'named', 'court', 'applicant', 'for', 'offive', 'and', 'leasty', 'and', 'court', 'has', 'and', 'and', 'same', 'thereuon', 'court', 'applicant', 'and', 'aoresaid', 'entere', 'cout', 'testimotty', 'court', 'and', 'court', 'ofice', 'seen', 'one', 'and', 'court']\n",
            "\n",
            "Mismatched words:\n",
            "['luere', 'ralling', 'o', 'o', 'v', 'of', 'sss', 'renteutbeted', 'e', 'n', 'n', 'e', 'ovcm', 'elc', 'of', 'of', 'of', 'o', 'susty', 'fuw', 'je', 'scott', 'me', 'of', 'said', 'county', 't', 'of', 'said', 'whenthe', 'v', 'anws', 'cans', 'olen', 'towits', 's', 'of', 'a', 'loc', 'prcsens', 'resian', 'vltmm', 'said', 'stater', 'lile', 'icctolente', 'be', 'oeceme', 'v', 'a', 'of', 'thie', 'uited', 'states', 'oww', 'it', 'roadwo', 'cot', 'oo', 'of', 'ssked', 'that', 'oouns', 'c', 'e', 'a', 'gf', 'cl', 'at', 'before', 'that', 'it', 'e', 'inter', 'tion', 'to', 'a', 'citizen', 'of', 'united', 'states', 'to', 'to', 'o', 'state', 'or', 'to', 'iw', 'o', 'subile', 'of', 'he', 'a', 'laid', 'on', 'before', 'co', 'that', 'he', 'of', 'united', 'statess', 'nd', 'that', 'he', 'renounce', 's', 'all', 'to', 'princer', 'state', 'or', 'whatsoever', 'nd', 'pars', 'to', 'that', 'said', 'united', 'o', 'states', 'term', 'years', 'being', 'at', 'said', 'fre', 'years', 'of', 'of', 'united', 'states', 'within', 'this', 'state', 'onc', 'year', 'at', 'it', 'appearing', 'to', 'n', 'n', 'of', 'this', 'that', 'during', 'that', 'time', 'he', 'a', 'of', 'to', 'n', 'constitution', 'of', 'united', 'states', 'to', 'good', 'of', 'sald', 'to', 'become', 'a', 'citizen', 'of', 'tho', 'unitod', 'states', 'all', 'eo', 'to', 'e', 'be', 'dl', 'eeo', 'llic', 's', 'y', 'aleeon', 'l', 'ira', 'giffordy', 'olerk', 'of', 'aforesaul', 'si', 'aflxed', 'of', 'sauid', 'at', 'in', 'hes', 'city', 'e', 'of', 'dawenport', 'in', 'said', 'county', 'this', 'day', 's', 'nnem', 'bes', 'in', 'year', 'of', 'ourlord', 'thousanl', 'eight', 'sangezc', 'clerk', 'f', 'district', 'n']\n",
            "==========no nonsense===========\n",
            "groundtruth_list =>['united', 'states', 'of', 'america', 'our', 'liberty', 'we', 'prize', 'and', 'out', 'rights', 'we', 'will', 'maintain', 'state', 'of', 'iowa', 'ss:', 'scott', 'county', 'be', 'it', 'remembered', 'that', 'at', 'a', 'term', 'of', 'the', 'district', 'court', 'holden', 'in', 'and', 'for', 'said', 'county', 'in', 'the', 'city', 'of', 'davenport', 'therein', 'on', 'the', '7', 'day', 'of', 'november', 'in', 'the', 'year', 'of', 'our', 'lord', 'one', 'thousand', 'eight', 'hundred', 'sixtyfour', 'was', 'presentthe', 'honorable', 'j.', 'scott', 'richman', 'sole', 'presiding', 'judge', 'john', 'm.', 'lyter', 'sheriff', 'of', 'said', 'county', 'and', 'ira', 'm.', 'gifford', 'clerk', 'of', 'said', 'court', 'when', 'the', 'fol-', 'lowing', 'among', 'other', 'proceedings', 'were', 'had', 'to', 'wit:', 'hans', 'claus', 'olson', 'a', 'native', 'of', 'norway', 'and', 'at', 'present', 'residing', 'within', 'said', 'state', 'appeared', 'in', 'open', 'court', 'and', 'made', 'application', 'to', 'be', 'admitted', 'to', 'become', 'a', 'citizen', 'of', 'the', 'united', 'states', 'and', 'it', 'appearing', 'to', 'the', 'satisfaction', 'of', 'the', 'court', 'that', 'he', 'had', 'declared', 'an', 'oath', 'before', 'j', 'd', 'paton', 'clerk', 'of', 'the', 'scott', 'co', 'district', 'court', 'a', 'court', 'of', 'record', 'having', 'common', 'law', 'jurisdiction', 'and', 'using', 'a', 'seal', 'two', 'years', 'before', 'his', 'admission', 'that', 'it', 'was', 'bona', 'fide', 'his', 'intention', 'to', 'become', 'a', 'citizen', 'of', 'the', 'united', 'states', 'and', 'to', 'renounce', 'forever', 'all', 'allegiance', 'to', 'any', 'foriegn', 'prince', 'potentiate', 'state', 'or', 'sovereignty', 'whatsoever', 'an', 'particularly', 'to', 'the', 'king', 'of', 'sweden', 'of', 'wh', 'om', 'he', 'was', 'heretofore', 'a', 'subject', 'and', 'said', 'applicant', 'having', 'declared', 'an', 'oth', 'before', 'this', 'court', 'that', 'he', 'will', 'support', 'the', 'constitution', 'of', 'the', 'united', 'states', 'and', 'that', 'he', 'doth', 'absolutely', 'and', 'entirely', 'renounce', 'and', 'and', 'abjure', 'all', 'allegience', 'and', 'fidelity', 'to', 'every', 'foriegn', 'prince', 'potentiate', 'state', 'or', 'sovereignty', 'whatsoever', 'and', 'par-', 'ticularly', 'to', 'the', 'power', 'above', 'named.', 'the', 'court', 'being', 'satisfied', 'that', 'said', 'applicant', 'has', 'resided', 'within', 'the', 'united', 'states', 'for', 'the', 'term', 'of', 'five', 'years', 'next', 'preceeding', 'his', 'admission', 'without', 'being', 'at', 'any', 'time', 'during', 'said', 'five', 'years', 'out', 'of', 'the', 'territory', 'of', 'the', 'united', 'states', 'and', 'within', 'this', 'state', 'one', 'year', 'at', 'least;', 'and', 'it', 'further', 'appearing', 'to', 'the', 'satisfaction', 'of', 'this', 'court', 'that', 'during', 'that', 'time', 'he', 'has', 'behaved', 'as', 'a', 'man', 'of', 'good', 'moral', 'character', 'attached', 'to', 'the', 'constitution', 'of', 'the', 'united', 'states', 'and', 'well', 'disposed', 'to', 'the', 'good', 'order', 'and', 'happiness', 'of', 'the', 'same.', 'thereupon', 'the', 'court', 'admitted', 'the', 'said', 'applicant', 'to', 'become', 'a', 'citizen', 'of', 'the', 'united', 'states', 'and', 'ordered', 'all', 'proceedings', 'aforesaid', 'to', 'be', 'entered', 'of', 'record', 'which', 'was', 'accordingly', 'done', 'by', 'the', 'clerk', 'of', 'this', 'court.', 'in', 'testimony', 'whereof', 'i', 'ira', 'm.', 'gifford', 'clerk', 'of', 'the', 'court', 'aforesaid', 'have', 'hereto', 'set', 'my', 'hand', 'and', 'affixed', 'the', 'seal', 'of', 'said', 'court', 'at', 'office', 'in', 'the', 'city', 'of', 'davenport', 'in', 'sadi', 'county', 'this', 'the', 'seventh', 'day', 'of', 'november', 'in', 'the', 'year', 'of', 'our', 'lord', 'one', 'thousand', 'eighthundred', 'and', 'sixty', 'four', 'ira', 'm', 'gifford', 'clerk', 'of', 'the', 'district', 'court']\n",
            "prediction list=>['united', 'states', 'of', 'america', 'luere', 'ralling', 'state', 'of', 'iowa', 'sss', 'co', 'scott', 'cunty', 'be', 'it', 'renteutbeted', 'that', 'at', 'term', 'or', 'the', 'district', 'court', 'holden', 'and', 'for', 'said', 'county', 'the', 'elc', 'city', 'of', 'davenport', 'theein', 'on', 'the', 'day', 'of', 'in', 'the', 'year', 'of', 'our', 'lord', 'one', 'susty', 'thousand', 'eight', 'hundre', 'and', 'fuw', 'was', 'present', 'the', 'hororable', 'je', 'scott', 'richmany', 'sole', 'prsiding', 'judge', 'john', 'me', 'lyter', 'sheriff', 'of', 'said', 'county', 'and', 'ira', 'gifford', 'clerk', 'of', 'said', 'court', 'whenthe', 'fol', 'anws', 'cans', 'olen', 'lowing', 'among', 'other', 'roceedings', 'were', 'had', 'towits', 'native', 'of', 'loc', 'prcsens', 'resian', 'vltmm', 'said', 'stater', 'appeared', 'lile', 'open', 'cout', 'icctolente', 'be', 'aemitted', 'oeceme', 'citizen', 'of', 'thie', 'uited', 'states', 'oww', 'and', 'it', 'roadwo', 'appearing', 'to', 'cot', 'the', 'oo', 'satifaction', 'of', 'ssked', 'the', 'court', 'that', 'oouns', 'he', 'had', 'declaredn', 'oath', 'before', 'court', 'gf', 'record', 'heing', 'common', 'law', 'jurisdiction', 'and', 'using', 'cl', 'sal', 'two', 'years', 'at', 'least', 'before', 'his', 'admissions', 'that', 'it', 'was', 'bona', 'fide', 'his', 'inter', 'tion', 'to', 'become', 'citizen', 'of', 'the', 'united', 'states', 'and', 'to', 'renounce', 'forever', 'all', 'allegiance', 'to', 'cas', 'foreign', 'prince', 'potentater', 'state', 'or', 'sovereigntys', 'whatsoever', 'and', 'particularly', 'to', 'iw', 'wedens', 'subile', 'of', 'wh', 'he', 'was', 'heretofore', 'and', 'laid', 'applicant', 'having', 'declared', 'on', 'oath', 'before', 'this', 'co', 'court', 'that', 'he', 'will', 'support', 'the', 'constitution', 'of', 'the', 'united', 'statess', 'nd', 'that', 'he', 'doth', 'absolutely', 'and', 'entirely', 'renounce', 'and', 'abjure', 'all', 'allegiance', 'and', 'fidelity', 'to', 'every', 'foreign', 'princer', 'poentater', 'state', 'or', 'sovereigntys', 'whatsoever', 'nd', 'pars', 'ticularly', 'to', 'the', 'power', 'above', 'named', 'the', 'court', 'being', 'satisfied', 'that', 'said', 'applicant', 'has', 'resided', 'within', 'the', 'united', 'states', 'for', 'the', 'term', 'offive', 'years', 'next', 'preceeding', 'his', 'admission', 'without', 'being', 'at', 'any', 'time', 'during', 'the', 'said', 'fre', 'years', 'out', 'of', 'the', 'territory', 'of', 'the', 'united', 'states', 'and', 'within', 'this', 'state', 'onc', 'year', 'at', 'leasty', 'and', 'it', 'further', 'appearing', 'to', 'the', 'satisfaction', 'of', 'this', 'court', 'that', 'during', 'that', 'time', 'he', 'has', 'behaved', 'as', 'man', 'of', 'good', 'moral', 'character', 'attached', 'to', 'the', 'constitution', 'of', 'the', 'united', 'states', 'and', 'well', 'disposed', 'to', 'the', 'good', 'order', 'and', 'happiness', 'of', 'the', 'same', 'thereuon', 'the', 'court', 'admitted', 'the', 'sald', 'applicant', 'to', 'become', 'citizen', 'of', 'tho', 'unitod', 'states', 'and', 'ordered', 'all', 'proceedings', 'aoresaid', 'eo', 'to', 'be', 'entere', 'dl', 'eeo', 'llic', 'cout', 'testimotty', 'aleeon', 'ira', 'giffordy', 'olerk', 'of', 'the', 'court', 'aforesaul', 'have', 'si', 'hereto', 'set', 'my', 'hand', 'and', 'aflxed', 'the', 'seal', 'of', 'sauid', 'court', 'at', 'ofice', 'in', 'hes', 'city', 'of', 'dawenport', 'in', 'said', 'county', 'this', 'the', 'seen', 'day', 'nnem', 'bes', 'in', 'the', 'year', 'of', 'ourlord', 'one', 'thousanl', 'eight', 'hundred', 'and', 'sixty', 'sangezc', 'clerk', 'district', 'court']\n",
            "Groundtruth list length: 454\n",
            "Prediction list length: 411\n",
            "Overall accuracy: 31.873479318734795 %\n",
            "Partial match percentage: 19.22141119221411 %\n",
            "\n",
            "Matching words:\n",
            "['united', 'states', 'of', 'america', 'state', 'iowa', 'co', 'scott', 'be', 'it', 'that', 'at', 'term', 'or', 'the', 'district', 'court', 'holden', 'and', 'for', 'said', 'county', 'city', 'davenport', 'on', 'day', 'in', 'year', 'our', 'lord', 'one', 'thousand', 'eight', 'was', 'present', 'sole', 'judge', 'john', 'lyter', 'sheriff', 'ira', 'gifford', 'clerk', 'lowing', 'among', 'other', 'were', 'had', 'native', 'appeared', 'open', 'citizen', 'appearing', 'to', 'he', 'oath', 'before', 'record', 'common', 'law', 'jurisdiction', 'using', 'two', 'years', 'his', 'bona', 'fide', 'become', 'renounce', 'forever', 'all', 'allegiance', 'prince', 'whatsoever', 'particularly', 'wh', 'heretofore', 'applicant', 'having', 'declared', 'this', 'will', 'support', 'constitution', 'doth', 'absolutely', 'entirely', 'abjure', 'fidelity', 'every', 'ticularly', 'power', 'above', 'being', 'satisfied', 'has', 'resided', 'within', 'next', 'preceeding', 'admission', 'without', 'any', 'time', 'during', 'out', 'territory', 'further', 'satisfaction', 'behaved', 'as', 'man', 'good', 'moral', 'character', 'attached', 'well', 'disposed', 'order', 'happiness', 'admitted', 'ordered', 'proceedings', 'have', 'hereto', 'set', 'my', 'hand', 'seal', 'hundred', 'sixty']\n",
            "\n",
            "Partially Matching words:\n",
            "['cunty', 'the', 'theein', 'the', 'the', 'hundre', 'and', 'the', 'hororable', 'richmany', 'prsiding', 'and', 'court', 'fol', 'roceedings', 'cout', 'aemitted', 'and', 'the', 'satifaction', 'the', 'court', 'had', 'declaredn', 'court', 'heing', 'and', 'sal', 'least', 'admissions', 'was', 'his', 'and', 'cas', 'foreign', 'potentater', 'sovereigntys', 'and', 'wedens', 'was', 'and', 'oath', 'court', 'and', 'and', 'allegiance', 'and', 'foreign', 'poentater', 'sovereigntys', 'named', 'court', 'applicant', 'for', 'offive', 'and', 'leasty', 'and', 'court', 'has', 'and', 'and', 'same', 'thereuon', 'court', 'applicant', 'and', 'aoresaid', 'entere', 'cout', 'testimotty', 'court', 'and', 'court', 'ofice', 'seen', 'one', 'and', 'court']\n",
            "\n",
            "Mismatched words:\n",
            "['luere', 'ralling', 'of', 'sss', 'renteutbeted', 'elc', 'of', 'of', 'of', 'susty', 'fuw', 'je', 'scott', 'me', 'of', 'said', 'county', 'of', 'said', 'whenthe', 'anws', 'cans', 'olen', 'towits', 'of', 'loc', 'prcsens', 'resian', 'vltmm', 'said', 'stater', 'lile', 'icctolente', 'be', 'oeceme', 'of', 'thie', 'uited', 'states', 'oww', 'it', 'roadwo', 'cot', 'oo', 'of', 'ssked', 'that', 'oouns', 'gf', 'cl', 'at', 'before', 'that', 'it', 'inter', 'tion', 'to', 'citizen', 'of', 'united', 'states', 'to', 'to', 'state', 'or', 'to', 'iw', 'subile', 'of', 'he', 'laid', 'on', 'before', 'co', 'that', 'he', 'of', 'united', 'statess', 'nd', 'that', 'he', 'renounce', 'all', 'to', 'princer', 'state', 'or', 'whatsoever', 'nd', 'pars', 'to', 'that', 'said', 'united', 'states', 'term', 'years', 'being', 'at', 'said', 'fre', 'years', 'of', 'of', 'united', 'states', 'within', 'this', 'state', 'onc', 'year', 'at', 'it', 'appearing', 'to', 'of', 'this', 'that', 'during', 'that', 'time', 'he', 'of', 'to', 'constitution', 'of', 'united', 'states', 'to', 'good', 'of', 'sald', 'to', 'become', 'citizen', 'of', 'tho', 'unitod', 'states', 'all', 'eo', 'to', 'be', 'dl', 'eeo', 'llic', 'aleeon', 'ira', 'giffordy', 'olerk', 'of', 'aforesaul', 'si', 'aflxed', 'of', 'sauid', 'at', 'in', 'hes', 'city', 'of', 'dawenport', 'in', 'said', 'county', 'this', 'day', 'nnem', 'bes', 'in', 'year', 'of', 'ourlord', 'thousanl', 'eight', 'sangezc', 'clerk', 'district']\n"
          ]
        },
        {
          "output_type": "execute_result",
          "data": {
            "text/plain": [
              "(131, 79, 31.873479318734795, 19.22141119221411)"
            ]
          },
          "metadata": {},
          "execution_count": 16
        }
      ]
    }
  ]
}